{
  "nbformat": 4,
  "nbformat_minor": 0,
  "metadata": {
    "colab": {
      "provenance": []
    },
    "kernelspec": {
      "name": "python3",
      "display_name": "Python 3"
    },
    "language_info": {
      "name": "python"
    }
  },
  "cells": [
    {
      "cell_type": "code",
      "execution_count": 48,
      "metadata": {
        "id": "OGMrHFj3tjyy"
      },
      "outputs": [],
      "source": [
        "import numpy as np\n",
        "import pandas as pd \n",
        "import matplotlib.pyplot as plt\n",
        "import seaborn as sns\n",
        "from sklearn.metrics import roc_curve, auc, f1_score, confusion_matrix, roc_auc_score, precision_score, recall_score\n",
        "from sklearn.calibration import CalibratedClassifierCV\n",
        "from sklearn.ensemble import RandomForestClassifier, AdaBoostClassifier, GradientBoostingClassifier, VotingClassifier\n",
        "from sklearn.naive_bayes import GaussianNB\n",
        "from sklearn.model_selection import GridSearchCV, RandomizedSearchCV, train_test_split\n",
        "from sklearn.tree import DecisionTreeClassifier\n",
        "from xgboost import XGBClassifier\n",
        "from sklearn import svm, metrics, linear_model\n",
        "\n"
      ]
    },
    {
      "cell_type": "code",
      "source": [
        "import pandas as pd\n",
        "Final_Dataset_Provider_Train = pd.read_csv('/content/Final_Dataset_Provider_Train.csv')\n",
        "Final_Dataset_Provider_Test = pd.read_csv('/content/Final_Dataset_Provider_Test.csv')"
      ],
      "metadata": {
        "id": "93LIklxuuyH6"
      },
      "execution_count": 49,
      "outputs": []
    },
    {
      "cell_type": "code",
      "source": [
        "Final_Dataset_Provider_Train.shape"
      ],
      "metadata": {
        "colab": {
          "base_uri": "https://localhost:8080/",
          "height": 0
        },
        "id": "qs8K1sZJuyKu",
        "outputId": "f10d760d-abd8-49bf-c20d-7bf1416367f6"
      },
      "execution_count": 50,
      "outputs": [
        {
          "output_type": "execute_result",
          "data": {
            "text/plain": [
              "(5410, 240)"
            ]
          },
          "metadata": {},
          "execution_count": 50
        }
      ]
    },
    {
      "cell_type": "code",
      "source": [
        "Final_Dataset_Provider_Train['PotentialFraud'].replace(to_replace=['Yes','No'], value=[1,0], inplace=True)\n"
      ],
      "metadata": {
        "id": "Jou_bbbGuyNY"
      },
      "execution_count": 51,
      "outputs": []
    },
    {
      "cell_type": "code",
      "source": [
        "Final_Dataset_Provider_Train.head(5)"
      ],
      "metadata": {
        "colab": {
          "base_uri": "https://localhost:8080/",
          "height": 299
        },
        "id": "Bk5FymfluyQH",
        "outputId": "ce433405-57b3-47c1-a5d5-eef89e50e63e"
      },
      "execution_count": 52,
      "outputs": [
        {
          "output_type": "execute_result",
          "data": {
            "text/plain": [
              "   Provider  PotentialFraud  InscClaimAmtReimbursed  DeductibleAmtPaid  \\\n",
              "0  PRV51001               0                  104640             5340.0   \n",
              "1  PRV51003               1                  605670            66286.0   \n",
              "2  PRV51004               0                   52170              310.0   \n",
              "3  PRV51005               1                  280910             3700.0   \n",
              "4  PRV51007               0                   33710             3264.0   \n",
              "\n",
              "   ClmProcedureCode_6  Hospitalization_Duration  Claim_Period  \\\n",
              "0                 0.0                      30.0            61   \n",
              "1                 0.0                     382.0           617   \n",
              "2                 0.0                       0.0           362   \n",
              "3                 0.0                       0.0          2433   \n",
              "4                 0.0                      19.0           141   \n",
              "\n",
              "   ClaimStart_Year  ClaimStart_Month  ClaimEnd_Year  ...  \\\n",
              "0            50225               125          50225  ...   \n",
              "1           265187               804         265188  ...   \n",
              "2           299341               926         299341  ...   \n",
              "3          2340483              7376        2340485  ...   \n",
              "4           144648               448         144648  ...   \n",
              "\n",
              "   PerClmAdmitDiagnosisCode_mean_patient_age  \\\n",
              "0                                1872.124752   \n",
              "1                                9752.142258   \n",
              "2                               10975.369856   \n",
              "3                               85836.366022   \n",
              "4                                5304.497707   \n",
              "\n",
              "   PerClmAdmitDiagnosisCode_mean_Hospitalization_Duration  \\\n",
              "0                                          34.488500        \n",
              "1                                         248.575108        \n",
              "2                                          45.457451        \n",
              "3                                         189.910839        \n",
              "4                                          35.451045        \n",
              "\n",
              "   PerClmAdmitDiagnosisCode_mean_Claim_Period  \\\n",
              "0                                   79.928594   \n",
              "1                                  465.823969   \n",
              "2                                  392.930581   \n",
              "3                                 2914.730682   \n",
              "4                                  201.410628   \n",
              "\n",
              "   PerClmAdmitDiagnosisCode_mean_patient_risk_score  Gender_0  Gender_1  \\\n",
              "0                                        128.360407      16.0       9.0   \n",
              "1                                        662.905082      78.0      54.0   \n",
              "2                                        690.434231     103.0      46.0   \n",
              "3                                       5369.285209     654.0     511.0   \n",
              "4                                        337.941920      38.0      34.0   \n",
              "\n",
              "   Race_1  Race_2  Race_3  Race_5  \n",
              "0    21.0     4.0     0.0     0.0  \n",
              "1   107.0    24.0     0.0     1.0  \n",
              "2   120.0    24.0     5.0     0.0  \n",
              "3   893.0   262.0    10.0     0.0  \n",
              "4    58.0    14.0     0.0     0.0  \n",
              "\n",
              "[5 rows x 240 columns]"
            ],
            "text/html": [
              "\n",
              "  <div id=\"df-8f9efc0f-1bda-40d1-ad64-011b7ba9d0d2\">\n",
              "    <div class=\"colab-df-container\">\n",
              "      <div>\n",
              "<style scoped>\n",
              "    .dataframe tbody tr th:only-of-type {\n",
              "        vertical-align: middle;\n",
              "    }\n",
              "\n",
              "    .dataframe tbody tr th {\n",
              "        vertical-align: top;\n",
              "    }\n",
              "\n",
              "    .dataframe thead th {\n",
              "        text-align: right;\n",
              "    }\n",
              "</style>\n",
              "<table border=\"1\" class=\"dataframe\">\n",
              "  <thead>\n",
              "    <tr style=\"text-align: right;\">\n",
              "      <th></th>\n",
              "      <th>Provider</th>\n",
              "      <th>PotentialFraud</th>\n",
              "      <th>InscClaimAmtReimbursed</th>\n",
              "      <th>DeductibleAmtPaid</th>\n",
              "      <th>ClmProcedureCode_6</th>\n",
              "      <th>Hospitalization_Duration</th>\n",
              "      <th>Claim_Period</th>\n",
              "      <th>ClaimStart_Year</th>\n",
              "      <th>ClaimStart_Month</th>\n",
              "      <th>ClaimEnd_Year</th>\n",
              "      <th>...</th>\n",
              "      <th>PerClmAdmitDiagnosisCode_mean_patient_age</th>\n",
              "      <th>PerClmAdmitDiagnosisCode_mean_Hospitalization_Duration</th>\n",
              "      <th>PerClmAdmitDiagnosisCode_mean_Claim_Period</th>\n",
              "      <th>PerClmAdmitDiagnosisCode_mean_patient_risk_score</th>\n",
              "      <th>Gender_0</th>\n",
              "      <th>Gender_1</th>\n",
              "      <th>Race_1</th>\n",
              "      <th>Race_2</th>\n",
              "      <th>Race_3</th>\n",
              "      <th>Race_5</th>\n",
              "    </tr>\n",
              "  </thead>\n",
              "  <tbody>\n",
              "    <tr>\n",
              "      <th>0</th>\n",
              "      <td>PRV51001</td>\n",
              "      <td>0</td>\n",
              "      <td>104640</td>\n",
              "      <td>5340.0</td>\n",
              "      <td>0.0</td>\n",
              "      <td>30.0</td>\n",
              "      <td>61</td>\n",
              "      <td>50225</td>\n",
              "      <td>125</td>\n",
              "      <td>50225</td>\n",
              "      <td>...</td>\n",
              "      <td>1872.124752</td>\n",
              "      <td>34.488500</td>\n",
              "      <td>79.928594</td>\n",
              "      <td>128.360407</td>\n",
              "      <td>16.0</td>\n",
              "      <td>9.0</td>\n",
              "      <td>21.0</td>\n",
              "      <td>4.0</td>\n",
              "      <td>0.0</td>\n",
              "      <td>0.0</td>\n",
              "    </tr>\n",
              "    <tr>\n",
              "      <th>1</th>\n",
              "      <td>PRV51003</td>\n",
              "      <td>1</td>\n",
              "      <td>605670</td>\n",
              "      <td>66286.0</td>\n",
              "      <td>0.0</td>\n",
              "      <td>382.0</td>\n",
              "      <td>617</td>\n",
              "      <td>265187</td>\n",
              "      <td>804</td>\n",
              "      <td>265188</td>\n",
              "      <td>...</td>\n",
              "      <td>9752.142258</td>\n",
              "      <td>248.575108</td>\n",
              "      <td>465.823969</td>\n",
              "      <td>662.905082</td>\n",
              "      <td>78.0</td>\n",
              "      <td>54.0</td>\n",
              "      <td>107.0</td>\n",
              "      <td>24.0</td>\n",
              "      <td>0.0</td>\n",
              "      <td>1.0</td>\n",
              "    </tr>\n",
              "    <tr>\n",
              "      <th>2</th>\n",
              "      <td>PRV51004</td>\n",
              "      <td>0</td>\n",
              "      <td>52170</td>\n",
              "      <td>310.0</td>\n",
              "      <td>0.0</td>\n",
              "      <td>0.0</td>\n",
              "      <td>362</td>\n",
              "      <td>299341</td>\n",
              "      <td>926</td>\n",
              "      <td>299341</td>\n",
              "      <td>...</td>\n",
              "      <td>10975.369856</td>\n",
              "      <td>45.457451</td>\n",
              "      <td>392.930581</td>\n",
              "      <td>690.434231</td>\n",
              "      <td>103.0</td>\n",
              "      <td>46.0</td>\n",
              "      <td>120.0</td>\n",
              "      <td>24.0</td>\n",
              "      <td>5.0</td>\n",
              "      <td>0.0</td>\n",
              "    </tr>\n",
              "    <tr>\n",
              "      <th>3</th>\n",
              "      <td>PRV51005</td>\n",
              "      <td>1</td>\n",
              "      <td>280910</td>\n",
              "      <td>3700.0</td>\n",
              "      <td>0.0</td>\n",
              "      <td>0.0</td>\n",
              "      <td>2433</td>\n",
              "      <td>2340483</td>\n",
              "      <td>7376</td>\n",
              "      <td>2340485</td>\n",
              "      <td>...</td>\n",
              "      <td>85836.366022</td>\n",
              "      <td>189.910839</td>\n",
              "      <td>2914.730682</td>\n",
              "      <td>5369.285209</td>\n",
              "      <td>654.0</td>\n",
              "      <td>511.0</td>\n",
              "      <td>893.0</td>\n",
              "      <td>262.0</td>\n",
              "      <td>10.0</td>\n",
              "      <td>0.0</td>\n",
              "    </tr>\n",
              "    <tr>\n",
              "      <th>4</th>\n",
              "      <td>PRV51007</td>\n",
              "      <td>0</td>\n",
              "      <td>33710</td>\n",
              "      <td>3264.0</td>\n",
              "      <td>0.0</td>\n",
              "      <td>19.0</td>\n",
              "      <td>141</td>\n",
              "      <td>144648</td>\n",
              "      <td>448</td>\n",
              "      <td>144648</td>\n",
              "      <td>...</td>\n",
              "      <td>5304.497707</td>\n",
              "      <td>35.451045</td>\n",
              "      <td>201.410628</td>\n",
              "      <td>337.941920</td>\n",
              "      <td>38.0</td>\n",
              "      <td>34.0</td>\n",
              "      <td>58.0</td>\n",
              "      <td>14.0</td>\n",
              "      <td>0.0</td>\n",
              "      <td>0.0</td>\n",
              "    </tr>\n",
              "  </tbody>\n",
              "</table>\n",
              "<p>5 rows × 240 columns</p>\n",
              "</div>\n",
              "      <button class=\"colab-df-convert\" onclick=\"convertToInteractive('df-8f9efc0f-1bda-40d1-ad64-011b7ba9d0d2')\"\n",
              "              title=\"Convert this dataframe to an interactive table.\"\n",
              "              style=\"display:none;\">\n",
              "        \n",
              "  <svg xmlns=\"http://www.w3.org/2000/svg\" height=\"24px\"viewBox=\"0 0 24 24\"\n",
              "       width=\"24px\">\n",
              "    <path d=\"M0 0h24v24H0V0z\" fill=\"none\"/>\n",
              "    <path d=\"M18.56 5.44l.94 2.06.94-2.06 2.06-.94-2.06-.94-.94-2.06-.94 2.06-2.06.94zm-11 1L8.5 8.5l.94-2.06 2.06-.94-2.06-.94L8.5 2.5l-.94 2.06-2.06.94zm10 10l.94 2.06.94-2.06 2.06-.94-2.06-.94-.94-2.06-.94 2.06-2.06.94z\"/><path d=\"M17.41 7.96l-1.37-1.37c-.4-.4-.92-.59-1.43-.59-.52 0-1.04.2-1.43.59L10.3 9.45l-7.72 7.72c-.78.78-.78 2.05 0 2.83L4 21.41c.39.39.9.59 1.41.59.51 0 1.02-.2 1.41-.59l7.78-7.78 2.81-2.81c.8-.78.8-2.07 0-2.86zM5.41 20L4 18.59l7.72-7.72 1.47 1.35L5.41 20z\"/>\n",
              "  </svg>\n",
              "      </button>\n",
              "      \n",
              "  <style>\n",
              "    .colab-df-container {\n",
              "      display:flex;\n",
              "      flex-wrap:wrap;\n",
              "      gap: 12px;\n",
              "    }\n",
              "\n",
              "    .colab-df-convert {\n",
              "      background-color: #E8F0FE;\n",
              "      border: none;\n",
              "      border-radius: 50%;\n",
              "      cursor: pointer;\n",
              "      display: none;\n",
              "      fill: #1967D2;\n",
              "      height: 32px;\n",
              "      padding: 0 0 0 0;\n",
              "      width: 32px;\n",
              "    }\n",
              "\n",
              "    .colab-df-convert:hover {\n",
              "      background-color: #E2EBFA;\n",
              "      box-shadow: 0px 1px 2px rgba(60, 64, 67, 0.3), 0px 1px 3px 1px rgba(60, 64, 67, 0.15);\n",
              "      fill: #174EA6;\n",
              "    }\n",
              "\n",
              "    [theme=dark] .colab-df-convert {\n",
              "      background-color: #3B4455;\n",
              "      fill: #D2E3FC;\n",
              "    }\n",
              "\n",
              "    [theme=dark] .colab-df-convert:hover {\n",
              "      background-color: #434B5C;\n",
              "      box-shadow: 0px 1px 3px 1px rgba(0, 0, 0, 0.15);\n",
              "      filter: drop-shadow(0px 1px 2px rgba(0, 0, 0, 0.3));\n",
              "      fill: #FFFFFF;\n",
              "    }\n",
              "  </style>\n",
              "\n",
              "      <script>\n",
              "        const buttonEl =\n",
              "          document.querySelector('#df-8f9efc0f-1bda-40d1-ad64-011b7ba9d0d2 button.colab-df-convert');\n",
              "        buttonEl.style.display =\n",
              "          google.colab.kernel.accessAllowed ? 'block' : 'none';\n",
              "\n",
              "        async function convertToInteractive(key) {\n",
              "          const element = document.querySelector('#df-8f9efc0f-1bda-40d1-ad64-011b7ba9d0d2');\n",
              "          const dataTable =\n",
              "            await google.colab.kernel.invokeFunction('convertToInteractive',\n",
              "                                                     [key], {});\n",
              "          if (!dataTable) return;\n",
              "\n",
              "          const docLinkHtml = 'Like what you see? Visit the ' +\n",
              "            '<a target=\"_blank\" href=https://colab.research.google.com/notebooks/data_table.ipynb>data table notebook</a>'\n",
              "            + ' to learn more about interactive tables.';\n",
              "          element.innerHTML = '';\n",
              "          dataTable['output_type'] = 'display_data';\n",
              "          await google.colab.output.renderOutput(dataTable, element);\n",
              "          const docLink = document.createElement('div');\n",
              "          docLink.innerHTML = docLinkHtml;\n",
              "          element.appendChild(docLink);\n",
              "        }\n",
              "      </script>\n",
              "    </div>\n",
              "  </div>\n",
              "  "
            ]
          },
          "metadata": {},
          "execution_count": 52
        }
      ]
    },
    {
      "cell_type": "code",
      "source": [
        "Final_Dataset_Provider_Train.head(5)"
      ],
      "metadata": {
        "colab": {
          "base_uri": "https://localhost:8080/",
          "height": 299
        },
        "id": "pwCu351cuyS2",
        "outputId": "2d3b22af-7ab6-48ff-84b7-22942fcabdc0"
      },
      "execution_count": 53,
      "outputs": [
        {
          "output_type": "execute_result",
          "data": {
            "text/plain": [
              "   Provider  PotentialFraud  InscClaimAmtReimbursed  DeductibleAmtPaid  \\\n",
              "0  PRV51001               0                  104640             5340.0   \n",
              "1  PRV51003               1                  605670            66286.0   \n",
              "2  PRV51004               0                   52170              310.0   \n",
              "3  PRV51005               1                  280910             3700.0   \n",
              "4  PRV51007               0                   33710             3264.0   \n",
              "\n",
              "   ClmProcedureCode_6  Hospitalization_Duration  Claim_Period  \\\n",
              "0                 0.0                      30.0            61   \n",
              "1                 0.0                     382.0           617   \n",
              "2                 0.0                       0.0           362   \n",
              "3                 0.0                       0.0          2433   \n",
              "4                 0.0                      19.0           141   \n",
              "\n",
              "   ClaimStart_Year  ClaimStart_Month  ClaimEnd_Year  ...  \\\n",
              "0            50225               125          50225  ...   \n",
              "1           265187               804         265188  ...   \n",
              "2           299341               926         299341  ...   \n",
              "3          2340483              7376        2340485  ...   \n",
              "4           144648               448         144648  ...   \n",
              "\n",
              "   PerClmAdmitDiagnosisCode_mean_patient_age  \\\n",
              "0                                1872.124752   \n",
              "1                                9752.142258   \n",
              "2                               10975.369856   \n",
              "3                               85836.366022   \n",
              "4                                5304.497707   \n",
              "\n",
              "   PerClmAdmitDiagnosisCode_mean_Hospitalization_Duration  \\\n",
              "0                                          34.488500        \n",
              "1                                         248.575108        \n",
              "2                                          45.457451        \n",
              "3                                         189.910839        \n",
              "4                                          35.451045        \n",
              "\n",
              "   PerClmAdmitDiagnosisCode_mean_Claim_Period  \\\n",
              "0                                   79.928594   \n",
              "1                                  465.823969   \n",
              "2                                  392.930581   \n",
              "3                                 2914.730682   \n",
              "4                                  201.410628   \n",
              "\n",
              "   PerClmAdmitDiagnosisCode_mean_patient_risk_score  Gender_0  Gender_1  \\\n",
              "0                                        128.360407      16.0       9.0   \n",
              "1                                        662.905082      78.0      54.0   \n",
              "2                                        690.434231     103.0      46.0   \n",
              "3                                       5369.285209     654.0     511.0   \n",
              "4                                        337.941920      38.0      34.0   \n",
              "\n",
              "   Race_1  Race_2  Race_3  Race_5  \n",
              "0    21.0     4.0     0.0     0.0  \n",
              "1   107.0    24.0     0.0     1.0  \n",
              "2   120.0    24.0     5.0     0.0  \n",
              "3   893.0   262.0    10.0     0.0  \n",
              "4    58.0    14.0     0.0     0.0  \n",
              "\n",
              "[5 rows x 240 columns]"
            ],
            "text/html": [
              "\n",
              "  <div id=\"df-3e5bfbbf-bf36-4e41-bf23-85a16bf7a56b\">\n",
              "    <div class=\"colab-df-container\">\n",
              "      <div>\n",
              "<style scoped>\n",
              "    .dataframe tbody tr th:only-of-type {\n",
              "        vertical-align: middle;\n",
              "    }\n",
              "\n",
              "    .dataframe tbody tr th {\n",
              "        vertical-align: top;\n",
              "    }\n",
              "\n",
              "    .dataframe thead th {\n",
              "        text-align: right;\n",
              "    }\n",
              "</style>\n",
              "<table border=\"1\" class=\"dataframe\">\n",
              "  <thead>\n",
              "    <tr style=\"text-align: right;\">\n",
              "      <th></th>\n",
              "      <th>Provider</th>\n",
              "      <th>PotentialFraud</th>\n",
              "      <th>InscClaimAmtReimbursed</th>\n",
              "      <th>DeductibleAmtPaid</th>\n",
              "      <th>ClmProcedureCode_6</th>\n",
              "      <th>Hospitalization_Duration</th>\n",
              "      <th>Claim_Period</th>\n",
              "      <th>ClaimStart_Year</th>\n",
              "      <th>ClaimStart_Month</th>\n",
              "      <th>ClaimEnd_Year</th>\n",
              "      <th>...</th>\n",
              "      <th>PerClmAdmitDiagnosisCode_mean_patient_age</th>\n",
              "      <th>PerClmAdmitDiagnosisCode_mean_Hospitalization_Duration</th>\n",
              "      <th>PerClmAdmitDiagnosisCode_mean_Claim_Period</th>\n",
              "      <th>PerClmAdmitDiagnosisCode_mean_patient_risk_score</th>\n",
              "      <th>Gender_0</th>\n",
              "      <th>Gender_1</th>\n",
              "      <th>Race_1</th>\n",
              "      <th>Race_2</th>\n",
              "      <th>Race_3</th>\n",
              "      <th>Race_5</th>\n",
              "    </tr>\n",
              "  </thead>\n",
              "  <tbody>\n",
              "    <tr>\n",
              "      <th>0</th>\n",
              "      <td>PRV51001</td>\n",
              "      <td>0</td>\n",
              "      <td>104640</td>\n",
              "      <td>5340.0</td>\n",
              "      <td>0.0</td>\n",
              "      <td>30.0</td>\n",
              "      <td>61</td>\n",
              "      <td>50225</td>\n",
              "      <td>125</td>\n",
              "      <td>50225</td>\n",
              "      <td>...</td>\n",
              "      <td>1872.124752</td>\n",
              "      <td>34.488500</td>\n",
              "      <td>79.928594</td>\n",
              "      <td>128.360407</td>\n",
              "      <td>16.0</td>\n",
              "      <td>9.0</td>\n",
              "      <td>21.0</td>\n",
              "      <td>4.0</td>\n",
              "      <td>0.0</td>\n",
              "      <td>0.0</td>\n",
              "    </tr>\n",
              "    <tr>\n",
              "      <th>1</th>\n",
              "      <td>PRV51003</td>\n",
              "      <td>1</td>\n",
              "      <td>605670</td>\n",
              "      <td>66286.0</td>\n",
              "      <td>0.0</td>\n",
              "      <td>382.0</td>\n",
              "      <td>617</td>\n",
              "      <td>265187</td>\n",
              "      <td>804</td>\n",
              "      <td>265188</td>\n",
              "      <td>...</td>\n",
              "      <td>9752.142258</td>\n",
              "      <td>248.575108</td>\n",
              "      <td>465.823969</td>\n",
              "      <td>662.905082</td>\n",
              "      <td>78.0</td>\n",
              "      <td>54.0</td>\n",
              "      <td>107.0</td>\n",
              "      <td>24.0</td>\n",
              "      <td>0.0</td>\n",
              "      <td>1.0</td>\n",
              "    </tr>\n",
              "    <tr>\n",
              "      <th>2</th>\n",
              "      <td>PRV51004</td>\n",
              "      <td>0</td>\n",
              "      <td>52170</td>\n",
              "      <td>310.0</td>\n",
              "      <td>0.0</td>\n",
              "      <td>0.0</td>\n",
              "      <td>362</td>\n",
              "      <td>299341</td>\n",
              "      <td>926</td>\n",
              "      <td>299341</td>\n",
              "      <td>...</td>\n",
              "      <td>10975.369856</td>\n",
              "      <td>45.457451</td>\n",
              "      <td>392.930581</td>\n",
              "      <td>690.434231</td>\n",
              "      <td>103.0</td>\n",
              "      <td>46.0</td>\n",
              "      <td>120.0</td>\n",
              "      <td>24.0</td>\n",
              "      <td>5.0</td>\n",
              "      <td>0.0</td>\n",
              "    </tr>\n",
              "    <tr>\n",
              "      <th>3</th>\n",
              "      <td>PRV51005</td>\n",
              "      <td>1</td>\n",
              "      <td>280910</td>\n",
              "      <td>3700.0</td>\n",
              "      <td>0.0</td>\n",
              "      <td>0.0</td>\n",
              "      <td>2433</td>\n",
              "      <td>2340483</td>\n",
              "      <td>7376</td>\n",
              "      <td>2340485</td>\n",
              "      <td>...</td>\n",
              "      <td>85836.366022</td>\n",
              "      <td>189.910839</td>\n",
              "      <td>2914.730682</td>\n",
              "      <td>5369.285209</td>\n",
              "      <td>654.0</td>\n",
              "      <td>511.0</td>\n",
              "      <td>893.0</td>\n",
              "      <td>262.0</td>\n",
              "      <td>10.0</td>\n",
              "      <td>0.0</td>\n",
              "    </tr>\n",
              "    <tr>\n",
              "      <th>4</th>\n",
              "      <td>PRV51007</td>\n",
              "      <td>0</td>\n",
              "      <td>33710</td>\n",
              "      <td>3264.0</td>\n",
              "      <td>0.0</td>\n",
              "      <td>19.0</td>\n",
              "      <td>141</td>\n",
              "      <td>144648</td>\n",
              "      <td>448</td>\n",
              "      <td>144648</td>\n",
              "      <td>...</td>\n",
              "      <td>5304.497707</td>\n",
              "      <td>35.451045</td>\n",
              "      <td>201.410628</td>\n",
              "      <td>337.941920</td>\n",
              "      <td>38.0</td>\n",
              "      <td>34.0</td>\n",
              "      <td>58.0</td>\n",
              "      <td>14.0</td>\n",
              "      <td>0.0</td>\n",
              "      <td>0.0</td>\n",
              "    </tr>\n",
              "  </tbody>\n",
              "</table>\n",
              "<p>5 rows × 240 columns</p>\n",
              "</div>\n",
              "      <button class=\"colab-df-convert\" onclick=\"convertToInteractive('df-3e5bfbbf-bf36-4e41-bf23-85a16bf7a56b')\"\n",
              "              title=\"Convert this dataframe to an interactive table.\"\n",
              "              style=\"display:none;\">\n",
              "        \n",
              "  <svg xmlns=\"http://www.w3.org/2000/svg\" height=\"24px\"viewBox=\"0 0 24 24\"\n",
              "       width=\"24px\">\n",
              "    <path d=\"M0 0h24v24H0V0z\" fill=\"none\"/>\n",
              "    <path d=\"M18.56 5.44l.94 2.06.94-2.06 2.06-.94-2.06-.94-.94-2.06-.94 2.06-2.06.94zm-11 1L8.5 8.5l.94-2.06 2.06-.94-2.06-.94L8.5 2.5l-.94 2.06-2.06.94zm10 10l.94 2.06.94-2.06 2.06-.94-2.06-.94-.94-2.06-.94 2.06-2.06.94z\"/><path d=\"M17.41 7.96l-1.37-1.37c-.4-.4-.92-.59-1.43-.59-.52 0-1.04.2-1.43.59L10.3 9.45l-7.72 7.72c-.78.78-.78 2.05 0 2.83L4 21.41c.39.39.9.59 1.41.59.51 0 1.02-.2 1.41-.59l7.78-7.78 2.81-2.81c.8-.78.8-2.07 0-2.86zM5.41 20L4 18.59l7.72-7.72 1.47 1.35L5.41 20z\"/>\n",
              "  </svg>\n",
              "      </button>\n",
              "      \n",
              "  <style>\n",
              "    .colab-df-container {\n",
              "      display:flex;\n",
              "      flex-wrap:wrap;\n",
              "      gap: 12px;\n",
              "    }\n",
              "\n",
              "    .colab-df-convert {\n",
              "      background-color: #E8F0FE;\n",
              "      border: none;\n",
              "      border-radius: 50%;\n",
              "      cursor: pointer;\n",
              "      display: none;\n",
              "      fill: #1967D2;\n",
              "      height: 32px;\n",
              "      padding: 0 0 0 0;\n",
              "      width: 32px;\n",
              "    }\n",
              "\n",
              "    .colab-df-convert:hover {\n",
              "      background-color: #E2EBFA;\n",
              "      box-shadow: 0px 1px 2px rgba(60, 64, 67, 0.3), 0px 1px 3px 1px rgba(60, 64, 67, 0.15);\n",
              "      fill: #174EA6;\n",
              "    }\n",
              "\n",
              "    [theme=dark] .colab-df-convert {\n",
              "      background-color: #3B4455;\n",
              "      fill: #D2E3FC;\n",
              "    }\n",
              "\n",
              "    [theme=dark] .colab-df-convert:hover {\n",
              "      background-color: #434B5C;\n",
              "      box-shadow: 0px 1px 3px 1px rgba(0, 0, 0, 0.15);\n",
              "      filter: drop-shadow(0px 1px 2px rgba(0, 0, 0, 0.3));\n",
              "      fill: #FFFFFF;\n",
              "    }\n",
              "  </style>\n",
              "\n",
              "      <script>\n",
              "        const buttonEl =\n",
              "          document.querySelector('#df-3e5bfbbf-bf36-4e41-bf23-85a16bf7a56b button.colab-df-convert');\n",
              "        buttonEl.style.display =\n",
              "          google.colab.kernel.accessAllowed ? 'block' : 'none';\n",
              "\n",
              "        async function convertToInteractive(key) {\n",
              "          const element = document.querySelector('#df-3e5bfbbf-bf36-4e41-bf23-85a16bf7a56b');\n",
              "          const dataTable =\n",
              "            await google.colab.kernel.invokeFunction('convertToInteractive',\n",
              "                                                     [key], {});\n",
              "          if (!dataTable) return;\n",
              "\n",
              "          const docLinkHtml = 'Like what you see? Visit the ' +\n",
              "            '<a target=\"_blank\" href=https://colab.research.google.com/notebooks/data_table.ipynb>data table notebook</a>'\n",
              "            + ' to learn more about interactive tables.';\n",
              "          element.innerHTML = '';\n",
              "          dataTable['output_type'] = 'display_data';\n",
              "          await google.colab.output.renderOutput(dataTable, element);\n",
              "          const docLink = document.createElement('div');\n",
              "          docLink.innerHTML = docLinkHtml;\n",
              "          element.appendChild(docLink);\n",
              "        }\n",
              "      </script>\n",
              "    </div>\n",
              "  </div>\n",
              "  "
            ]
          },
          "metadata": {},
          "execution_count": 53
        }
      ]
    },
    {
      "cell_type": "code",
      "source": [
        "# Seperate dependent and independent variables\n",
        "x_train = Final_Dataset_Provider_Train.drop(axis=1,columns=['Provider','PotentialFraud'])\n",
        "y_train = Final_Dataset_Provider_Train['PotentialFraud']\n",
        "x_test = Final_Dataset_Provider_Test.drop(axis=1,columns=['Provider'])"
      ],
      "metadata": {
        "id": "SFve9fB-uyVx"
      },
      "execution_count": 54,
      "outputs": []
    },
    {
      "cell_type": "code",
      "source": [
        "# ref : https://scikit-learn.org/stable/modules/preprocessing.html\n",
        "\n",
        "from sklearn.preprocessing import StandardScaler\n",
        "\n",
        "scaler = StandardScaler()\n",
        "x_train_standerizaed = scaler.fit_transform(x_train)\n",
        "x_test = scaler.transform(x_test)"
      ],
      "metadata": {
        "id": "Aiw0V1obuyY_"
      },
      "execution_count": 55,
      "outputs": []
    },
    {
      "cell_type": "code",
      "source": [
        "# refer : https://scikit-learn.org/stable/modules/generated/sklearn.model_selection.train_test_split.html\n",
        "\n",
        "from sklearn.model_selection import train_test_split\n",
        "\n",
        "# Split the data into train and test sets\n",
        "x_trai, x_te, y_trai, y_te = train_test_split(x_train_standerizaed, y_train, test_size=0.3,random_state=42,stratify=y_train)"
      ],
      "metadata": {
        "id": "hd-3q-MNvCVr"
      },
      "execution_count": 56,
      "outputs": []
    },
    {
      "cell_type": "code",
      "source": [
        "x_trai.shape ,x_te.shape , y_trai.shape , y_te.shape"
      ],
      "metadata": {
        "colab": {
          "base_uri": "https://localhost:8080/",
          "height": 0
        },
        "id": "-SDnlCo1vCYp",
        "outputId": "ce2553cf-d60b-4eec-9043-7698251c9f97"
      },
      "execution_count": 57,
      "outputs": [
        {
          "output_type": "execute_result",
          "data": {
            "text/plain": [
              "((3787, 238), (1623, 238), (3787,), (1623,))"
            ]
          },
          "metadata": {},
          "execution_count": 57
        }
      ]
    },
    {
      "cell_type": "code",
      "source": [
        "no_count = y_trai.value_counts()[0]\n",
        "yes_count = y_trai.value_counts()[1]\n",
        "\n",
        "fraud_percentage = (yes_count*100/(no_count+yes_count))\n",
        "non_fraud_percentage = (no_count*100/(no_count+yes_count))\n",
        "\n",
        "print(\"Fraud Percentage = {:.2f}% and Non-Fraud Percentage = {:.2f}%\".format(fraud_percentage, non_fraud_percentage))"
      ],
      "metadata": {
        "colab": {
          "base_uri": "https://localhost:8080/",
          "height": 0
        },
        "id": "wTm3UwLEvCcI",
        "outputId": "a74aad88-ac8a-4d97-8d56-fd4c92dc2c65"
      },
      "execution_count": 58,
      "outputs": [
        {
          "output_type": "stream",
          "name": "stdout",
          "text": [
            "Fraud Percentage = 9.35% and Non-Fraud Percentage = 90.65%\n"
          ]
        }
      ]
    },
    {
      "cell_type": "code",
      "source": [
        "from collections import Counter\n"
      ],
      "metadata": {
        "id": "EBFm_FAWuybH"
      },
      "execution_count": 59,
      "outputs": []
    },
    {
      "cell_type": "code",
      "source": [],
      "metadata": {
        "id": "nGv1wjHhZ-qr"
      },
      "execution_count": null,
      "outputs": []
    },
    {
      "cell_type": "markdown",
      "source": [
        "# **MODEL WITH 80:20 SPLIT**"
      ],
      "metadata": {
        "id": "dJb8rt2SX_M9"
      }
    },
    {
      "cell_type": "code",
      "source": [
        "# write the code for 80:20 ratio spilitting \n",
        "from imblearn.over_sampling import SMOTE\n",
        "\n",
        "oversample = SMOTE(sampling_strategy=0.80 / (0.80 + 0.20), random_state=42)\n",
        "x_train_res, y_train_res = oversample.fit_resample(x_trai, y_trai)\n",
        "counter = Counter(y_train_res)\n",
        "fraud_percentage = (counter[1]*100/(counter[0]+counter[1]))\n",
        "non_fraud_percentage = (counter[0]*100/(counter[0]+counter[1]))\n",
        "print(\"Fraud Percentage = {:.2f}% and Non-Fraud Percentage = {:.2f}%\".format(fraud_percentage, non_fraud_percentage))"
      ],
      "metadata": {
        "colab": {
          "base_uri": "https://localhost:8080/",
          "height": 0
        },
        "id": "iUab8gAZ_EfI",
        "outputId": "d50ae286-3f2a-4ba6-95f2-739eabbacd5e"
      },
      "execution_count": 63,
      "outputs": [
        {
          "output_type": "stream",
          "name": "stdout",
          "text": [
            "Fraud Percentage = 44.44% and Non-Fraud Percentage = 55.56%\n"
          ]
        }
      ]
    },
    {
      "cell_type": "code",
      "source": [
        "from sklearn.metrics import roc_auc_score, roc_curve\n",
        "\n",
        "# Define the base learners\n",
        "lr = LogisticRegression(C=100, penalty='l2', max_iter=10000, random_state=42)\n",
        "rf = RandomForestClassifier(n_estimators=52, max_depth=20, min_samples_split=4, \n",
        "                            min_samples_leaf=1, max_features='auto', bootstrap=False, random_state=42)\n",
        "xgb = XGBClassifier(n_estimators=52, max_depth=33, learning_rate=0.6432882184423532, gamma=0.3881699262065219, \n",
        "                    min_child_weight=3, subsample=0.9414648087765252, colsample_bytree=0.575474177875879, random_state=42)\n",
        "dt = DecisionTreeClassifier(class_weight='balanced', max_depth=10, min_samples_split=500, random_state=42)\n",
        "\n",
        "svm_rbf = SVC(C=10, kernel='rbf',probability=True)\n",
        "\n",
        "# Define the voting classifier\n",
        "voting_clf = VotingClassifier(\n",
        "    estimators=[('lr', lr), ('rf', rf), ('xgb', xgb), ('dt', dt), ('svm_rbf', svm_rbf)],\n",
        "    voting='soft')\n",
        "\n",
        "# Fit the voting classifier on the training data\n",
        "voting_clf.fit(x_train_res, y_train_res)\n",
        "\n",
        "# Predict on the testing data\n",
        "y_pred = voting_clf.predict_proba(x_te)[:, 1]\n",
        "\n",
        "# Calculate the ROC AUC score\n",
        "roc_auc = roc_auc_score(y_te, y_pred)\n",
        "print(\"ROC AUC score of ensemble model:\", roc_auc)\n",
        "\n",
        "# Calculate the ROC curve and find the best threshold\n",
        "fpr, tpr, thresholds = roc_curve(y_te, y_pred)\n",
        "J = tpr - fpr\n",
        "best_threshold = thresholds[np.argmax(J)]\n",
        "print(\"Best threshold value:\", best_threshold)\n",
        "\n",
        "# Convert the probabilities to binary predictions using the best threshold\n",
        "y_pred_final = (y_pred > best_threshold).astype(int)\n",
        "\n",
        "# Evaluate the f1 score of the ensemble model\n",
        "f1 = f1_score(y_te, y_pred_final, average='macro')\n",
        "print(\"F1 score of ensemble model:\", f1)"
      ],
      "metadata": {
        "colab": {
          "base_uri": "https://localhost:8080/",
          "height": 0
        },
        "id": "ta_pYJu4xvEQ",
        "outputId": "f53afdb3-c7df-4c31-9dc3-34e8a89062af"
      },
      "execution_count": 64,
      "outputs": [
        {
          "output_type": "stream",
          "name": "stdout",
          "text": [
            "ROC AUC score of ensemble model: 0.9371489140935273\n",
            "Best threshold value: 0.3011153311275109\n",
            "F1 score of ensemble model: 0.7446491635403811\n"
          ]
        }
      ]
    },
    {
      "cell_type": "code",
      "source": [
        "# Compute the probabilities of class 1 for the test set\n",
        "y_test_pred_proba = voting_clf.predict_proba(x_te)[:,1]\n",
        "\n",
        "# Compute the probabilities of class 1 for the training set\n",
        "y_train_pred_proba = voting_clf.predict_proba(x_train_res)[:,1]\n",
        "\n",
        "# Compute the ROC AUC for the test set\n",
        "fpr_test, tpr_test, _ = roc_curve(y_te, y_test_pred_proba)\n",
        "auc_test = roc_auc_score(y_te, y_test_pred_proba)\n",
        "\n",
        "# Compute the ROC AUC for the training set\n",
        "fpr_train, tpr_train, _ = roc_curve(y_train_res, y_train_pred_proba)\n",
        "auc_train = roc_auc_score(y_train_res, y_train_pred_proba)\n",
        "\n",
        "# Plot the ROC curve for the training set\n",
        "plt.plot(fpr_train, tpr_train, label='Train ROC (AUC = {:.2f})'.format(auc_train))\n",
        "\n",
        "# Plot the ROC curve for the test set\n",
        "plt.plot(fpr_test, tpr_test, label='Test ROC (AUC = {:.2f})'.format(auc_test))\n",
        "\n",
        "# Plot the diagonal line\n",
        "plt.plot([0, 1], [0, 1], linestyle='--', color='black')\n",
        "\n",
        "# Add labels and legend\n",
        "plt.xlabel('False Positive Rate')\n",
        "plt.ylabel('True Positive Rate')\n",
        "plt.grid()\n",
        "plt.legend()\n",
        "plt.show()\n",
        "\n",
        "# Predict the labels of the test set\n",
        "y_test_pred = voting_clf.predict(x_te)\n",
        "\n",
        "# Compute the confusion matrix for the test set\n",
        "cm_test = confusion_matrix(y_te, y_test_pred)\n",
        "\n",
        "# Print the confusion matrix for the test set\n",
        "print(\"Test Confusion Matrix:\")\n",
        "print(cm_test)\n",
        "\n",
        "# Plot the confusion matrix for the test set\n",
        "sns.heatmap(cm_test, annot=True, fmt='d')\n",
        "plt.xlabel('Predicted Label')\n",
        "plt.ylabel('True Label')\n",
        "plt.title('Test Confusion Matrix')\n",
        "plt.show()\n",
        "\n",
        "# Predict the labels of the training set\n",
        "y_train_pred = voting_clf.predict(x_train_res)\n",
        "\n",
        "# Compute the confusion matrix for the training set\n",
        "cm_train = confusion_matrix(y_train_res, y_train_pred)\n",
        "\n",
        "# Print the confusion matrix for the training set\n",
        "print(\"Train Confusion Matrix:\")\n",
        "print(cm_train)\n",
        "\n",
        "# Plot the confusion matrix for the training set\n",
        "sns.heatmap(cm_train, annot=True, fmt='d')\n",
        "plt.xlabel('Predicted Label')\n",
        "plt.ylabel('True Label')\n",
        "plt.title('Train Confusion Matrix')\n",
        "plt.show()\n",
        "\n",
        "# Compute precision and recall for the test set\n",
        "precision = precision_score(y_te, y_test_pred)\n",
        "recall = recall_score(y_te, y_test_pred)\n",
        "\n",
        "# Print precision, recall, and confusion matrix for the test set\n",
        "print(\"Test Precision: {:.2f}\".format(precision))\n",
        "print(\"Test Recall: {:.2f}\".format(recall))\n",
        "print(\"Test Confusion Matrix:\")\n",
        "print(cm_test)\n",
        "\n",
        "# Compute precision and recall for the training set\n",
        "precision = precision_score(y_train_res, y_train_pred)\n",
        "recall = recall_score(y_train_res, y_train_pred)\n",
        "\n",
        "# Print precision, recall, and confusion matrix for the training set\n",
        "print(\"\\nTrain Precision: {:.2f}\".format(precision))\n",
        "print(\"Train Recall: {:.2f}\".format(recall))\n",
        "print(\"Train Confusion Matrix:\")\n",
        "print(cm_train)"
      ],
      "metadata": {
        "colab": {
          "base_uri": "https://localhost:8080/",
          "height": 1130
        },
        "id": "lL2-ELhg-mmp",
        "outputId": "e229d51b-acc4-445a-c38a-af63f637fb84"
      },
      "execution_count": 65,
      "outputs": [
        {
          "output_type": "display_data",
          "data": {
            "text/plain": [
              "<Figure size 432x288 with 1 Axes>"
            ],
            "image/png": "[encoded data removed]"
          },
          "metadata": {
            "needs_background": "light"
          }
        },
        {
          "output_type": "stream",
          "name": "stdout",
          "text": [
            "Test Confusion Matrix:\n",
            "[[1369  102]\n",
            " [  36  116]]\n"
          ]
        },
        {
          "output_type": "display_data",
          "data": {
            "text/plain": [
              "<Figure size 432x288 with 2 Axes>"
            ],
            "image/png": "[encoded data removed]"
          },
          "metadata": {
            "needs_background": "light"
          }
        },
        {
          "output_type": "stream",
          "name": "stdout",
          "text": [
            "Train Confusion Matrix:\n",
            "[[3321  112]\n",
            " [  63 2683]]\n"
          ]
        },
        {
          "output_type": "display_data",
          "data": {
            "text/plain": [
              "<Figure size 432x288 with 2 Axes>"
            ],
            "image/png": "[encoded data removed]"
          },
          "metadata": {
            "needs_background": "light"
          }
        },
        {
          "output_type": "stream",
          "name": "stdout",
          "text": [
            "Test Precision: 0.53\n",
            "Test Recall: 0.76\n",
            "Test Confusion Matrix:\n",
            "[[1369  102]\n",
            " [  36  116]]\n",
            "\n",
            "Train Precision: 0.96\n",
            "Train Recall: 0.98\n",
            "Train Confusion Matrix:\n",
            "[[3321  112]\n",
            " [  63 2683]]\n"
          ]
        }
      ]
    },
    {
      "cell_type": "code",
      "source": [],
      "metadata": {
        "id": "h9ir8QjDaAyy"
      },
      "execution_count": null,
      "outputs": []
    },
    {
      "cell_type": "markdown",
      "source": [
        "# **MODEL WITH 70 :30 SPLIT**"
      ],
      "metadata": {
        "id": "CfFZHOI_YICu"
      }
    },
    {
      "cell_type": "code",
      "source": [
        "# write the code for 70:30 ratio spilitting \n",
        "from imblearn.over_sampling import SMOTE\n",
        "\n",
        "oversample = SMOTE(sampling_strategy=0.70 / (0.70 + 0.30), random_state=42)\n",
        "x_train_res, y_train_res = oversample.fit_resample(x_trai, y_trai)\n",
        "counter = Counter(y_train_res)\n",
        "fraud_percentage = (counter[1]*100/(counter[0]+counter[1]))\n",
        "non_fraud_percentage = (counter[0]*100/(counter[0]+counter[1]))\n",
        "print(\"Fraud Percentage = {:.2f}% and Non-Fraud Percentage = {:.2f}%\".format(fraud_percentage, non_fraud_percentage))"
      ],
      "metadata": {
        "colab": {
          "base_uri": "https://localhost:8080/",
          "height": 0
        },
        "id": "jJdHJL_u_bR_",
        "outputId": "45b7dc18-da8d-494d-8d03-1ef3ad7f4157"
      },
      "execution_count": 66,
      "outputs": [
        {
          "output_type": "stream",
          "name": "stdout",
          "text": [
            "Fraud Percentage = 41.18% and Non-Fraud Percentage = 58.82%\n"
          ]
        }
      ]
    },
    {
      "cell_type": "code",
      "source": [
        "\n",
        "from sklearn.metrics import roc_auc_score, roc_curve\n",
        "\n",
        "# Define the base learners\n",
        "lr = LogisticRegression(C=100, penalty='l2', max_iter=10000, random_state=42)\n",
        "rf = RandomForestClassifier(n_estimators=52, max_depth=20, min_samples_split=4, \n",
        "                            min_samples_leaf=1, max_features='auto', bootstrap=False, random_state=42)\n",
        "xgb = XGBClassifier(n_estimators=52, max_depth=33, learning_rate=0.6432882184423532, gamma=0.3881699262065219, \n",
        "                    min_child_weight=3, subsample=0.9414648087765252, colsample_bytree=0.575474177875879, random_state=42)\n",
        "dt = DecisionTreeClassifier(class_weight='balanced', max_depth=10, min_samples_split=500, random_state=42)\n",
        "\n",
        "svm_rbf = SVC(C=10, kernel='rbf',probability=True)\n",
        "\n",
        "# Define the voting classifier\n",
        "voting_clf = VotingClassifier(\n",
        "    estimators=[('lr', lr), ('rf', rf), ('xgb', xgb), ('dt', dt), ('svm_rbf', svm_rbf)],\n",
        "    voting='soft')\n",
        "\n",
        "# Fit the voting classifier on the training data\n",
        "voting_clf.fit(x_train_res, y_train_res)\n",
        "\n",
        "# Predict on the testing data\n",
        "y_pred = voting_clf.predict_proba(x_te)[:, 1]\n",
        "\n",
        "# Calculate the ROC AUC score\n",
        "roc_auc = roc_auc_score(y_te, y_pred)\n",
        "print(\"ROC AUC score of ensemble model:\", roc_auc)\n",
        "\n",
        "# Calculate the ROC curve and find the best threshold\n",
        "fpr, tpr, thresholds = roc_curve(y_te, y_pred)\n",
        "J = tpr - fpr\n",
        "best_threshold = thresholds[np.argmax(J)]\n",
        "print(\"Best threshold value:\", best_threshold)\n",
        "\n",
        "# Convert the probabilities to binary predictions using the best threshold\n",
        "y_pred_final = (y_pred > best_threshold).astype(int)\n",
        "\n",
        "# Evaluate the f1 score of the ensemble model\n",
        "f1 = f1_score(y_te, y_pred_final, average='macro')\n",
        "print(\"F1 score of ensemble model:\", f1)"
      ],
      "metadata": {
        "colab": {
          "base_uri": "https://localhost:8080/",
          "height": 0
        },
        "id": "M2zWU7cV-pkJ",
        "outputId": "c95a512c-3e15-49a5-feae-5f8d9f099deb"
      },
      "execution_count": 67,
      "outputs": [
        {
          "output_type": "stream",
          "name": "stdout",
          "text": [
            "ROC AUC score of ensemble model: 0.9375245983756127\n",
            "Best threshold value: 0.2739924834177807\n",
            "F1 score of ensemble model: 0.7496864137970332\n"
          ]
        }
      ]
    },
    {
      "cell_type": "code",
      "source": [
        "# Compute the probabilities of class 1 for the test set\n",
        "y_test_pred_proba = voting_clf.predict_proba(x_te)[:,1]\n",
        "\n",
        "# Compute the probabilities of class 1 for the training set\n",
        "y_train_pred_proba = voting_clf.predict_proba(x_train_res)[:,1]\n",
        "\n",
        "# Compute the ROC AUC for the test set\n",
        "fpr_test, tpr_test, _ = roc_curve(y_te, y_test_pred_proba)\n",
        "auc_test = roc_auc_score(y_te, y_test_pred_proba)\n",
        "\n",
        "# Compute the ROC AUC for the training set\n",
        "fpr_train, tpr_train, _ = roc_curve(y_train_res, y_train_pred_proba)\n",
        "auc_train = roc_auc_score(y_train_res, y_train_pred_proba)\n",
        "\n",
        "# Plot the ROC curve for the training set\n",
        "plt.plot(fpr_train, tpr_train, label='Train ROC (AUC = {:.2f})'.format(auc_train))\n",
        "\n",
        "# Plot the ROC curve for the test set\n",
        "plt.plot(fpr_test, tpr_test, label='Test ROC (AUC = {:.2f})'.format(auc_test))\n",
        "\n",
        "# Plot the diagonal line\n",
        "plt.plot([0, 1], [0, 1], linestyle='--', color='black')\n",
        "\n",
        "# Add labels and legend\n",
        "plt.xlabel('False Positive Rate')\n",
        "plt.ylabel('True Positive Rate')\n",
        "plt.grid()\n",
        "plt.legend()\n",
        "plt.show()\n",
        "\n",
        "# Predict the labels of the test set\n",
        "y_test_pred = voting_clf.predict(x_te)\n",
        "\n",
        "# Compute the confusion matrix for the test set\n",
        "cm_test = confusion_matrix(y_te, y_test_pred)\n",
        "\n",
        "# Print the confusion matrix for the test set\n",
        "print(\"Test Confusion Matrix:\")\n",
        "print(cm_test)\n",
        "\n",
        "# Plot the confusion matrix for the test set\n",
        "sns.heatmap(cm_test, annot=True, fmt='d')\n",
        "plt.xlabel('Predicted Label')\n",
        "plt.ylabel('True Label')\n",
        "plt.title('Test Confusion Matrix')\n",
        "plt.show()\n",
        "\n",
        "# Predict the labels of the training set\n",
        "y_train_pred = voting_clf.predict(x_train_res)\n",
        "\n",
        "# Compute the confusion matrix for the training set\n",
        "cm_train = confusion_matrix(y_train_res, y_train_pred)\n",
        "\n",
        "# Print the confusion matrix for the training set\n",
        "print(\"Train Confusion Matrix:\")\n",
        "print(cm_train)\n",
        "\n",
        "# Plot the confusion matrix for the training set\n",
        "sns.heatmap(cm_train, annot=True, fmt='d')\n",
        "plt.xlabel('Predicted Label')\n",
        "plt.ylabel('True Label')\n",
        "plt.title('Train Confusion Matrix')\n",
        "plt.show()\n",
        "\n",
        "# Compute precision and recall for the test set\n",
        "precision = precision_score(y_te, y_test_pred)\n",
        "recall = recall_score(y_te, y_test_pred)\n",
        "\n",
        "# Print precision, recall, and confusion matrix for the test set\n",
        "print(\"Test Precision: {:.2f}\".format(precision))\n",
        "print(\"Test Recall: {:.2f}\".format(recall))\n",
        "print(\"Test Confusion Matrix:\")\n",
        "print(cm_test)\n",
        "\n",
        "# Compute precision and recall for the training set\n",
        "precision = precision_score(y_train_res, y_train_pred)\n",
        "recall = recall_score(y_train_res, y_train_pred)\n",
        "\n",
        "# Print precision, recall, and confusion matrix for the training set\n",
        "print(\"\\nTrain Precision: {:.2f}\".format(precision))\n",
        "print(\"Train Recall: {:.2f}\".format(recall))\n",
        "print(\"Train Confusion Matrix:\")\n",
        "print(cm_train)"
      ],
      "metadata": {
        "colab": {
          "base_uri": "https://localhost:8080/",
          "height": 1130
        },
        "id": "r0eIA65F-0Fg",
        "outputId": "44ed7b3f-e16e-48d8-f87a-cdbe690dfd59"
      },
      "execution_count": 68,
      "outputs": [
        {
          "output_type": "display_data",
          "data": {
            "text/plain": [
              "<Figure size 432x288 with 1 Axes>"
            ],
            "image/png": "[encoded data removed]"
          },
          "metadata": {
            "needs_background": "light"
          }
        },
        {
          "output_type": "stream",
          "name": "stdout",
          "text": [
            "Test Confusion Matrix:\n",
            "[[1372   99]\n",
            " [  35  117]]\n"
          ]
        },
        {
          "output_type": "display_data",
          "data": {
            "text/plain": [
              "<Figure size 432x288 with 2 Axes>"
            ],
            "image/png": "[encoded data removed]"
          },
          "metadata": {
            "needs_background": "light"
          }
        },
        {
          "output_type": "stream",
          "name": "stdout",
          "text": [
            "Train Confusion Matrix:\n",
            "[[3345   88]\n",
            " [  42 2361]]\n"
          ]
        },
        {
          "output_type": "display_data",
          "data": {
            "text/plain": [
              "<Figure size 432x288 with 2 Axes>"
            ],
            "image/png": "[encoded data removed]"
          },
          "metadata": {
            "needs_background": "light"
          }
        },
        {
          "output_type": "stream",
          "name": "stdout",
          "text": [
            "Test Precision: 0.54\n",
            "Test Recall: 0.77\n",
            "Test Confusion Matrix:\n",
            "[[1372   99]\n",
            " [  35  117]]\n",
            "\n",
            "Train Precision: 0.96\n",
            "Train Recall: 0.98\n",
            "Train Confusion Matrix:\n",
            "[[3345   88]\n",
            " [  42 2361]]\n"
          ]
        }
      ]
    },
    {
      "cell_type": "code",
      "source": [],
      "metadata": {
        "id": "_BysrILYaDlf"
      },
      "execution_count": null,
      "outputs": []
    },
    {
      "cell_type": "markdown",
      "source": [
        "# **MODEL WITH 75:25 SPLIT**"
      ],
      "metadata": {
        "id": "XjnkMyyMYRAt"
      }
    },
    {
      "cell_type": "code",
      "source": [
        "# write the code for 75:25 ratio spilitting \n",
        "from imblearn.over_sampling import SMOTE\n",
        "\n",
        "oversample = SMOTE(sampling_strategy=0.75 / (0.75 + 0.25), random_state=42)\n",
        "x_train_res, y_train_res = oversample.fit_resample(x_trai, y_trai)\n",
        "counter = Counter(y_train_res)\n",
        "fraud_percentage = (counter[1]*100/(counter[0]+counter[1]))\n",
        "non_fraud_percentage = (counter[0]*100/(counter[0]+counter[1]))\n",
        "print(\"Fraud Percentage = {:.2f}% and Non-Fraud Percentage = {:.2f}%\".format(fraud_percentage, non_fraud_percentage))"
      ],
      "metadata": {
        "colab": {
          "base_uri": "https://localhost:8080/",
          "height": 0
        },
        "id": "pGIc6W1B-qqg",
        "outputId": "5d019bcb-d32d-40dc-f262-728157710d4a"
      },
      "execution_count": 69,
      "outputs": [
        {
          "output_type": "stream",
          "name": "stdout",
          "text": [
            "Fraud Percentage = 42.85% and Non-Fraud Percentage = 57.15%\n"
          ]
        }
      ]
    },
    {
      "cell_type": "code",
      "source": [
        "from sklearn.metrics import roc_auc_score, roc_curve\n",
        "\n",
        "# Define the base learners\n",
        "lr = LogisticRegression(C=100, penalty='l2', max_iter=10000, random_state=42)\n",
        "rf = RandomForestClassifier(n_estimators=52, max_depth=20, min_samples_split=4, \n",
        "                            min_samples_leaf=1, max_features='auto', bootstrap=False, random_state=42)\n",
        "xgb = XGBClassifier(n_estimators=52, max_depth=33, learning_rate=0.6432882184423532, gamma=0.3881699262065219, \n",
        "                    min_child_weight=3, subsample=0.9414648087765252, colsample_bytree=0.575474177875879, random_state=42)\n",
        "dt = DecisionTreeClassifier(class_weight='balanced', max_depth=10, min_samples_split=500, random_state=42)\n",
        "\n",
        "svm_rbf = SVC(C=10, kernel='rbf',probability=True)\n",
        "\n",
        "# Define the voting classifier\n",
        "voting_clf = VotingClassifier(\n",
        "    estimators=[('lr', lr), ('rf', rf), ('xgb', xgb), ('dt', dt), ('svm_rbf', svm_rbf)],\n",
        "    voting='soft')\n",
        "\n",
        "# Fit the voting classifier on the training data\n",
        "voting_clf.fit(x_train_res, y_train_res)\n",
        "\n",
        "# Predict on the testing data\n",
        "y_pred = voting_clf.predict_proba(x_te)[:, 1]\n",
        "\n",
        "# Calculate the ROC AUC score\n",
        "roc_auc = roc_auc_score(y_te, y_pred)\n",
        "print(\"ROC AUC score of ensemble model:\", roc_auc)\n",
        "\n",
        "# Calculate the ROC curve and find the best threshold\n",
        "fpr, tpr, thresholds = roc_curve(y_te, y_pred)\n",
        "J = tpr - fpr\n",
        "best_threshold = thresholds[np.argmax(J)]\n",
        "print(\"Best threshold value:\", best_threshold)\n",
        "\n",
        "# Convert the probabilities to binary predictions using the best threshold\n",
        "y_pred_final = (y_pred > best_threshold).astype(int)\n",
        "\n",
        "# Evaluate the f1 score of the ensemble model\n",
        "f1 = f1_score(y_te, y_pred_final, average='macro')\n",
        "print(\"F1 score of ensemble model:\", f1)"
      ],
      "metadata": {
        "id": "sMws2dt2-qtY"
      },
      "execution_count": null,
      "outputs": []
    },
    {
      "cell_type": "code",
      "source": [
        "# Compute the probabilities of class 1 for the test set\n",
        "y_test_pred_proba = voting_clf.predict_proba(x_te)[:,1]\n",
        "\n",
        "# Compute the probabilities of class 1 for the training set\n",
        "y_train_pred_proba = voting_clf.predict_proba(x_train_res)[:,1]\n",
        "\n",
        "# Compute the ROC AUC for the test set\n",
        "fpr_test, tpr_test, _ = roc_curve(y_te, y_test_pred_proba)\n",
        "auc_test = roc_auc_score(y_te, y_test_pred_proba)\n",
        "\n",
        "# Compute the ROC AUC for the training set\n",
        "fpr_train, tpr_train, _ = roc_curve(y_train_res, y_train_pred_proba)\n",
        "auc_train = roc_auc_score(y_train_res, y_train_pred_proba)\n",
        "\n",
        "# Plot the ROC curve for the training set\n",
        "plt.plot(fpr_train, tpr_train, label='Train ROC (AUC = {:.2f})'.format(auc_train))\n",
        "\n",
        "# Plot the ROC curve for the test set\n",
        "plt.plot(fpr_test, tpr_test, label='Test ROC (AUC = {:.2f})'.format(auc_test))\n",
        "\n",
        "# Plot the diagonal line\n",
        "plt.plot([0, 1], [0, 1], linestyle='--', color='black')\n",
        "\n",
        "# Add labels and legend\n",
        "plt.xlabel('False Positive Rate')\n",
        "plt.ylabel('True Positive Rate')\n",
        "plt.grid()\n",
        "plt.legend()\n",
        "plt.show()\n",
        "\n",
        "# Predict the labels of the test set\n",
        "y_test_pred = voting_clf.predict(x_te)\n",
        "\n",
        "# Compute the confusion matrix for the test set\n",
        "cm_test = confusion_matrix(y_te, y_test_pred)\n",
        "\n",
        "# Print the confusion matrix for the test set\n",
        "print(\"Test Confusion Matrix:\")\n",
        "print(cm_test)\n",
        "\n",
        "# Plot the confusion matrix for the test set\n",
        "sns.heatmap(cm_test, annot=True, fmt='d')\n",
        "plt.xlabel('Predicted Label')\n",
        "plt.ylabel('True Label')\n",
        "plt.title('Test Confusion Matrix')\n",
        "plt.show()\n",
        "\n",
        "# Predict the labels of the training set\n",
        "y_train_pred = voting_clf.predict(x_train_res)\n",
        "\n",
        "# Compute the confusion matrix for the training set\n",
        "cm_train = confusion_matrix(y_train_res, y_train_pred)\n",
        "\n",
        "# Print the confusion matrix for the training set\n",
        "print(\"Train Confusion Matrix:\")\n",
        "print(cm_train)\n",
        "\n",
        "# Plot the confusion matrix for the training set\n",
        "sns.heatmap(cm_train, annot=True, fmt='d')\n",
        "plt.xlabel('Predicted Label')\n",
        "plt.ylabel('True Label')\n",
        "plt.title('Train Confusion Matrix')\n",
        "plt.show()\n",
        "\n",
        "# Compute precision and recall for the test set\n",
        "precision = precision_score(y_te, y_test_pred)\n",
        "recall = recall_score(y_te, y_test_pred)\n",
        "\n",
        "# Print precision, recall, and confusion matrix for the test set\n",
        "print(\"Test Precision: {:.2f}\".format(precision))\n",
        "print(\"Test Recall: {:.2f}\".format(recall))\n",
        "print(\"Test Confusion Matrix:\")\n",
        "print(cm_test)\n",
        "\n",
        "# Compute precision and recall for the training set\n",
        "precision = precision_score(y_train_res, y_train_pred)\n",
        "recall = recall_score(y_train_res, y_train_pred)\n",
        "\n",
        "# Print precision, recall, and confusion matrix for the training set\n",
        "print(\"\\nTrain Precision: {:.2f}\".format(precision))\n",
        "print(\"Train Recall: {:.2f}\".format(recall))\n",
        "print(\"Train Confusion Matrix:\")\n",
        "print(cm_train)"
      ],
      "metadata": {
        "id": "1QOks73H-1Q9"
      },
      "execution_count": null,
      "outputs": []
    },
    {
      "cell_type": "code",
      "source": [],
      "metadata": {
        "id": "mKNwgEHVaFEi"
      },
      "execution_count": null,
      "outputs": []
    },
    {
      "cell_type": "markdown",
      "source": [
        "# **MODEL WITH 65:35 SPLIT**"
      ],
      "metadata": {
        "id": "mYwsP6wAYYbm"
      }
    },
    {
      "cell_type": "code",
      "source": [
        "# write the code for 65:35 ratio spilitting \n",
        "from imblearn.over_sampling import SMOTE\n",
        "\n",
        "oversample = SMOTE(sampling_strategy=0.65 / (0.65 + 0.35), random_state=42)\n",
        "x_train_res, y_train_res = oversample.fit_resample(x_trai, y_trai)\n",
        "counter = Counter(y_train_res)\n",
        "fraud_percentage = (counter[1]*100/(counter[0]+counter[1]))\n",
        "non_fraud_percentage = (counter[0]*100/(counter[0]+counter[1]))\n",
        "print(\"Fraud Percentage = {:.2f}% and Non-Fraud Percentage = {:.2f}%\".format(fraud_percentage, non_fraud_percentage))"
      ],
      "metadata": {
        "colab": {
          "base_uri": "https://localhost:8080/",
          "height": 0
        },
        "id": "6jjKYZY_-qwx",
        "outputId": "5584dd23-7b2d-4e2a-f111-c48cd7e439af"
      },
      "execution_count": 72,
      "outputs": [
        {
          "metadata": {
            "tags": null
          },
          "name": "stdout",
          "output_type": "stream",
          "text": [
            "Fraud Percentage = 39.39% and Non-Fraud Percentage = 60.61%\n"
          ]
        }
      ]
    },
    {
      "cell_type": "code",
      "source": [
        "\n",
        "from sklearn.metrics import roc_auc_score, roc_curve\n",
        "\n",
        "# Define the base learners\n",
        "lr = LogisticRegression(C=100, penalty='l2', max_iter=10000, random_state=42)\n",
        "rf = RandomForestClassifier(n_estimators=52, max_depth=20, min_samples_split=4, \n",
        "                            min_samples_leaf=1, max_features='auto', bootstrap=False, random_state=42)\n",
        "xgb = XGBClassifier(n_estimators=52, max_depth=33, learning_rate=0.6432882184423532, gamma=0.3881699262065219, \n",
        "                    min_child_weight=3, subsample=0.9414648087765252, colsample_bytree=0.575474177875879, random_state=42)\n",
        "dt = DecisionTreeClassifier(class_weight='balanced', max_depth=10, min_samples_split=500, random_state=42)\n",
        "\n",
        "svm_rbf = SVC(C=10, kernel='rbf',probability=True)\n",
        "\n",
        "# Define the voting classifier\n",
        "voting_clf = VotingClassifier(\n",
        "    estimators=[('lr', lr), ('rf', rf), ('xgb', xgb), ('dt', dt), ('svm_rbf', svm_rbf)],\n",
        "    voting='soft')\n",
        "\n",
        "# Fit the voting classifier on the training data\n",
        "voting_clf.fit(x_train_res, y_train_res)\n",
        "\n",
        "# Predict on the testing data\n",
        "y_pred = voting_clf.predict_proba(x_te)[:, 1]\n",
        "\n",
        "# Calculate the ROC AUC score\n",
        "roc_auc = roc_auc_score(y_te, y_pred)\n",
        "print(\"ROC AUC score of ensemble model:\", roc_auc)\n",
        "\n",
        "# Calculate the ROC curve and find the best threshold\n",
        "fpr, tpr, thresholds = roc_curve(y_te, y_pred)\n",
        "J = tpr - fpr\n",
        "best_threshold = thresholds[np.argmax(J)]\n",
        "print(\"Best threshold value:\", best_threshold)\n",
        "\n",
        "# Convert the probabilities to binary predictions using the best threshold\n",
        "y_pred_final = (y_pred > best_threshold).astype(int)\n",
        "\n",
        "# Evaluate the f1 score of the ensemble model\n",
        "f1 = f1_score(y_te, y_pred_final, average='macro')\n",
        "print(\"F1 score of ensemble model:\", f1)"
      ],
      "metadata": {
        "colab": {
          "base_uri": "https://localhost:8080/",
          "height": 0
        },
        "id": "DfIiybko-sar",
        "outputId": "041515c8-97a9-4ef0-a605-b0b617a92353"
      },
      "execution_count": 73,
      "outputs": [
        {
          "output_type": "stream",
          "name": "stdout",
          "text": [
            "ROC AUC score of ensemble model: 0.9361113098858634\n",
            "Best threshold value: 0.4124327229044911\n",
            "F1 score of ensemble model: 0.7851829126656119\n"
          ]
        }
      ]
    },
    {
      "cell_type": "code",
      "source": [
        "# Compute the probabilities of class 1 for the test set\n",
        "y_test_pred_proba = voting_clf.predict_proba(x_te)[:,1]\n",
        "\n",
        "# Compute the probabilities of class 1 for the training set\n",
        "y_train_pred_proba = voting_clf.predict_proba(x_train_res)[:,1]\n",
        "\n",
        "# Compute the ROC AUC for the test set\n",
        "fpr_test, tpr_test, _ = roc_curve(y_te, y_test_pred_proba)\n",
        "auc_test = roc_auc_score(y_te, y_test_pred_proba)\n",
        "\n",
        "# Compute the ROC AUC for the training set\n",
        "fpr_train, tpr_train, _ = roc_curve(y_train_res, y_train_pred_proba)\n",
        "auc_train = roc_auc_score(y_train_res, y_train_pred_proba)\n",
        "\n",
        "# Plot the ROC curve for the training set\n",
        "plt.plot(fpr_train, tpr_train, label='Train ROC (AUC = {:.2f})'.format(auc_train))\n",
        "\n",
        "# Plot the ROC curve for the test set\n",
        "plt.plot(fpr_test, tpr_test, label='Test ROC (AUC = {:.2f})'.format(auc_test))\n",
        "\n",
        "# Plot the diagonal line\n",
        "plt.plot([0, 1], [0, 1], linestyle='--', color='black')\n",
        "\n",
        "# Add labels and legend\n",
        "plt.xlabel('False Positive Rate')\n",
        "plt.ylabel('True Positive Rate')\n",
        "plt.grid()\n",
        "plt.legend()\n",
        "plt.show()\n",
        "\n",
        "# Predict the labels of the test set\n",
        "y_test_pred = voting_clf.predict(x_te)\n",
        "\n",
        "# Compute the confusion matrix for the test set\n",
        "cm_test = confusion_matrix(y_te, y_test_pred)\n",
        "\n",
        "# Print the confusion matrix for the test set\n",
        "print(\"Test Confusion Matrix:\")\n",
        "print(cm_test)\n",
        "\n",
        "# Plot the confusion matrix for the test set\n",
        "sns.heatmap(cm_test, annot=True, fmt='d')\n",
        "plt.xlabel('Predicted Label')\n",
        "plt.ylabel('True Label')\n",
        "plt.title('Test Confusion Matrix')\n",
        "plt.show()\n",
        "\n",
        "# Predict the labels of the training set\n",
        "y_train_pred = voting_clf.predict(x_train_res)\n",
        "\n",
        "# Compute the confusion matrix for the training set\n",
        "cm_train = confusion_matrix(y_train_res, y_train_pred)\n",
        "\n",
        "# Print the confusion matrix for the training set\n",
        "print(\"Train Confusion Matrix:\")\n",
        "print(cm_train)\n",
        "\n",
        "# Plot the confusion matrix for the training set\n",
        "sns.heatmap(cm_train, annot=True, fmt='d')\n",
        "plt.xlabel('Predicted Label')\n",
        "plt.ylabel('True Label')\n",
        "plt.title('Train Confusion Matrix')\n",
        "plt.show()\n",
        "\n",
        "# Compute precision and recall for the test set\n",
        "precision = precision_score(y_te, y_test_pred)\n",
        "recall = recall_score(y_te, y_test_pred)\n",
        "\n",
        "# Print precision, recall, and confusion matrix for the test set\n",
        "print(\"Test Precision: {:.2f}\".format(precision))\n",
        "print(\"Test Recall: {:.2f}\".format(recall))\n",
        "print(\"Test Confusion Matrix:\")\n",
        "print(cm_test)\n",
        "\n",
        "# Compute precision and recall for the training set\n",
        "precision = precision_score(y_train_res, y_train_pred)\n",
        "recall = recall_score(y_train_res, y_train_pred)\n",
        "\n",
        "# Print precision, recall, and confusion matrix for the training set\n",
        "print(\"\\nTrain Precision: {:.2f}\".format(precision))\n",
        "print(\"Train Recall: {:.2f}\".format(recall))\n",
        "print(\"Train Confusion Matrix:\")\n",
        "print(cm_train)"
      ],
      "metadata": {
        "id": "2W6rq9wV-2Nr"
      },
      "execution_count": null,
      "outputs": []
    },
    {
      "cell_type": "code",
      "source": [],
      "metadata": {
        "id": "R2_5GI2LaQtp"
      },
      "execution_count": null,
      "outputs": []
    },
    {
      "cell_type": "markdown",
      "source": [
        "# **MODEL WITH 60:40**"
      ],
      "metadata": {
        "id": "HhGx9c_HYeHa"
      }
    },
    {
      "cell_type": "code",
      "source": [
        "# write the code for 60:40 ratio spilitting \n",
        "from imblearn.over_sampling import SMOTE\n",
        "\n",
        "oversample = SMOTE(sampling_strategy=0.60 / (0.60 + 0.40), random_state=42)\n",
        "x_train_res, y_train_res = oversample.fit_resample(x_trai, y_trai)\n",
        "counter = Counter(y_train_res)\n",
        "fraud_percentage = (counter[1]*100/(counter[0]+counter[1]))\n",
        "non_fraud_percentage = (counter[0]*100/(counter[0]+counter[1]))\n",
        "print(\"Fraud Percentage = {:.2f}% and Non-Fraud Percentage = {:.2f}%\".format(fraud_percentage, non_fraud_percentage))"
      ],
      "metadata": {
        "colab": {
          "base_uri": "https://localhost:8080/",
          "height": 0
        },
        "id": "t-BrvRfW_KfW",
        "outputId": "a2cc38f1-7baf-44e7-d74e-3fe7203a2ae4"
      },
      "execution_count": 75,
      "outputs": [
        {
          "output_type": "stream",
          "name": "stdout",
          "text": [
            "Fraud Percentage = 37.49% and Non-Fraud Percentage = 62.51%\n"
          ]
        }
      ]
    },
    {
      "cell_type": "code",
      "source": [
        "from sklearn.metrics import roc_auc_score, roc_curve\n",
        "\n",
        "# Define the base learners\n",
        "lr = LogisticRegression(C=100, penalty='l2', max_iter=10000, random_state=42)\n",
        "rf = RandomForestClassifier(n_estimators=52, max_depth=20, min_samples_split=4, \n",
        "                            min_samples_leaf=1, max_features='auto', bootstrap=False, random_state=42)\n",
        "xgb = XGBClassifier(n_estimators=52, max_depth=33, learning_rate=0.6432882184423532, gamma=0.3881699262065219, \n",
        "                    min_child_weight=3, subsample=0.9414648087765252, colsample_bytree=0.575474177875879, random_state=42)\n",
        "dt = DecisionTreeClassifier(class_weight='balanced', max_depth=10, min_samples_split=500, random_state=42)\n",
        "\n",
        "svm_rbf = SVC(C=10, kernel='rbf',probability=True)\n",
        "\n",
        "# Define the voting classifier\n",
        "voting_clf = VotingClassifier(\n",
        "    estimators=[('lr', lr), ('rf', rf), ('xgb', xgb), ('dt', dt), ('svm_rbf', svm_rbf)],\n",
        "    voting='soft')\n",
        "\n",
        "# Fit the voting classifier on the training data\n",
        "voting_clf.fit(x_train_res, y_train_res)\n",
        "\n",
        "# Predict on the testing data\n",
        "y_pred = voting_clf.predict_proba(x_te)[:, 1]\n",
        "\n",
        "# Calculate the ROC AUC score\n",
        "roc_auc = roc_auc_score(y_te, y_pred)\n",
        "print(\"ROC AUC score of ensemble model:\", roc_auc)\n",
        "\n",
        "# Calculate the ROC curve and find the best threshold\n",
        "fpr, tpr, thresholds = roc_curve(y_te, y_pred)\n",
        "J = tpr - fpr\n",
        "best_threshold = thresholds[np.argmax(J)]\n",
        "print(\"Best threshold value:\", best_threshold)\n",
        "\n",
        "# Convert the probabilities to binary predictions using the best threshold\n",
        "y_pred_final = (y_pred > best_threshold).astype(int)\n",
        "\n",
        "# Evaluate the f1 score of the ensemble model\n",
        "f1 = f1_score(y_te, y_pred_final, average='macro')\n",
        "print(\"F1 score of ensemble model:\", f1)"
      ],
      "metadata": {
        "colab": {
          "base_uri": "https://localhost:8080/",
          "height": 0
        },
        "id": "cK06sbJ5_OSX",
        "outputId": "49c79a98-b402-4e2a-a9a5-f0f6252fac24"
      },
      "execution_count": 76,
      "outputs": [
        {
          "output_type": "stream",
          "name": "stdout",
          "text": [
            "ROC AUC score of ensemble model: 0.9400694121435471\n",
            "Best threshold value: 0.3199730395846212\n",
            "F1 score of ensemble model: 0.772145819188213\n"
          ]
        }
      ]
    },
    {
      "cell_type": "code",
      "source": [
        "# Compute the probabilities of class 1 for the test set\n",
        "y_test_pred_proba = voting_clf.predict_proba(x_te)[:,1]\n",
        "\n",
        "# Compute the probabilities of class 1 for the training set\n",
        "y_train_pred_proba = voting_clf.predict_proba(x_train_res)[:,1]\n",
        "\n",
        "# Compute the ROC AUC for the test set\n",
        "fpr_test, tpr_test, _ = roc_curve(y_te, y_test_pred_proba)\n",
        "auc_test = roc_auc_score(y_te, y_test_pred_proba)\n",
        "\n",
        "# Compute the ROC AUC for the training set\n",
        "fpr_train, tpr_train, _ = roc_curve(y_train_res, y_train_pred_proba)\n",
        "auc_train = roc_auc_score(y_train_res, y_train_pred_proba)\n",
        "\n",
        "# Plot the ROC curve for the training set\n",
        "plt.plot(fpr_train, tpr_train, label='Train ROC (AUC = {:.2f})'.format(auc_train))\n",
        "\n",
        "# Plot the ROC curve for the test set\n",
        "plt.plot(fpr_test, tpr_test, label='Test ROC (AUC = {:.2f})'.format(auc_test))\n",
        "\n",
        "# Plot the diagonal line\n",
        "plt.plot([0, 1], [0, 1], linestyle='--', color='black')\n",
        "\n",
        "# Add labels and legend\n",
        "plt.xlabel('False Positive Rate')\n",
        "plt.ylabel('True Positive Rate')\n",
        "plt.grid()\n",
        "plt.legend()\n",
        "plt.show()\n",
        "\n",
        "# Predict the labels of the test set\n",
        "y_test_pred = voting_clf.predict(x_te)\n",
        "\n",
        "# Compute the confusion matrix for the test set\n",
        "cm_test = confusion_matrix(y_te, y_test_pred)\n",
        "\n",
        "# Print the confusion matrix for the test set\n",
        "print(\"Test Confusion Matrix:\")\n",
        "print(cm_test)\n",
        "\n",
        "# Plot the confusion matrix for the test set\n",
        "sns.heatmap(cm_test, annot=True, fmt='d')\n",
        "plt.xlabel('Predicted Label')\n",
        "plt.ylabel('True Label')\n",
        "plt.title('Test Confusion Matrix')\n",
        "plt.show()\n",
        "\n",
        "# Predict the labels of the training set\n",
        "y_train_pred = voting_clf.predict(x_train_res)\n",
        "\n",
        "# Compute the confusion matrix for the training set\n",
        "cm_train = confusion_matrix(y_train_res, y_train_pred)\n",
        "\n",
        "# Print the confusion matrix for the training set\n",
        "print(\"Train Confusion Matrix:\")\n",
        "print(cm_train)\n",
        "\n",
        "# Plot the confusion matrix for the training set\n",
        "sns.heatmap(cm_train, annot=True, fmt='d')\n",
        "plt.xlabel('Predicted Label')\n",
        "plt.ylabel('True Label')\n",
        "plt.title('Train Confusion Matrix')\n",
        "plt.show()\n",
        "\n",
        "# Compute precision and recall for the test set\n",
        "precision = precision_score(y_te, y_test_pred)\n",
        "recall = recall_score(y_te, y_test_pred)\n",
        "\n",
        "# Print precision, recall, and confusion matrix for the test set\n",
        "print(\"Test Precision: {:.2f}\".format(precision))\n",
        "print(\"Test Recall: {:.2f}\".format(recall))\n",
        "print(\"Test Confusion Matrix:\")\n",
        "print(cm_test)\n",
        "\n",
        "# Compute precision and recall for the training set\n",
        "precision = precision_score(y_train_res, y_train_pred)\n",
        "recall = recall_score(y_train_res, y_train_pred)\n",
        "\n",
        "# Print precision, recall, and confusion matrix for the training set\n",
        "print(\"\\nTrain Precision: {:.2f}\".format(precision))\n",
        "print(\"Train Recall: {:.2f}\".format(recall))\n",
        "print(\"Train Confusion Matrix:\")\n",
        "print(cm_train)"
      ],
      "metadata": {
        "id": "zB5-5-Uk_UhA"
      },
      "execution_count": null,
      "outputs": []
    },
    {
      "cell_type": "code",
      "source": [],
      "metadata": {
        "id": "mM__gDolaPPq"
      },
      "execution_count": null,
      "outputs": []
    },
    {
      "cell_type": "markdown",
      "source": [
        "# **MODEL WITH 50:50 SPLIT**"
      ],
      "metadata": {
        "id": "t31ytlYNYjgL"
      }
    },
    {
      "cell_type": "code",
      "source": [
        "# write the code for 50:50 ratio spilitting \n",
        "from imblearn.over_sampling import SMOTE\n",
        "\n",
        "oversample = SMOTE(sampling_strategy=0.50 / (0.50 + 0.50), random_state=42)\n",
        "x_train_res, y_train_res = oversample.fit_resample(x_trai, y_trai)\n",
        "counter = Counter(y_train_res)\n",
        "fraud_percentage = (counter[1]*100/(counter[0]+counter[1]))\n",
        "non_fraud_percentage = (counter[0]*100/(counter[0]+counter[1]))\n",
        "print(\"Fraud Percentage = {:.2f}% and Non-Fraud Percentage = {:.2f}%\".format(fraud_percentage, non_fraud_percentage))"
      ],
      "metadata": {
        "id": "tSn0dJ89_pPs"
      },
      "execution_count": null,
      "outputs": []
    },
    {
      "cell_type": "code",
      "source": [
        "from sklearn.metrics import roc_auc_score, roc_curve\n",
        "\n",
        "# Define the base learners\n",
        "lr = LogisticRegression(C=100, penalty='l2', max_iter=10000, random_state=42)\n",
        "rf = RandomForestClassifier(n_estimators=52, max_depth=20, min_samples_split=4, \n",
        "                            min_samples_leaf=1, max_features='auto', bootstrap=False, random_state=42)\n",
        "xgb = XGBClassifier(n_estimators=52, max_depth=33, learning_rate=0.6432882184423532, gamma=0.3881699262065219, \n",
        "                    min_child_weight=3, subsample=0.9414648087765252, colsample_bytree=0.575474177875879, random_state=42)\n",
        "dt = DecisionTreeClassifier(class_weight='balanced', max_depth=10, min_samples_split=500, random_state=42)\n",
        "\n",
        "svm_rbf = SVC(C=10, kernel='rbf',probability=True)\n",
        "\n",
        "# Define the voting classifier\n",
        "voting_clf = VotingClassifier(\n",
        "    estimators=[('lr', lr), ('rf', rf), ('xgb', xgb), ('dt', dt), ('svm_rbf', svm_rbf)],\n",
        "    voting='soft')\n",
        "\n",
        "# Fit the voting classifier on the training data\n",
        "voting_clf.fit(x_train_res, y_train_res)\n",
        "\n",
        "# Predict on the testing data\n",
        "y_pred = voting_clf.predict_proba(x_te)[:, 1]\n",
        "\n",
        "# Calculate the ROC AUC score\n",
        "roc_auc = roc_auc_score(y_te, y_pred)\n",
        "print(\"ROC AUC score of ensemble model:\", roc_auc)\n",
        "\n",
        "# Calculate the ROC curve and find the best threshold\n",
        "fpr, tpr, thresholds = roc_curve(y_te, y_pred)\n",
        "J = tpr - fpr\n",
        "best_threshold = thresholds[np.argmax(J)]\n",
        "print(\"Best threshold value:\", best_threshold)\n",
        "\n",
        "# Convert the probabilities to binary predictions using the best threshold\n",
        "y_pred_final = (y_pred > best_threshold).astype(int)\n",
        "\n",
        "# Evaluate the f1 score of the ensemble model\n",
        "f1 = f1_score(y_te, y_pred_final, average='macro')\n",
        "print(\"F1 score of ensemble model:\", f1)\n"
      ],
      "metadata": {
        "id": "bTxDIuh5_voW"
      },
      "execution_count": null,
      "outputs": []
    },
    {
      "cell_type": "code",
      "source": [
        "# Compute the probabilities of class 1 for the test set\n",
        "y_test_pred_proba = voting_clf.predict_proba(x_te)[:,1]\n",
        "\n",
        "# Compute the probabilities of class 1 for the training set\n",
        "y_train_pred_proba = voting_clf.predict_proba(x_train_res)[:,1]\n",
        "\n",
        "# Compute the ROC AUC for the test set\n",
        "fpr_test, tpr_test, _ = roc_curve(y_te, y_test_pred_proba)\n",
        "auc_test = roc_auc_score(y_te, y_test_pred_proba)\n",
        "\n",
        "# Compute the ROC AUC for the training set\n",
        "fpr_train, tpr_train, _ = roc_curve(y_train_res, y_train_pred_proba)\n",
        "auc_train = roc_auc_score(y_train_res, y_train_pred_proba)\n",
        "\n",
        "# Plot the ROC curve for the training set\n",
        "plt.plot(fpr_train, tpr_train, label='Train ROC (AUC = {:.2f})'.format(auc_train))\n",
        "\n",
        "# Plot the ROC curve for the test set\n",
        "plt.plot(fpr_test, tpr_test, label='Test ROC (AUC = {:.2f})'.format(auc_test))\n",
        "\n",
        "# Plot the diagonal line\n",
        "plt.plot([0, 1], [0, 1], linestyle='--', color='black')\n",
        "\n",
        "# Add labels and legend\n",
        "plt.xlabel('False Positive Rate')\n",
        "plt.ylabel('True Positive Rate')\n",
        "plt.grid()\n",
        "plt.legend()\n",
        "plt.show()\n",
        "\n",
        "# Predict the labels of the test set\n",
        "y_test_pred = voting_clf.predict(x_te)\n",
        "\n",
        "# Compute the confusion matrix for the test set\n",
        "cm_test = confusion_matrix(y_te, y_test_pred)\n",
        "\n",
        "# Print the confusion matrix for the test set\n",
        "print(\"Test Confusion Matrix:\")\n",
        "print(cm_test)\n",
        "\n",
        "# Plot the confusion matrix for the test set\n",
        "sns.heatmap(cm_test, annot=True, fmt='d')\n",
        "plt.xlabel('Predicted Label')\n",
        "plt.ylabel('True Label')\n",
        "plt.title('Test Confusion Matrix')\n",
        "plt.show()\n",
        "\n",
        "# Predict the labels of the training set\n",
        "y_train_pred = voting_clf.predict(x_train_res)\n",
        "\n",
        "# Compute the confusion matrix for the training set\n",
        "cm_train = confusion_matrix(y_train_res, y_train_pred)\n",
        "\n",
        "# Print the confusion matrix for the training set\n",
        "print(\"Train Confusion Matrix:\")\n",
        "print(cm_train)\n",
        "\n",
        "# Plot the confusion matrix for the training set\n",
        "sns.heatmap(cm_train, annot=True, fmt='d')\n",
        "plt.xlabel('Predicted Label')\n",
        "plt.ylabel('True Label')\n",
        "plt.title('Train Confusion Matrix')\n",
        "plt.show()\n",
        "\n",
        "# Compute precision and recall for the test set\n",
        "precision = precision_score(y_te, y_test_pred)\n",
        "recall = recall_score(y_te, y_test_pred)\n",
        "\n",
        "# Print precision, recall, and confusion matrix for the test set\n",
        "print(\"Test Precision: {:.2f}\".format(precision))\n",
        "print(\"Test Recall: {:.2f}\".format(recall))\n",
        "print(\"Test Confusion Matrix:\")\n",
        "print(cm_test)\n",
        "\n",
        "# Compute precision and recall for the training set\n",
        "precision = precision_score(y_train_res, y_train_pred)\n",
        "recall = recall_score(y_train_res, y_train_pred)\n",
        "\n",
        "# Print precision, recall, and confusion matrix for the training set\n",
        "print(\"\\nTrain Precision: {:.2f}\".format(precision))\n",
        "print(\"Train Recall: {:.2f}\".format(recall))\n",
        "print(\"Train Confusion Matrix:\")\n",
        "print(cm_train)"
      ],
      "metadata": {
        "colab": {
          "base_uri": "https://localhost:8080/",
          "height": 1130
        },
        "id": "95JdQ4Dm_zEZ",
        "outputId": "865168fc-d4e5-4350-eadb-6cbbbc3eb9de"
      },
      "execution_count": 80,
      "outputs": [
        {
          "data": {
            "image/png": "[encoded data removed]",
            "text/plain": [
              "<Figure size 432x288 with 1 Axes>"
            ]
          },
          "metadata": {},
          "output_type": "display_data"
        },
        {
          "metadata": {
            "tags": null
          },
          "name": "stdout",
          "output_type": "stream",
          "text": [
            "Test Confusion Matrix:\n",
            "[[1381   90]\n",
            " [  41  111]]\n"
          ]
        },
        {
          "data": {
            "image/png": "[encoded data removed]",
            "text/plain": [
              "<Figure size 432x288 with 2 Axes>"
            ]
          },
          "metadata": {},
          "output_type": "display_data"
        },
        {
          "metadata": {
            "tags": null
          },
          "name": "stdout",
          "output_type": "stream",
          "text": [
            "Train Confusion Matrix:\n",
            "[[3352   81]\n",
            " [  47 1669]]\n"
          ]
        },
        {
          "data": {
            "image/png": "[encoded data removed]",
            "text/plain": [
              "<Figure size 432x288 with 2 Axes>"
            ]
          },
          "metadata": {},
          "output_type": "display_data"
        },
        {
          "metadata": {
            "tags": null
          },
          "name": "stdout",
          "output_type": "stream",
          "text": [
            "Test Precision: 0.55\n",
            "Test Recall: 0.73\n",
            "Test Confusion Matrix:\n",
            "[[1381   90]\n",
            " [  41  111]]\n",
            "\n",
            "Train Precision: 0.95\n",
            "Train Recall: 0.97\n",
            "Train Confusion Matrix:\n",
            "[[3352   81]\n",
            " [  47 1669]]\n"
          ]
        }
      ]
    }
  ]
}