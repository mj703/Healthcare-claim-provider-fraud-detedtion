{
  "cells": [
    {
      "cell_type": "code",
      "execution_count": 1,
      "metadata": {
        "id": "CDeHcMmzVWqN"
      },
      "outputs": [],
      "source": [
        "import pandas as pd \n",
        "import numpy as np\n",
        "import matplotlib.pyplot as plt\n"
      ]
    },
    {
      "cell_type": "markdown",
      "source": [
        "#**THIS IS MY FIRST CUT APPROACH FOR MODELING**"
      ],
      "metadata": {
        "id": "XveSPaMalS2x"
      }
    },
    {
      "cell_type": "markdown",
      "source": [
        "# LOADING THE DATASET TRAIN AND TEST"
      ],
      "metadata": {
        "id": "Bk9jekysJay_"
      }
    },
    {
      "cell_type": "code",
      "execution_count": 2,
      "metadata": {
        "id": "6pmb_pwCWbbk"
      },
      "outputs": [],
      "source": [
        "import pandas as pd\n",
        "Final_Dataset_Provider_Train = pd.read_csv('/content/Final_Dataset_Provider_Train.csv')\n",
        "Final_Dataset_Provider_Test = pd.read_csv('/content/Final_Dataset_Provider_Test.csv')"
      ]
    },
    {
      "cell_type": "code",
      "execution_count": 3,
      "metadata": {
        "colab": {
          "base_uri": "https://localhost:8080/",
          "height": 299
        },
        "id": "bEpX8rkqClMo",
        "outputId": "64739b44-aae2-45fb-b46e-df72e8a524f8"
      },
      "outputs": [
        {
          "output_type": "execute_result",
          "data": {
            "text/plain": [
              "   Provider PotentialFraud  InscClaimAmtReimbursed  DeductibleAmtPaid  \\\n",
              "0  PRV51001             No                  104640             5340.0   \n",
              "1  PRV51003            Yes                  605670            66286.0   \n",
              "2  PRV51004             No                   52170              310.0   \n",
              "3  PRV51005            Yes                  280910             3700.0   \n",
              "4  PRV51007             No                   33710             3264.0   \n",
              "\n",
              "   ClmProcedureCode_6  Hospitalization_Duration  Claim_Period  \\\n",
              "0                 0.0                      30.0            61   \n",
              "1                 0.0                     382.0           617   \n",
              "2                 0.0                       0.0           362   \n",
              "3                 0.0                       0.0          2433   \n",
              "4                 0.0                      19.0           141   \n",
              "\n",
              "   ClaimStart_Year  ClaimStart_Month  ClaimEnd_Year  ...  \\\n",
              "0            50225               125          50225  ...   \n",
              "1           265187               804         265188  ...   \n",
              "2           299341               926         299341  ...   \n",
              "3          2340483              7376        2340485  ...   \n",
              "4           144648               448         144648  ...   \n",
              "\n",
              "   PerClmAdmitDiagnosisCode_mean_patient_age  \\\n",
              "0                                1872.124752   \n",
              "1                                9752.142258   \n",
              "2                               10975.369856   \n",
              "3                               85836.366022   \n",
              "4                                5304.497707   \n",
              "\n",
              "   PerClmAdmitDiagnosisCode_mean_Hospitalization_Duration  \\\n",
              "0                                          34.488500        \n",
              "1                                         248.575108        \n",
              "2                                          45.457451        \n",
              "3                                         189.910839        \n",
              "4                                          35.451045        \n",
              "\n",
              "   PerClmAdmitDiagnosisCode_mean_Claim_Period  \\\n",
              "0                                   79.928594   \n",
              "1                                  465.823969   \n",
              "2                                  392.930581   \n",
              "3                                 2914.730682   \n",
              "4                                  201.410628   \n",
              "\n",
              "   PerClmAdmitDiagnosisCode_mean_patient_risk_score  Gender_0  Gender_1  \\\n",
              "0                                        128.360407      16.0       9.0   \n",
              "1                                        662.905082      78.0      54.0   \n",
              "2                                        690.434231     103.0      46.0   \n",
              "3                                       5369.285209     654.0     511.0   \n",
              "4                                        337.941920      38.0      34.0   \n",
              "\n",
              "   Race_1  Race_2  Race_3  Race_5  \n",
              "0    21.0     4.0     0.0     0.0  \n",
              "1   107.0    24.0     0.0     1.0  \n",
              "2   120.0    24.0     5.0     0.0  \n",
              "3   893.0   262.0    10.0     0.0  \n",
              "4    58.0    14.0     0.0     0.0  \n",
              "\n",
              "[5 rows x 240 columns]"
            ],
            "text/html": [
              "\n",
              "  <div id=\"df-34f1851b-ab58-459e-b4d6-c3a19fdfe820\">\n",
              "    <div class=\"colab-df-container\">\n",
              "      <div>\n",
              "<style scoped>\n",
              "    .dataframe tbody tr th:only-of-type {\n",
              "        vertical-align: middle;\n",
              "    }\n",
              "\n",
              "    .dataframe tbody tr th {\n",
              "        vertical-align: top;\n",
              "    }\n",
              "\n",
              "    .dataframe thead th {\n",
              "        text-align: right;\n",
              "    }\n",
              "</style>\n",
              "<table border=\"1\" class=\"dataframe\">\n",
              "  <thead>\n",
              "    <tr style=\"text-align: right;\">\n",
              "      <th></th>\n",
              "      <th>Provider</th>\n",
              "      <th>PotentialFraud</th>\n",
              "      <th>InscClaimAmtReimbursed</th>\n",
              "      <th>DeductibleAmtPaid</th>\n",
              "      <th>ClmProcedureCode_6</th>\n",
              "      <th>Hospitalization_Duration</th>\n",
              "      <th>Claim_Period</th>\n",
              "      <th>ClaimStart_Year</th>\n",
              "      <th>ClaimStart_Month</th>\n",
              "      <th>ClaimEnd_Year</th>\n",
              "      <th>...</th>\n",
              "      <th>PerClmAdmitDiagnosisCode_mean_patient_age</th>\n",
              "      <th>PerClmAdmitDiagnosisCode_mean_Hospitalization_Duration</th>\n",
              "      <th>PerClmAdmitDiagnosisCode_mean_Claim_Period</th>\n",
              "      <th>PerClmAdmitDiagnosisCode_mean_patient_risk_score</th>\n",
              "      <th>Gender_0</th>\n",
              "      <th>Gender_1</th>\n",
              "      <th>Race_1</th>\n",
              "      <th>Race_2</th>\n",
              "      <th>Race_3</th>\n",
              "      <th>Race_5</th>\n",
              "    </tr>\n",
              "  </thead>\n",
              "  <tbody>\n",
              "    <tr>\n",
              "      <th>0</th>\n",
              "      <td>PRV51001</td>\n",
              "      <td>No</td>\n",
              "      <td>104640</td>\n",
              "      <td>5340.0</td>\n",
              "      <td>0.0</td>\n",
              "      <td>30.0</td>\n",
              "      <td>61</td>\n",
              "      <td>50225</td>\n",
              "      <td>125</td>\n",
              "      <td>50225</td>\n",
              "      <td>...</td>\n",
              "      <td>1872.124752</td>\n",
              "      <td>34.488500</td>\n",
              "      <td>79.928594</td>\n",
              "      <td>128.360407</td>\n",
              "      <td>16.0</td>\n",
              "      <td>9.0</td>\n",
              "      <td>21.0</td>\n",
              "      <td>4.0</td>\n",
              "      <td>0.0</td>\n",
              "      <td>0.0</td>\n",
              "    </tr>\n",
              "    <tr>\n",
              "      <th>1</th>\n",
              "      <td>PRV51003</td>\n",
              "      <td>Yes</td>\n",
              "      <td>605670</td>\n",
              "      <td>66286.0</td>\n",
              "      <td>0.0</td>\n",
              "      <td>382.0</td>\n",
              "      <td>617</td>\n",
              "      <td>265187</td>\n",
              "      <td>804</td>\n",
              "      <td>265188</td>\n",
              "      <td>...</td>\n",
              "      <td>9752.142258</td>\n",
              "      <td>248.575108</td>\n",
              "      <td>465.823969</td>\n",
              "      <td>662.905082</td>\n",
              "      <td>78.0</td>\n",
              "      <td>54.0</td>\n",
              "      <td>107.0</td>\n",
              "      <td>24.0</td>\n",
              "      <td>0.0</td>\n",
              "      <td>1.0</td>\n",
              "    </tr>\n",
              "    <tr>\n",
              "      <th>2</th>\n",
              "      <td>PRV51004</td>\n",
              "      <td>No</td>\n",
              "      <td>52170</td>\n",
              "      <td>310.0</td>\n",
              "      <td>0.0</td>\n",
              "      <td>0.0</td>\n",
              "      <td>362</td>\n",
              "      <td>299341</td>\n",
              "      <td>926</td>\n",
              "      <td>299341</td>\n",
              "      <td>...</td>\n",
              "      <td>10975.369856</td>\n",
              "      <td>45.457451</td>\n",
              "      <td>392.930581</td>\n",
              "      <td>690.434231</td>\n",
              "      <td>103.0</td>\n",
              "      <td>46.0</td>\n",
              "      <td>120.0</td>\n",
              "      <td>24.0</td>\n",
              "      <td>5.0</td>\n",
              "      <td>0.0</td>\n",
              "    </tr>\n",
              "    <tr>\n",
              "      <th>3</th>\n",
              "      <td>PRV51005</td>\n",
              "      <td>Yes</td>\n",
              "      <td>280910</td>\n",
              "      <td>3700.0</td>\n",
              "      <td>0.0</td>\n",
              "      <td>0.0</td>\n",
              "      <td>2433</td>\n",
              "      <td>2340483</td>\n",
              "      <td>7376</td>\n",
              "      <td>2340485</td>\n",
              "      <td>...</td>\n",
              "      <td>85836.366022</td>\n",
              "      <td>189.910839</td>\n",
              "      <td>2914.730682</td>\n",
              "      <td>5369.285209</td>\n",
              "      <td>654.0</td>\n",
              "      <td>511.0</td>\n",
              "      <td>893.0</td>\n",
              "      <td>262.0</td>\n",
              "      <td>10.0</td>\n",
              "      <td>0.0</td>\n",
              "    </tr>\n",
              "    <tr>\n",
              "      <th>4</th>\n",
              "      <td>PRV51007</td>\n",
              "      <td>No</td>\n",
              "      <td>33710</td>\n",
              "      <td>3264.0</td>\n",
              "      <td>0.0</td>\n",
              "      <td>19.0</td>\n",
              "      <td>141</td>\n",
              "      <td>144648</td>\n",
              "      <td>448</td>\n",
              "      <td>144648</td>\n",
              "      <td>...</td>\n",
              "      <td>5304.497707</td>\n",
              "      <td>35.451045</td>\n",
              "      <td>201.410628</td>\n",
              "      <td>337.941920</td>\n",
              "      <td>38.0</td>\n",
              "      <td>34.0</td>\n",
              "      <td>58.0</td>\n",
              "      <td>14.0</td>\n",
              "      <td>0.0</td>\n",
              "      <td>0.0</td>\n",
              "    </tr>\n",
              "  </tbody>\n",
              "</table>\n",
              "<p>5 rows × 240 columns</p>\n",
              "</div>\n",
              "      <button class=\"colab-df-convert\" onclick=\"convertToInteractive('df-34f1851b-ab58-459e-b4d6-c3a19fdfe820')\"\n",
              "              title=\"Convert this dataframe to an interactive table.\"\n",
              "              style=\"display:none;\">\n",
              "        \n",
              "  <svg xmlns=\"http://www.w3.org/2000/svg\" height=\"24px\"viewBox=\"0 0 24 24\"\n",
              "       width=\"24px\">\n",
              "    <path d=\"M0 0h24v24H0V0z\" fill=\"none\"/>\n",
              "    <path d=\"M18.56 5.44l.94 2.06.94-2.06 2.06-.94-2.06-.94-.94-2.06-.94 2.06-2.06.94zm-11 1L8.5 8.5l.94-2.06 2.06-.94-2.06-.94L8.5 2.5l-.94 2.06-2.06.94zm10 10l.94 2.06.94-2.06 2.06-.94-2.06-.94-.94-2.06-.94 2.06-2.06.94z\"/><path d=\"M17.41 7.96l-1.37-1.37c-.4-.4-.92-.59-1.43-.59-.52 0-1.04.2-1.43.59L10.3 9.45l-7.72 7.72c-.78.78-.78 2.05 0 2.83L4 21.41c.39.39.9.59 1.41.59.51 0 1.02-.2 1.41-.59l7.78-7.78 2.81-2.81c.8-.78.8-2.07 0-2.86zM5.41 20L4 18.59l7.72-7.72 1.47 1.35L5.41 20z\"/>\n",
              "  </svg>\n",
              "      </button>\n",
              "      \n",
              "  <style>\n",
              "    .colab-df-container {\n",
              "      display:flex;\n",
              "      flex-wrap:wrap;\n",
              "      gap: 12px;\n",
              "    }\n",
              "\n",
              "    .colab-df-convert {\n",
              "      background-color: #E8F0FE;\n",
              "      border: none;\n",
              "      border-radius: 50%;\n",
              "      cursor: pointer;\n",
              "      display: none;\n",
              "      fill: #1967D2;\n",
              "      height: 32px;\n",
              "      padding: 0 0 0 0;\n",
              "      width: 32px;\n",
              "    }\n",
              "\n",
              "    .colab-df-convert:hover {\n",
              "      background-color: #E2EBFA;\n",
              "      box-shadow: 0px 1px 2px rgba(60, 64, 67, 0.3), 0px 1px 3px 1px rgba(60, 64, 67, 0.15);\n",
              "      fill: #174EA6;\n",
              "    }\n",
              "\n",
              "    [theme=dark] .colab-df-convert {\n",
              "      background-color: #3B4455;\n",
              "      fill: #D2E3FC;\n",
              "    }\n",
              "\n",
              "    [theme=dark] .colab-df-convert:hover {\n",
              "      background-color: #434B5C;\n",
              "      box-shadow: 0px 1px 3px 1px rgba(0, 0, 0, 0.15);\n",
              "      filter: drop-shadow(0px 1px 2px rgba(0, 0, 0, 0.3));\n",
              "      fill: #FFFFFF;\n",
              "    }\n",
              "  </style>\n",
              "\n",
              "      <script>\n",
              "        const buttonEl =\n",
              "          document.querySelector('#df-34f1851b-ab58-459e-b4d6-c3a19fdfe820 button.colab-df-convert');\n",
              "        buttonEl.style.display =\n",
              "          google.colab.kernel.accessAllowed ? 'block' : 'none';\n",
              "\n",
              "        async function convertToInteractive(key) {\n",
              "          const element = document.querySelector('#df-34f1851b-ab58-459e-b4d6-c3a19fdfe820');\n",
              "          const dataTable =\n",
              "            await google.colab.kernel.invokeFunction('convertToInteractive',\n",
              "                                                     [key], {});\n",
              "          if (!dataTable) return;\n",
              "\n",
              "          const docLinkHtml = 'Like what you see? Visit the ' +\n",
              "            '<a target=\"_blank\" href=https://colab.research.google.com/notebooks/data_table.ipynb>data table notebook</a>'\n",
              "            + ' to learn more about interactive tables.';\n",
              "          element.innerHTML = '';\n",
              "          dataTable['output_type'] = 'display_data';\n",
              "          await google.colab.output.renderOutput(dataTable, element);\n",
              "          const docLink = document.createElement('div');\n",
              "          docLink.innerHTML = docLinkHtml;\n",
              "          element.appendChild(docLink);\n",
              "        }\n",
              "      </script>\n",
              "    </div>\n",
              "  </div>\n",
              "  "
            ]
          },
          "metadata": {},
          "execution_count": 3
        }
      ],
      "source": [
        "Final_Dataset_Provider_Train.head()"
      ]
    },
    {
      "cell_type": "code",
      "execution_count": 4,
      "metadata": {
        "id": "rCoJyVAJC2eY"
      },
      "outputs": [],
      "source": [
        "Final_Dataset_Provider_Train['PotentialFraud'].replace(to_replace=['Yes','No'], value=[1,0], inplace=True)\n"
      ]
    },
    {
      "cell_type": "code",
      "execution_count": 5,
      "metadata": {
        "colab": {
          "base_uri": "https://localhost:8080/",
          "height": 487
        },
        "id": "_bB84F4WDLUV",
        "outputId": "85c98f3e-5714-4ae6-81cc-a5db15b4af81"
      },
      "outputs": [
        {
          "output_type": "execute_result",
          "data": {
            "text/plain": [
              "      Provider  PotentialFraud  InscClaimAmtReimbursed  DeductibleAmtPaid  \\\n",
              "0     PRV51001               0                  104640             5340.0   \n",
              "1     PRV51003               1                  605670            66286.0   \n",
              "2     PRV51004               0                   52170              310.0   \n",
              "3     PRV51005               1                  280910             3700.0   \n",
              "4     PRV51007               0                   33710             3264.0   \n",
              "...        ...             ...                     ...                ...   \n",
              "5405  PRV57759               0                   10640              130.0   \n",
              "5406  PRV57760               0                    4770                0.0   \n",
              "5407  PRV57761               0                   18470              370.0   \n",
              "5408  PRV57762               0                    1900                0.0   \n",
              "5409  PRV57763               0                   43610              390.0   \n",
              "\n",
              "      ClmProcedureCode_6  Hospitalization_Duration  Claim_Period  \\\n",
              "0                    0.0                      30.0            61   \n",
              "1                    0.0                     382.0           617   \n",
              "2                    0.0                       0.0           362   \n",
              "3                    0.0                       0.0          2433   \n",
              "4                    0.0                      19.0           141   \n",
              "...                  ...                       ...           ...   \n",
              "5405                 0.0                       0.0            88   \n",
              "5406                 0.0                       0.0            29   \n",
              "5407                 0.0                       0.0           196   \n",
              "5408                 0.0                       0.0             1   \n",
              "5409                 0.0                       0.0           321   \n",
              "\n",
              "      ClaimStart_Year  ClaimStart_Month  ClaimEnd_Year  ...  \\\n",
              "0               50225               125          50225  ...   \n",
              "1              265187               804         265188  ...   \n",
              "2              299341               926         299341  ...   \n",
              "3             2340483              7376        2340485  ...   \n",
              "4              144648               448         144648  ...   \n",
              "...               ...               ...            ...  ...   \n",
              "5405            56252               151          56252  ...   \n",
              "5406            44198               134          44198  ...   \n",
              "5407           164738               581         164738  ...   \n",
              "5408             2009                 9           2009  ...   \n",
              "5409           237061               844         237062  ...   \n",
              "\n",
              "      PerClmAdmitDiagnosisCode_mean_patient_age  \\\n",
              "0                                   1872.124752   \n",
              "1                                   9752.142258   \n",
              "2                                  10975.369856   \n",
              "3                                  85836.366022   \n",
              "4                                   5304.497707   \n",
              "...                                         ...   \n",
              "5405                                2071.129169   \n",
              "5406                                1621.401287   \n",
              "5407                                6042.978260   \n",
              "5408                                  77.261951   \n",
              "5409                                8694.473951   \n",
              "\n",
              "      PerClmAdmitDiagnosisCode_mean_Hospitalization_Duration  \\\n",
              "0                                             34.488500        \n",
              "1                                            248.575108        \n",
              "2                                             45.457451        \n",
              "3                                            189.910839        \n",
              "4                                             35.451045        \n",
              "...                                                 ...        \n",
              "5405                                           1.680014        \n",
              "5406                                           7.452757        \n",
              "5407                                          27.729556        \n",
              "5408                                           0.292683        \n",
              "5409                                          15.349733        \n",
              "\n",
              "      PerClmAdmitDiagnosisCode_mean_Claim_Period  \\\n",
              "0                                      79.928594   \n",
              "1                                     465.823969   \n",
              "2                                     392.930581   \n",
              "3                                    2914.730682   \n",
              "4                                     201.410628   \n",
              "...                                          ...   \n",
              "5405                                   73.139847   \n",
              "5406                                   57.719902   \n",
              "5407                                  211.514209   \n",
              "5408                                    2.426829   \n",
              "5409                                  298.432510   \n",
              "\n",
              "      PerClmAdmitDiagnosisCode_mean_patient_risk_score  Gender_0  Gender_1  \\\n",
              "0                                           128.360407      16.0       9.0   \n",
              "1                                           662.905082      78.0      54.0   \n",
              "2                                           690.434231     103.0      46.0   \n",
              "3                                          5369.285209     654.0     511.0   \n",
              "4                                           337.941920      38.0      34.0   \n",
              "...                                                ...       ...       ...   \n",
              "5405                                        131.881358      12.0      16.0   \n",
              "5406                                        102.341050       5.0      17.0   \n",
              "5407                                        385.171512      42.0      40.0   \n",
              "5408                                          5.134146       0.0       1.0   \n",
              "5409                                        544.386266      62.0      56.0   \n",
              "\n",
              "      Race_1  Race_2  Race_3  Race_5  \n",
              "0       21.0     4.0     0.0     0.0  \n",
              "1      107.0    24.0     0.0     1.0  \n",
              "2      120.0    24.0     5.0     0.0  \n",
              "3      893.0   262.0    10.0     0.0  \n",
              "4       58.0    14.0     0.0     0.0  \n",
              "...      ...     ...     ...     ...  \n",
              "5405    22.0     2.0     0.0     4.0  \n",
              "5406    18.0     4.0     0.0     0.0  \n",
              "5407    70.0     7.0     1.0     4.0  \n",
              "5408     1.0     0.0     0.0     0.0  \n",
              "5409    98.0    16.0     4.0     0.0  \n",
              "\n",
              "[5410 rows x 240 columns]"
            ],
            "text/html": [
              "\n",
              "  <div id=\"df-2aab5603-b2e2-4696-89fb-af41b9f30cc4\">\n",
              "    <div class=\"colab-df-container\">\n",
              "      <div>\n",
              "<style scoped>\n",
              "    .dataframe tbody tr th:only-of-type {\n",
              "        vertical-align: middle;\n",
              "    }\n",
              "\n",
              "    .dataframe tbody tr th {\n",
              "        vertical-align: top;\n",
              "    }\n",
              "\n",
              "    .dataframe thead th {\n",
              "        text-align: right;\n",
              "    }\n",
              "</style>\n",
              "<table border=\"1\" class=\"dataframe\">\n",
              "  <thead>\n",
              "    <tr style=\"text-align: right;\">\n",
              "      <th></th>\n",
              "      <th>Provider</th>\n",
              "      <th>PotentialFraud</th>\n",
              "      <th>InscClaimAmtReimbursed</th>\n",
              "      <th>DeductibleAmtPaid</th>\n",
              "      <th>ClmProcedureCode_6</th>\n",
              "      <th>Hospitalization_Duration</th>\n",
              "      <th>Claim_Period</th>\n",
              "      <th>ClaimStart_Year</th>\n",
              "      <th>ClaimStart_Month</th>\n",
              "      <th>ClaimEnd_Year</th>\n",
              "      <th>...</th>\n",
              "      <th>PerClmAdmitDiagnosisCode_mean_patient_age</th>\n",
              "      <th>PerClmAdmitDiagnosisCode_mean_Hospitalization_Duration</th>\n",
              "      <th>PerClmAdmitDiagnosisCode_mean_Claim_Period</th>\n",
              "      <th>PerClmAdmitDiagnosisCode_mean_patient_risk_score</th>\n",
              "      <th>Gender_0</th>\n",
              "      <th>Gender_1</th>\n",
              "      <th>Race_1</th>\n",
              "      <th>Race_2</th>\n",
              "      <th>Race_3</th>\n",
              "      <th>Race_5</th>\n",
              "    </tr>\n",
              "  </thead>\n",
              "  <tbody>\n",
              "    <tr>\n",
              "      <th>0</th>\n",
              "      <td>PRV51001</td>\n",
              "      <td>0</td>\n",
              "      <td>104640</td>\n",
              "      <td>5340.0</td>\n",
              "      <td>0.0</td>\n",
              "      <td>30.0</td>\n",
              "      <td>61</td>\n",
              "      <td>50225</td>\n",
              "      <td>125</td>\n",
              "      <td>50225</td>\n",
              "      <td>...</td>\n",
              "      <td>1872.124752</td>\n",
              "      <td>34.488500</td>\n",
              "      <td>79.928594</td>\n",
              "      <td>128.360407</td>\n",
              "      <td>16.0</td>\n",
              "      <td>9.0</td>\n",
              "      <td>21.0</td>\n",
              "      <td>4.0</td>\n",
              "      <td>0.0</td>\n",
              "      <td>0.0</td>\n",
              "    </tr>\n",
              "    <tr>\n",
              "      <th>1</th>\n",
              "      <td>PRV51003</td>\n",
              "      <td>1</td>\n",
              "      <td>605670</td>\n",
              "      <td>66286.0</td>\n",
              "      <td>0.0</td>\n",
              "      <td>382.0</td>\n",
              "      <td>617</td>\n",
              "      <td>265187</td>\n",
              "      <td>804</td>\n",
              "      <td>265188</td>\n",
              "      <td>...</td>\n",
              "      <td>9752.142258</td>\n",
              "      <td>248.575108</td>\n",
              "      <td>465.823969</td>\n",
              "      <td>662.905082</td>\n",
              "      <td>78.0</td>\n",
              "      <td>54.0</td>\n",
              "      <td>107.0</td>\n",
              "      <td>24.0</td>\n",
              "      <td>0.0</td>\n",
              "      <td>1.0</td>\n",
              "    </tr>\n",
              "    <tr>\n",
              "      <th>2</th>\n",
              "      <td>PRV51004</td>\n",
              "      <td>0</td>\n",
              "      <td>52170</td>\n",
              "      <td>310.0</td>\n",
              "      <td>0.0</td>\n",
              "      <td>0.0</td>\n",
              "      <td>362</td>\n",
              "      <td>299341</td>\n",
              "      <td>926</td>\n",
              "      <td>299341</td>\n",
              "      <td>...</td>\n",
              "      <td>10975.369856</td>\n",
              "      <td>45.457451</td>\n",
              "      <td>392.930581</td>\n",
              "      <td>690.434231</td>\n",
              "      <td>103.0</td>\n",
              "      <td>46.0</td>\n",
              "      <td>120.0</td>\n",
              "      <td>24.0</td>\n",
              "      <td>5.0</td>\n",
              "      <td>0.0</td>\n",
              "    </tr>\n",
              "    <tr>\n",
              "      <th>3</th>\n",
              "      <td>PRV51005</td>\n",
              "      <td>1</td>\n",
              "      <td>280910</td>\n",
              "      <td>3700.0</td>\n",
              "      <td>0.0</td>\n",
              "      <td>0.0</td>\n",
              "      <td>2433</td>\n",
              "      <td>2340483</td>\n",
              "      <td>7376</td>\n",
              "      <td>2340485</td>\n",
              "      <td>...</td>\n",
              "      <td>85836.366022</td>\n",
              "      <td>189.910839</td>\n",
              "      <td>2914.730682</td>\n",
              "      <td>5369.285209</td>\n",
              "      <td>654.0</td>\n",
              "      <td>511.0</td>\n",
              "      <td>893.0</td>\n",
              "      <td>262.0</td>\n",
              "      <td>10.0</td>\n",
              "      <td>0.0</td>\n",
              "    </tr>\n",
              "    <tr>\n",
              "      <th>4</th>\n",
              "      <td>PRV51007</td>\n",
              "      <td>0</td>\n",
              "      <td>33710</td>\n",
              "      <td>3264.0</td>\n",
              "      <td>0.0</td>\n",
              "      <td>19.0</td>\n",
              "      <td>141</td>\n",
              "      <td>144648</td>\n",
              "      <td>448</td>\n",
              "      <td>144648</td>\n",
              "      <td>...</td>\n",
              "      <td>5304.497707</td>\n",
              "      <td>35.451045</td>\n",
              "      <td>201.410628</td>\n",
              "      <td>337.941920</td>\n",
              "      <td>38.0</td>\n",
              "      <td>34.0</td>\n",
              "      <td>58.0</td>\n",
              "      <td>14.0</td>\n",
              "      <td>0.0</td>\n",
              "      <td>0.0</td>\n",
              "    </tr>\n",
              "    <tr>\n",
              "      <th>...</th>\n",
              "      <td>...</td>\n",
              "      <td>...</td>\n",
              "      <td>...</td>\n",
              "      <td>...</td>\n",
              "      <td>...</td>\n",
              "      <td>...</td>\n",
              "      <td>...</td>\n",
              "      <td>...</td>\n",
              "      <td>...</td>\n",
              "      <td>...</td>\n",
              "      <td>...</td>\n",
              "      <td>...</td>\n",
              "      <td>...</td>\n",
              "      <td>...</td>\n",
              "      <td>...</td>\n",
              "      <td>...</td>\n",
              "      <td>...</td>\n",
              "      <td>...</td>\n",
              "      <td>...</td>\n",
              "      <td>...</td>\n",
              "      <td>...</td>\n",
              "    </tr>\n",
              "    <tr>\n",
              "      <th>5405</th>\n",
              "      <td>PRV57759</td>\n",
              "      <td>0</td>\n",
              "      <td>10640</td>\n",
              "      <td>130.0</td>\n",
              "      <td>0.0</td>\n",
              "      <td>0.0</td>\n",
              "      <td>88</td>\n",
              "      <td>56252</td>\n",
              "      <td>151</td>\n",
              "      <td>56252</td>\n",
              "      <td>...</td>\n",
              "      <td>2071.129169</td>\n",
              "      <td>1.680014</td>\n",
              "      <td>73.139847</td>\n",
              "      <td>131.881358</td>\n",
              "      <td>12.0</td>\n",
              "      <td>16.0</td>\n",
              "      <td>22.0</td>\n",
              "      <td>2.0</td>\n",
              "      <td>0.0</td>\n",
              "      <td>4.0</td>\n",
              "    </tr>\n",
              "    <tr>\n",
              "      <th>5406</th>\n",
              "      <td>PRV57760</td>\n",
              "      <td>0</td>\n",
              "      <td>4770</td>\n",
              "      <td>0.0</td>\n",
              "      <td>0.0</td>\n",
              "      <td>0.0</td>\n",
              "      <td>29</td>\n",
              "      <td>44198</td>\n",
              "      <td>134</td>\n",
              "      <td>44198</td>\n",
              "      <td>...</td>\n",
              "      <td>1621.401287</td>\n",
              "      <td>7.452757</td>\n",
              "      <td>57.719902</td>\n",
              "      <td>102.341050</td>\n",
              "      <td>5.0</td>\n",
              "      <td>17.0</td>\n",
              "      <td>18.0</td>\n",
              "      <td>4.0</td>\n",
              "      <td>0.0</td>\n",
              "      <td>0.0</td>\n",
              "    </tr>\n",
              "    <tr>\n",
              "      <th>5407</th>\n",
              "      <td>PRV57761</td>\n",
              "      <td>0</td>\n",
              "      <td>18470</td>\n",
              "      <td>370.0</td>\n",
              "      <td>0.0</td>\n",
              "      <td>0.0</td>\n",
              "      <td>196</td>\n",
              "      <td>164738</td>\n",
              "      <td>581</td>\n",
              "      <td>164738</td>\n",
              "      <td>...</td>\n",
              "      <td>6042.978260</td>\n",
              "      <td>27.729556</td>\n",
              "      <td>211.514209</td>\n",
              "      <td>385.171512</td>\n",
              "      <td>42.0</td>\n",
              "      <td>40.0</td>\n",
              "      <td>70.0</td>\n",
              "      <td>7.0</td>\n",
              "      <td>1.0</td>\n",
              "      <td>4.0</td>\n",
              "    </tr>\n",
              "    <tr>\n",
              "      <th>5408</th>\n",
              "      <td>PRV57762</td>\n",
              "      <td>0</td>\n",
              "      <td>1900</td>\n",
              "      <td>0.0</td>\n",
              "      <td>0.0</td>\n",
              "      <td>0.0</td>\n",
              "      <td>1</td>\n",
              "      <td>2009</td>\n",
              "      <td>9</td>\n",
              "      <td>2009</td>\n",
              "      <td>...</td>\n",
              "      <td>77.261951</td>\n",
              "      <td>0.292683</td>\n",
              "      <td>2.426829</td>\n",
              "      <td>5.134146</td>\n",
              "      <td>0.0</td>\n",
              "      <td>1.0</td>\n",
              "      <td>1.0</td>\n",
              "      <td>0.0</td>\n",
              "      <td>0.0</td>\n",
              "      <td>0.0</td>\n",
              "    </tr>\n",
              "    <tr>\n",
              "      <th>5409</th>\n",
              "      <td>PRV57763</td>\n",
              "      <td>0</td>\n",
              "      <td>43610</td>\n",
              "      <td>390.0</td>\n",
              "      <td>0.0</td>\n",
              "      <td>0.0</td>\n",
              "      <td>321</td>\n",
              "      <td>237061</td>\n",
              "      <td>844</td>\n",
              "      <td>237062</td>\n",
              "      <td>...</td>\n",
              "      <td>8694.473951</td>\n",
              "      <td>15.349733</td>\n",
              "      <td>298.432510</td>\n",
              "      <td>544.386266</td>\n",
              "      <td>62.0</td>\n",
              "      <td>56.0</td>\n",
              "      <td>98.0</td>\n",
              "      <td>16.0</td>\n",
              "      <td>4.0</td>\n",
              "      <td>0.0</td>\n",
              "    </tr>\n",
              "  </tbody>\n",
              "</table>\n",
              "<p>5410 rows × 240 columns</p>\n",
              "</div>\n",
              "      <button class=\"colab-df-convert\" onclick=\"convertToInteractive('df-2aab5603-b2e2-4696-89fb-af41b9f30cc4')\"\n",
              "              title=\"Convert this dataframe to an interactive table.\"\n",
              "              style=\"display:none;\">\n",
              "        \n",
              "  <svg xmlns=\"http://www.w3.org/2000/svg\" height=\"24px\"viewBox=\"0 0 24 24\"\n",
              "       width=\"24px\">\n",
              "    <path d=\"M0 0h24v24H0V0z\" fill=\"none\"/>\n",
              "    <path d=\"M18.56 5.44l.94 2.06.94-2.06 2.06-.94-2.06-.94-.94-2.06-.94 2.06-2.06.94zm-11 1L8.5 8.5l.94-2.06 2.06-.94-2.06-.94L8.5 2.5l-.94 2.06-2.06.94zm10 10l.94 2.06.94-2.06 2.06-.94-2.06-.94-.94-2.06-.94 2.06-2.06.94z\"/><path d=\"M17.41 7.96l-1.37-1.37c-.4-.4-.92-.59-1.43-.59-.52 0-1.04.2-1.43.59L10.3 9.45l-7.72 7.72c-.78.78-.78 2.05 0 2.83L4 21.41c.39.39.9.59 1.41.59.51 0 1.02-.2 1.41-.59l7.78-7.78 2.81-2.81c.8-.78.8-2.07 0-2.86zM5.41 20L4 18.59l7.72-7.72 1.47 1.35L5.41 20z\"/>\n",
              "  </svg>\n",
              "      </button>\n",
              "      \n",
              "  <style>\n",
              "    .colab-df-container {\n",
              "      display:flex;\n",
              "      flex-wrap:wrap;\n",
              "      gap: 12px;\n",
              "    }\n",
              "\n",
              "    .colab-df-convert {\n",
              "      background-color: #E8F0FE;\n",
              "      border: none;\n",
              "      border-radius: 50%;\n",
              "      cursor: pointer;\n",
              "      display: none;\n",
              "      fill: #1967D2;\n",
              "      height: 32px;\n",
              "      padding: 0 0 0 0;\n",
              "      width: 32px;\n",
              "    }\n",
              "\n",
              "    .colab-df-convert:hover {\n",
              "      background-color: #E2EBFA;\n",
              "      box-shadow: 0px 1px 2px rgba(60, 64, 67, 0.3), 0px 1px 3px 1px rgba(60, 64, 67, 0.15);\n",
              "      fill: #174EA6;\n",
              "    }\n",
              "\n",
              "    [theme=dark] .colab-df-convert {\n",
              "      background-color: #3B4455;\n",
              "      fill: #D2E3FC;\n",
              "    }\n",
              "\n",
              "    [theme=dark] .colab-df-convert:hover {\n",
              "      background-color: #434B5C;\n",
              "      box-shadow: 0px 1px 3px 1px rgba(0, 0, 0, 0.15);\n",
              "      filter: drop-shadow(0px 1px 2px rgba(0, 0, 0, 0.3));\n",
              "      fill: #FFFFFF;\n",
              "    }\n",
              "  </style>\n",
              "\n",
              "      <script>\n",
              "        const buttonEl =\n",
              "          document.querySelector('#df-2aab5603-b2e2-4696-89fb-af41b9f30cc4 button.colab-df-convert');\n",
              "        buttonEl.style.display =\n",
              "          google.colab.kernel.accessAllowed ? 'block' : 'none';\n",
              "\n",
              "        async function convertToInteractive(key) {\n",
              "          const element = document.querySelector('#df-2aab5603-b2e2-4696-89fb-af41b9f30cc4');\n",
              "          const dataTable =\n",
              "            await google.colab.kernel.invokeFunction('convertToInteractive',\n",
              "                                                     [key], {});\n",
              "          if (!dataTable) return;\n",
              "\n",
              "          const docLinkHtml = 'Like what you see? Visit the ' +\n",
              "            '<a target=\"_blank\" href=https://colab.research.google.com/notebooks/data_table.ipynb>data table notebook</a>'\n",
              "            + ' to learn more about interactive tables.';\n",
              "          element.innerHTML = '';\n",
              "          dataTable['output_type'] = 'display_data';\n",
              "          await google.colab.output.renderOutput(dataTable, element);\n",
              "          const docLink = document.createElement('div');\n",
              "          docLink.innerHTML = docLinkHtml;\n",
              "          element.appendChild(docLink);\n",
              "        }\n",
              "      </script>\n",
              "    </div>\n",
              "  </div>\n",
              "  "
            ]
          },
          "metadata": {},
          "execution_count": 5
        }
      ],
      "source": [
        "Final_Dataset_Provider_Train"
      ]
    },
    {
      "cell_type": "code",
      "execution_count": 6,
      "metadata": {
        "id": "qJU8pfXqWbeJ"
      },
      "outputs": [],
      "source": [
        "# Seperate dependent and independent variables\n",
        "x_train = Final_Dataset_Provider_Train.drop(axis=1,columns=['Provider','PotentialFraud'])\n",
        "y_train = Final_Dataset_Provider_Train['PotentialFraud']\n",
        "x_test = Final_Dataset_Provider_Test.drop(axis=1,columns=['Provider'])"
      ]
    },
    {
      "cell_type": "markdown",
      "metadata": {
        "id": "UQWda0BE3kCh"
      },
      "source": [
        "# **NOW WE WILL STANDERIZE THE DATA**"
      ]
    },
    {
      "cell_type": "code",
      "execution_count": 7,
      "metadata": {
        "id": "TKjfBzS8Wbg6"
      },
      "outputs": [],
      "source": [
        "# ref : https://scikit-learn.org/stable/modules/preprocessing.html\n",
        "\n",
        "from sklearn.preprocessing import StandardScaler\n",
        "\n",
        "scaler = StandardScaler()\n",
        "x_train_standerizaed = scaler.fit_transform(x_train)\n",
        "x_test = scaler.transform(x_test)"
      ]
    },
    {
      "cell_type": "markdown",
      "metadata": {
        "id": "4DA7ihxJ4fP3"
      },
      "source": [
        "# **now will do train and test split**"
      ]
    },
    {
      "cell_type": "code",
      "execution_count": 8,
      "metadata": {
        "id": "b_H0xLNE3uwX"
      },
      "outputs": [],
      "source": [
        "# refer : https://scikit-learn.org/stable/modules/generated/sklearn.model_selection.train_test_split.html\n",
        "\n",
        "from sklearn.model_selection import train_test_split\n",
        "\n",
        "# Split the data into train and test sets\n",
        "x_trai, x_te, y_trai, y_te = train_test_split(x_train_standerizaed, y_train, test_size=0.3,random_state=42,stratify=y_train)"
      ]
    },
    {
      "cell_type": "code",
      "execution_count": 9,
      "metadata": {
        "colab": {
          "base_uri": "https://localhost:8080/",
          "height": 0
        },
        "id": "iyXIs8XT43wE",
        "outputId": "29b6a06c-6d0c-4b40-fd69-d8a04f3e901f"
      },
      "outputs": [
        {
          "output_type": "execute_result",
          "data": {
            "text/plain": [
              "((3787, 238), (1623, 238), (3787,), (1623,))"
            ]
          },
          "metadata": {},
          "execution_count": 9
        }
      ],
      "source": [
        "x_trai.shape ,x_te.shape , y_trai.shape , y_te.shape"
      ]
    },
    {
      "cell_type": "code",
      "execution_count": 10,
      "metadata": {
        "colab": {
          "base_uri": "https://localhost:8080/",
          "height": 0
        },
        "id": "_TXfUfbf5FFj",
        "outputId": "bb53c87c-b6a2-4073-d725-c0667281c9d6"
      },
      "outputs": [
        {
          "output_type": "stream",
          "name": "stdout",
          "text": [
            "Fraud Percentage = 9.35% and Non-Fraud Percentage = 90.65%\n"
          ]
        }
      ],
      "source": [
        "no_count = y_trai.value_counts()[0]\n",
        "yes_count = y_trai.value_counts()[1]\n",
        "\n",
        "fraud_percentage = (yes_count*100/(no_count+yes_count))\n",
        "non_fraud_percentage = (no_count*100/(no_count+yes_count))\n",
        "\n",
        "print(\"Fraud Percentage = {:.2f}% and Non-Fraud Percentage = {:.2f}%\".format(fraud_percentage, non_fraud_percentage))"
      ]
    },
    {
      "cell_type": "markdown",
      "metadata": {
        "id": "Eg_FPAgK7gbg"
      },
      "source": [
        "# **AS WE CAN SEE THAT DATASET IS HIGHLY IMBALANCED DATASET SO WE HAVE TO PERFORM HANDLING IMBALANCED DATASET TECHNIQUES**"
      ]
    },
    {
      "cell_type": "code",
      "source": [
        "from collections import Counter\n"
      ],
      "metadata": {
        "id": "daLoAUDlp0cH"
      },
      "execution_count": 11,
      "outputs": []
    },
    {
      "cell_type": "markdown",
      "source": [
        "# **TRAIN MODEL WITH SMOTE TECHNIQUE WITH 80:20 SPLIT**\n",
        "\n",
        "\n",
        "\n"
      ],
      "metadata": {
        "id": "4gXW5QcWRPYP"
      }
    },
    {
      "cell_type": "code",
      "source": [
        "# refer : https://imbalanced-learn.org/stable/references/generated/imblearn.over_sampling.SMOTE.html\n",
        "\n",
        "# https://machinelearningmastery.com/smote-oversampling-for-imbalanced-classification/\n",
        "from imblearn.over_sampling import SMOTE\n",
        "\n",
        "\n",
        "oversample = SMOTE(sampling_strategy=0.80 / (0.80 + 0.20), random_state=42)\n",
        "x_train_res, y_train_res = oversample.fit_resample(x_trai, y_trai)\n",
        "counter = Counter(y_train_res)\n",
        "fraud_percentage = (counter[1]*100/(counter[0]+counter[1]))\n",
        "non_fraud_percentage = (counter[0]*100/(counter[0]+counter[1]))\n",
        "print(\"Fraud Percentage = {:.2f}% and Non-Fraud Percentage = {:.2f}%\".format(fraud_percentage, non_fraud_percentage))"
      ],
      "metadata": {
        "colab": {
          "base_uri": "https://localhost:8080/",
          "height": 0
        },
        "id": "_x7jKM-yR3IH",
        "outputId": "44a9e2b6-31c4-4e3a-a7f2-82d236afd681"
      },
      "execution_count": 12,
      "outputs": [
        {
          "output_type": "stream",
          "name": "stdout",
          "text": [
            "Fraud Percentage = 44.44% and Non-Fraud Percentage = 55.56%\n"
          ]
        }
      ]
    },
    {
      "cell_type": "markdown",
      "metadata": {
        "id": "use8E5Eo9r63"
      },
      "source": [
        "# importing the necessary libraries"
      ]
    },
    {
      "cell_type": "code",
      "execution_count": 13,
      "metadata": {
        "id": "UnKRrc1z9RJO"
      },
      "outputs": [],
      "source": [
        "from sklearn.metrics import roc_curve, auc , f1_score\n",
        "from sklearn.metrics import confusion_matrix\n",
        "from sklearn.calibration import CalibratedClassifierCV\n",
        "from sklearn.ensemble import RandomForestClassifier\n",
        "from sklearn.linear_model import LogisticRegression\n",
        "from sklearn import svm\n",
        "from sklearn.svm import SVC, LinearSVC\n",
        "from sklearn.naive_bayes import GaussianNB\n",
        "from sklearn.model_selection import GridSearchCV\n",
        "from sklearn.tree import DecisionTreeClassifier\n",
        "from sklearn.model_selection import RandomizedSearchCV\n",
        "from sklearn import metrics\n",
        "import numpy as np\n",
        "import seaborn as sns"
      ]
    },
    {
      "cell_type": "code",
      "execution_count": 14,
      "metadata": {
        "colab": {
          "base_uri": "https://localhost:8080/",
          "height": 0
        },
        "id": "r792dHv59xL3",
        "outputId": "0d59fbd4-0627-4bca-c6b3-5f48cc853fa7"
      },
      "outputs": [
        {
          "output_type": "stream",
          "name": "stdout",
          "text": [
            "Best parameters:  {'C': 100, 'penalty': 'l2'}\n",
            "Best score:  0.8852563447453585\n"
          ]
        }
      ],
      "source": [
        "# Define the parameter grid for GridSearchCV\n",
        "param_grid = {'C': [0.01, 0.1, 1, 10, 100], 'penalty': ['l1', 'l2']}\n",
        "\n",
        "# Initialize the logistic regression model\n",
        "logreg = LogisticRegression(solver='liblinear')\n",
        "\n",
        "# Initialize GridSearchCV\n",
        "grid_search = GridSearchCV(logreg, param_grid, cv=5)\n",
        "\n",
        "# Fit the grid search to the data\n",
        "grid_search.fit(x_train_res, y_train_res)\n",
        "\n",
        "# Print the best parameters and score\n",
        "print(\"Best parameters: \", grid_search.best_params_)\n",
        "print(\"Best score: \", grid_search.best_score_)"
      ]
    },
    {
      "cell_type": "markdown",
      "metadata": {
        "id": "7u0uXXTU_6ty"
      },
      "source": [
        "#**Now train with best parameters using LogisticRegression**\n"
      ]
    },
    {
      "cell_type": "code",
      "execution_count": 15,
      "metadata": {
        "colab": {
          "base_uri": "https://localhost:8080/",
          "height": 0
        },
        "id": "noF9f8id9xSM",
        "outputId": "c048bffb-558a-4f06-a509-72109a1d3589"
      },
      "outputs": [
        {
          "output_type": "execute_result",
          "data": {
            "text/plain": [
              "LogisticRegression(C=100, solver='liblinear')"
            ]
          },
          "metadata": {},
          "execution_count": 15
        }
      ],
      "source": [
        "# Initialize the logistic regression model with the best parameters\n",
        "logreg = LogisticRegression(solver='liblinear', C=100, penalty='l2')\n",
        "\n",
        "# Fit the model to the training data\n",
        "logreg.fit(x_train_res, y_train_res)"
      ]
    },
    {
      "cell_type": "code",
      "execution_count": 16,
      "metadata": {
        "id": "e3pgYmy3E13Z"
      },
      "outputs": [],
      "source": [
        "from sklearn.metrics import roc_auc_score, roc_curve\n",
        "import matplotlib.pyplot as plt"
      ]
    },
    {
      "cell_type": "code",
      "execution_count": 17,
      "metadata": {
        "colab": {
          "base_uri": "https://localhost:8080/",
          "height": 0
        },
        "id": "9qGkx9b_CR1a",
        "outputId": "2272b5c6-8494-416b-d13e-25dac44df8b4"
      },
      "outputs": [
        {
          "output_type": "stream",
          "name": "stdout",
          "text": [
            "F1 score: 0.6253\n"
          ]
        }
      ],
      "source": [
        "\n",
        "\n",
        "# Predict the labels of the test set\n",
        "y_pred = logreg.predict(x_te)\n",
        "\n",
        "# Compute the f1 score\n",
        "f1 = f1_score(y_te, y_pred)\n",
        "print(\"F1 score: {:.4f}\".format(f1))\n"
      ]
    },
    {
      "cell_type": "code",
      "execution_count": 18,
      "metadata": {
        "colab": {
          "base_uri": "https://localhost:8080/",
          "height": 0
        },
        "id": "ZDkRfvURErva",
        "outputId": "19b9f33e-4ca6-4a54-c29d-126bcc0db52e"
      },
      "outputs": [
        {
          "output_type": "stream",
          "name": "stdout",
          "text": [
            "ROC AUC Score: 0.91\n"
          ]
        }
      ],
      "source": [
        "from sklearn.metrics import roc_auc_score\n",
        "\n",
        "y_pred_proba = logreg.predict_proba(x_te)[:, 1]\n",
        "roc_auc = roc_auc_score(y_te, y_pred_proba)\n",
        "print(\"ROC AUC Score: {:.2f}\".format(roc_auc))\n"
      ]
    },
    {
      "cell_type": "code",
      "execution_count": 19,
      "metadata": {
        "colab": {
          "base_uri": "https://localhost:8080/",
          "height": 279
        },
        "id": "o6Hc6q0gFsMs",
        "outputId": "77be2c5d-c8d4-4be6-b925-e76649855906"
      },
      "outputs": [
        {
          "output_type": "display_data",
          "data": {
            "text/plain": [
              "<Figure size 432x288 with 1 Axes>"
            ],
            "image/png": "[encoded data removed]"
          },
          "metadata": {
            "needs_background": "light"
          }
        }
      ],
      "source": [
        "# refer :https://machinelearningmastery.com/roc-curves-and-precision-recall-curves-for-classification-in-python/\n",
        "# Compute the probabilities of class 1 for the test set\n",
        "y_test_pred_proba = logreg.predict_proba(x_te)[:,1]\n",
        "\n",
        "# Compute the probabilities of class 1 for the training set\n",
        "y_train_pred_proba = logreg.predict_proba(x_train_res)[:,1]\n",
        "\n",
        "# Compute the ROC AUC for the test set\n",
        "fpr_test, tpr_test, _ = roc_curve(y_te, y_test_pred_proba)\n",
        "auc_test = roc_auc_score(y_te, y_test_pred_proba)\n",
        "\n",
        "# Compute the ROC AUC for the training set\n",
        "fpr_train, tpr_train, _ = roc_curve(y_train_res, y_train_pred_proba)\n",
        "auc_train = roc_auc_score(y_train_res, y_train_pred_proba)\n",
        "\n",
        "# Plot the ROC curve for the training set\n",
        "plt.plot(fpr_train, tpr_train, label='Train ROC (AUC = {:.2f})'.format(auc_train))\n",
        "\n",
        "# Plot the ROC curve for the test set\n",
        "plt.plot(fpr_test, tpr_test, label='Test ROC (AUC = {:.2f})'.format(auc_test))\n",
        "\n",
        "# Plot the diagonal line\n",
        "plt.plot([0, 1], [0, 1], linestyle='--', color='black')\n",
        "\n",
        "# Add labels and legend\n",
        "plt.xlabel('False Positive Rate')\n",
        "plt.ylabel('True Positive Rate')\n",
        "plt.grid()\n",
        "plt.legend()\n",
        "plt.show()\n",
        "\n",
        "\n",
        "\n"
      ]
    },
    {
      "cell_type": "code",
      "source": [
        "from sklearn.metrics import confusion_matrix\n",
        "\n",
        "# Predict the labels of the test set\n",
        "y_test_pred = logreg.predict(x_te)\n",
        "\n",
        "# Compute the confusion matrix for the test set\n",
        "cm_test = confusion_matrix(y_te, y_test_pred)\n",
        "\n",
        "# Plot the confusion matrix for the test set\n",
        "sns.heatmap(cm_test, annot=True, fmt='d')\n",
        "plt.xlabel('Predicted Label')\n",
        "plt.ylabel('True Label')\n",
        "plt.title('Test Confusion Matrix')\n",
        "plt.show()\n",
        "\n",
        "# Predict the labels of the training set\n",
        "y_train_pred = logreg.predict(x_train_res)\n",
        "\n",
        "# Compute the confusion matrix for the training set\n",
        "cm_train = confusion_matrix(y_train_res, y_train_pred)\n",
        "\n",
        "# Plot the confusion matrix for the training set\n",
        "sns.heatmap(cm_train, annot=True, fmt='d')\n",
        "plt.xlabel('Predicted Label')\n",
        "plt.ylabel('True Label')\n",
        "plt.title('Train Confusion Matrix')\n",
        "plt.show()"
      ],
      "metadata": {
        "colab": {
          "base_uri": "https://localhost:8080/",
          "height": 573
        },
        "id": "-G0qpolR3bo1",
        "outputId": "38f634c7-cb4a-41e3-de81-aea3544df755"
      },
      "execution_count": 20,
      "outputs": [
        {
          "output_type": "display_data",
          "data": {
            "text/plain": [
              "<Figure size 432x288 with 2 Axes>"
            ],
            "image/png": "[encoded data removed]"
          },
          "metadata": {
            "needs_background": "light"
          }
        },
        {
          "output_type": "display_data",
          "data": {
            "text/plain": [
              "<Figure size 432x288 with 2 Axes>"
            ],
            "image/png": "[encoded data removed]"
          },
          "metadata": {
            "needs_background": "light"
          }
        }
      ]
    },
    {
      "cell_type": "code",
      "source": [
        "from sklearn.metrics import precision_score\n",
        "from sklearn.metrics import recall_score\n",
        "\n",
        "y_test_pred = logreg.predict(x_te)\n",
        "precision = precision_score(y_te, y_test_pred)\n",
        "recall = recall_score(y_te, y_test_pred)\n",
        "cm = confusion_matrix(y_te, y_test_pred)\n",
        "\n",
        "print(\"Precision: {:.2f}\".format(precision))\n",
        "print(\"Recall: {:.2f}\".format(recall))\n",
        "print(\"Confusion Matrix:\")\n",
        "print(cm)\n",
        "\n",
        "y_train_pred = logreg.predict(x_train_res)\n",
        "precision = precision_score(y_train_res, y_train_pred)\n",
        "recall = recall_score(y_train_res, y_train_pred)\n",
        "cm = confusion_matrix(y_train_res, y_train_pred)\n",
        "\n",
        "print(\"\\nTrain Data:\")\n",
        "print(\"Precision: {:.2f}\".format(precision))\n",
        "print(\"Recall: {:.2f}\".format(recall))\n",
        "print(\"Confusion Matrix:\")\n",
        "print(cm)"
      ],
      "metadata": {
        "colab": {
          "base_uri": "https://localhost:8080/",
          "height": 0
        },
        "id": "l0SZsenJ1xBY",
        "outputId": "043f3938-cfdb-44d5-d988-9f3a1b3fc9e1"
      },
      "execution_count": 23,
      "outputs": [
        {
          "output_type": "stream",
          "name": "stdout",
          "text": [
            "Precision: 0.51\n",
            "Recall: 0.80\n",
            "Confusion Matrix:\n",
            "[[1357  114]\n",
            " [  31  121]]\n",
            "\n",
            "Train Data:\n",
            "Precision: 0.90\n",
            "Recall: 0.86\n",
            "Confusion Matrix:\n",
            "[[3179  254]\n",
            " [ 394 2352]]\n"
          ]
        }
      ]
    },
    {
      "cell_type": "markdown",
      "metadata": {
        "id": "tCWZ2g9EhdGm"
      },
      "source": [
        "# **TRAIN SVM**"
      ]
    },
    {
      "cell_type": "code",
      "execution_count": 26,
      "metadata": {
        "colab": {
          "base_uri": "https://localhost:8080/",
          "height": 0
        },
        "id": "5MOodnOWJdm7",
        "outputId": "3981ee51-c46a-417b-a046-375c436d3317"
      },
      "outputs": [
        {
          "output_type": "stream",
          "name": "stdout",
          "text": [
            "Best Parameters:  {'C': 10, 'kernel': 'rbf'}\n",
            "Best Score:  0.8958275329637377\n"
          ]
        }
      ],
      "source": [
        "# Define the parameter grid for the SVM\n",
        "param_grid = {'C': [0.1, 1, 10], 'kernel': ['linear', 'rbf']}\n",
        "\n",
        "# Create an SVM object\n",
        "svm = SVC(probability=True)\n",
        "\n",
        "# Create a GridSearchCV object\n",
        "grid_search = GridSearchCV(svm, param_grid, cv=5)\n",
        "\n",
        "# Fit the GridSearchCV object to the training data\n",
        "grid_search.fit(x_train_res, y_train_res)\n",
        "\n",
        "# Print the best parameters and the best score\n",
        "print(\"Best Parameters: \", grid_search.best_params_)\n",
        "print(\"Best Score: \", grid_search.best_score_)\n",
        "\n",
        "# Use the best parameters to make predictions on the test data\n",
        "y_pred = grid_search.predict(x_te)"
      ]
    },
    {
      "cell_type": "markdown",
      "metadata": {
        "id": "RuRsaWihjajw"
      },
      "source": [
        "# compute f1 score "
      ]
    },
    {
      "cell_type": "code",
      "execution_count": 27,
      "metadata": {
        "colab": {
          "base_uri": "https://localhost:8080/",
          "height": 0
        },
        "id": "Fhn0reoyixPp",
        "outputId": "faacc7e2-cd97-482b-8543-fea2673b9035"
      },
      "outputs": [
        {
          "output_type": "stream",
          "name": "stdout",
          "text": [
            "F1 score: 0.6323\n"
          ]
        }
      ],
      "source": [
        "# Compute the f1 score\n",
        "f1 = f1_score(y_te, y_pred)\n",
        "print(\"F1 score: {:.4f}\".format(f1))\n"
      ]
    },
    {
      "cell_type": "code",
      "execution_count": 28,
      "metadata": {
        "colab": {
          "base_uri": "https://localhost:8080/",
          "height": 0
        },
        "id": "ZP2a8-AejkJo",
        "outputId": "5702f2a3-95b3-4c67-d865-7663f666bccc"
      },
      "outputs": [
        {
          "output_type": "stream",
          "name": "stdout",
          "text": [
            "ROC AUC Score: 0.89\n"
          ]
        }
      ],
      "source": [
        "from sklearn.metrics import roc_auc_score\n",
        "\n",
        "y_pred_proba = grid_search.predict_proba(x_te)[:, 1]\n",
        "roc_auc = roc_auc_score(y_te, y_pred_proba)\n",
        "print(\"ROC AUC Score: {:.2f}\".format(roc_auc))"
      ]
    },
    {
      "cell_type": "code",
      "execution_count": 29,
      "metadata": {
        "colab": {
          "base_uri": "https://localhost:8080/",
          "height": 279
        },
        "id": "yvvv3DDkj9Yu",
        "outputId": "e64c9ada-d3b3-424c-d988-44110a7614ca"
      },
      "outputs": [
        {
          "output_type": "display_data",
          "data": {
            "text/plain": [
              "<Figure size 432x288 with 1 Axes>"
            ],
            "image/png": "[encoded data removed]"
          },
          "metadata": {
            "needs_background": "light"
          }
        }
      ],
      "source": [
        "# refer : https://machinelearningmastery.com/roc-curves-and-precision-recall-curves-for-classification-in-python/\n",
        "\n",
        "# Compute the probabilities of class 1 for the test set\n",
        "y_test_pred_proba = grid_search.predict_proba(x_te)[:,1]\n",
        "\n",
        "# Compute the probabilities of class 1 for the training set\n",
        "y_train_pred_proba = grid_search.predict_proba(x_train_res)[:,1]\n",
        "\n",
        "# Compute the ROC AUC for the test set\n",
        "fpr_test, tpr_test, _ = roc_curve(y_te, y_test_pred_proba)\n",
        "auc_test = roc_auc_score(y_te, y_test_pred_proba)\n",
        "\n",
        "# Compute the ROC AUC for the training set\n",
        "fpr_train, tpr_train, _ = roc_curve(y_train_res, y_train_pred_proba)\n",
        "auc_train = roc_auc_score(y_train_res, y_train_pred_proba)\n",
        "\n",
        "# Plot the ROC curve for the training set\n",
        "plt.plot(fpr_train, tpr_train, label='Train ROC (AUC = {:.2f})'.format(auc_train))\n",
        "\n",
        "# Plot the ROC curve for the test set\n",
        "plt.plot(fpr_test, tpr_test, label='Test ROC (AUC = {:.2f})'.format(auc_test))\n",
        "\n",
        "# Plot the diagonal line\n",
        "plt.plot([0, 1], [0, 1], linestyle='--', color='black')\n",
        "\n",
        "# Add labels and legend\n",
        "plt.xlabel('False Positive Rate')\n",
        "plt.ylabel('True Positive Rate')\n",
        "plt.grid()\n",
        "plt.legend()\n",
        "plt.show()"
      ]
    },
    {
      "cell_type": "code",
      "execution_count": 30,
      "metadata": {
        "colab": {
          "base_uri": "https://localhost:8080/",
          "height": 282
        },
        "id": "yEWH9voRlOcO",
        "outputId": "3ad4abfa-528a-438b-ea08-6a55219bc9cb"
      },
      "outputs": [
        {
          "output_type": "display_data",
          "data": {
            "text/plain": [
              "<Figure size 432x288 with 2 Axes>"
            ],
            "image/png": "[encoded data removed]"
          },
          "metadata": {
            "needs_background": "light"
          }
        }
      ],
      "source": [
        "from sklearn.metrics import confusion_matrix\n",
        "\n",
        "# Predict the labels of the test set\n",
        "y_pred = grid_search.predict(x_te)\n",
        "\n",
        "# Compute the confusion matrix\n",
        "cm = confusion_matrix(y_te, y_pred)\n",
        "\n",
        "# Plot the confusion matrix\n",
        "import seaborn as sns\n",
        "sns.heatmap(cm, annot=True, fmt='d')\n",
        "plt.xlabel('Predicted Label')\n",
        "plt.ylabel('True Label')\n",
        "plt.show()"
      ]
    },
    {
      "cell_type": "markdown",
      "metadata": {
        "id": "sNzxIw8AmMt2"
      },
      "source": [
        "# Train naive bias"
      ]
    },
    {
      "cell_type": "code",
      "execution_count": 31,
      "metadata": {
        "colab": {
          "base_uri": "https://localhost:8080/",
          "height": 0
        },
        "id": "YsIjhO6_mLKV",
        "outputId": "8971e19f-7d09-4c8f-ab10-d55303baffc2"
      },
      "outputs": [
        {
          "output_type": "stream",
          "name": "stdout",
          "text": [
            "Best Score:  0.8531807734368853\n"
          ]
        }
      ],
      "source": [
        "\n",
        "# Define the parameter grid\n",
        "param_grid = {}\n",
        "\n",
        "# Create a Gaussian Naive Bayes object\n",
        "nb = GaussianNB()\n",
        "\n",
        "# Create a GridSearchCV object\n",
        "grid_search_naive_bias = GridSearchCV(nb, param_grid, cv=5)\n",
        "\n",
        "# Fit the GridSearchCV object to the data\n",
        "grid_search_naive_bias.fit(x_train_res, y_train_res)\n",
        "\n",
        "# Print the best parameters and best score\n",
        "\n",
        "print(\"Best Score: \", grid_search_naive_bias.best_score_)"
      ]
    },
    {
      "cell_type": "code",
      "execution_count": 32,
      "metadata": {
        "colab": {
          "base_uri": "https://localhost:8080/",
          "height": 0
        },
        "id": "8vizEDvqlUY2",
        "outputId": "31f5eaa8-1987-4fa7-84fd-8870f41e3ac7"
      },
      "outputs": [
        {
          "output_type": "stream",
          "name": "stdout",
          "text": [
            "F1 score: 0.6323\n"
          ]
        }
      ],
      "source": [
        "# Compute the f1 score\n",
        "f1 = f1_score(y_te, y_pred)\n",
        "print(\"F1 score: {:.4f}\".format(f1))"
      ]
    },
    {
      "cell_type": "code",
      "execution_count": 33,
      "metadata": {
        "colab": {
          "base_uri": "https://localhost:8080/",
          "height": 0
        },
        "id": "pAEKS1gXnHMc",
        "outputId": "58fd90bd-d80d-48b6-af19-4a5384c2a9dc"
      },
      "outputs": [
        {
          "output_type": "stream",
          "name": "stdout",
          "text": [
            "ROC AUC Score: 0.88\n"
          ]
        }
      ],
      "source": [
        "from sklearn.metrics import roc_auc_score\n",
        "\n",
        "y_pred_proba = grid_search_naive_bias.predict_proba(x_te)[:, 1]\n",
        "roc_auc = roc_auc_score(y_te, y_pred_proba)\n",
        "print(\"ROC AUC Score: {:.2f}\".format(roc_auc))"
      ]
    },
    {
      "cell_type": "code",
      "execution_count": 34,
      "metadata": {
        "colab": {
          "base_uri": "https://localhost:8080/",
          "height": 279
        },
        "id": "tQc4VWwrnNzV",
        "outputId": "aa4052c8-bd8e-4750-9024-d57a589faed4"
      },
      "outputs": [
        {
          "output_type": "display_data",
          "data": {
            "text/plain": [
              "<Figure size 432x288 with 1 Axes>"
            ],
            "image/png": "[encoded data removed]"
          },
          "metadata": {
            "needs_background": "light"
          }
        }
      ],
      "source": [
        "# refer : https://machinelearningmastery.com/roc-curves-and-precision-recall-curves-for-classification-in-python/\n",
        "\n",
        "# Compute the probabilities of class 1 for the test set\n",
        "y_test_pred_proba = grid_search_naive_bias.predict_proba(x_te)[:,1]\n",
        "\n",
        "# Compute the probabilities of class 1 for the training set\n",
        "y_train_pred_proba = grid_search_naive_bias.predict_proba(x_train_res)[:,1]\n",
        "\n",
        "# Compute the ROC AUC for the test set\n",
        "fpr_test, tpr_test, _ = roc_curve(y_te, y_test_pred_proba)\n",
        "auc_test = roc_auc_score(y_te, y_test_pred_proba)\n",
        "\n",
        "# Compute the ROC AUC for the training set\n",
        "fpr_train, tpr_train, _ = roc_curve(y_train_res, y_train_pred_proba)\n",
        "auc_train = roc_auc_score(y_train_res, y_train_pred_proba)\n",
        "\n",
        "# Plot the ROC curve for the training set\n",
        "plt.plot(fpr_train, tpr_train, label='Train ROC (AUC = {:.2f})'.format(auc_train))\n",
        "\n",
        "# Plot the ROC curve for the test set\n",
        "plt.plot(fpr_test, tpr_test, label='Test ROC (AUC = {:.2f})'.format(auc_test))\n",
        "\n",
        "# Plot the diagonal line\n",
        "plt.plot([0, 1], [0, 1], linestyle='--', color='black')\n",
        "\n",
        "# Add labels and legend\n",
        "plt.xlabel('False Positive Rate')\n",
        "plt.ylabel('True Positive Rate')\n",
        "plt.grid()\n",
        "plt.legend()\n",
        "plt.show()"
      ]
    },
    {
      "cell_type": "markdown",
      "metadata": {
        "id": "n1pOZBbBoCQ0"
      },
      "source": [
        "# Train decision tree model"
      ]
    },
    {
      "cell_type": "code",
      "execution_count": 142,
      "metadata": {
        "colab": {
          "base_uri": "https://localhost:8080/",
          "height": 0
        },
        "id": "MQ1xZL2btJG-",
        "outputId": "9474bcf2-e74e-4df4-9715-16a80629570e"
      },
      "outputs": [
        {
          "output_type": "execute_result",
          "data": {
            "text/plain": [
              "GridSearchCV(cv=5, estimator=DecisionTreeClassifier(class_weight='balanced'),\n",
              "             n_jobs=-1,\n",
              "             param_grid={'max_depth': [1, 5, 10, 50],\n",
              "                         'min_samples_split': [5, 10, 100, 500]},\n",
              "             return_train_score=True, scoring='roc_auc')"
            ]
          },
          "metadata": {},
          "execution_count": 142
        }
      ],
      "source": [
        "tree_parameters = {'max_depth': [1, 5, 10, 50],   # MAX DEPTH WE HAVE TAKEN 50\n",
        "                  'min_samples_split': [5, 10, 100, 500]}   #  NUMBER OF min_samples_split \n",
        "\n",
        "\n",
        "decision_tree= DecisionTreeClassifier(class_weight='balanced') \n",
        "clf = GridSearchCV(decision_tree, tree_parameters, cv=5, scoring='roc_auc', return_train_score=True, n_jobs=-1)\n",
        "clf.fit(x_train_res,y_train_res)  "
      ]
    },
    {
      "cell_type": "code",
      "execution_count": 143,
      "metadata": {
        "colab": {
          "base_uri": "https://localhost:8080/",
          "height": 0
        },
        "id": "Piqy-VlstJJ2",
        "outputId": "fca99d2f-8a8e-4d08-8064-b11b8ed6ba61"
      },
      "outputs": [
        {
          "output_type": "stream",
          "name": "stdout",
          "text": [
            "Best score:  0.9312982558649875\n",
            "Best Hyper parameters:  {'max_depth': 5, 'min_samples_split': 500}\n"
          ]
        }
      ],
      "source": [
        "\n",
        "#HERE I M TRYING TO GET THE BEST VALUE FOR ALGO  \n",
        "print('Best score: ',clf.best_score_)\n",
        "\n",
        "# THE I M TRYING TO FINDOUT THAT WHAT SHOULD BE BEST VALUE FOR GBDT PARAMETERS VALUE \n",
        "print('Best Hyper parameters: ',clf.best_params_)"
      ]
    },
    {
      "cell_type": "code",
      "execution_count": 144,
      "metadata": {
        "colab": {
          "base_uri": "https://localhost:8080/",
          "height": 0
        },
        "id": "6wBScTYItJMQ",
        "outputId": "749a2171-2f36-4b60-d6a3-65705107d4eb"
      },
      "outputs": [
        {
          "output_type": "stream",
          "name": "stdout",
          "text": [
            "F1-score:  0.6321525885558583\n"
          ]
        }
      ],
      "source": [
        "# Compute the F1-score\n",
        "f1 = f1_score(y_te, y_pred)\n",
        "\n",
        "# Print the F1-score\n",
        "print(\"F1-score: \", f1)"
      ]
    },
    {
      "cell_type": "code",
      "source": [
        "# Compute the probabilities of class 1 for the test set\n",
        "y_test_pred_proba = clf.predict_proba(x_te)[:,1]\n",
        "\n",
        "# Compute the probabilities of class 1 for the training set\n",
        "y_train_pred_proba = clf.predict_proba(x_train_res)[:,1]\n",
        "\n",
        "# Compute the ROC AUC for the test set\n",
        "fpr_test, tpr_test, _ = roc_curve(y_te, y_test_pred_proba)\n",
        "auc_test = roc_auc_score(y_te, y_test_pred_proba)\n",
        "\n",
        "# Compute the ROC AUC for the training set\n",
        "fpr_train, tpr_train, _ = roc_curve(y_train_res, y_train_pred_proba)\n",
        "auc_train = roc_auc_score(y_train_res, y_train_pred_proba)\n",
        "\n",
        "# Plot the ROC curve for the training set\n",
        "plt.plot(fpr_train, tpr_train, label='Train ROC (AUC = {:.2f})'.format(auc_train))\n",
        "\n",
        "# Plot the ROC curve for the test set\n",
        "plt.plot(fpr_test, tpr_test, label='Test ROC (AUC = {:.2f})'.format(auc_test))\n",
        "\n",
        "# Plot the diagonal line\n",
        "plt.plot([0, 1], [0, 1], linestyle='--', color='black')\n",
        "\n",
        "# Add labels and legend\n",
        "plt.xlabel('False Positive Rate')\n",
        "plt.ylabel('True Positive Rate')\n",
        "plt.grid()\n",
        "plt.legend()\n",
        "plt.show()"
      ],
      "metadata": {
        "colab": {
          "base_uri": "https://localhost:8080/",
          "height": 279
        },
        "id": "OUp78y5rWk87",
        "outputId": "8cc5ad7c-1f7c-4b3b-c465-7e6c6aa910a8"
      },
      "execution_count": 146,
      "outputs": [
        {
          "output_type": "display_data",
          "data": {
            "text/plain": [
              "<Figure size 432x288 with 1 Axes>"
            ],
            "image/png": "[encoded data removed]"
          },
          "metadata": {
            "needs_background": "light"
          }
        }
      ]
    },
    {
      "cell_type": "markdown",
      "metadata": {
        "id": "2hEnaMQyuW73"
      },
      "source": [
        "# Decision tree classifier with best parameters"
      ]
    },
    {
      "cell_type": "code",
      "execution_count": 38,
      "metadata": {
        "colab": {
          "base_uri": "https://localhost:8080/",
          "height": 0
        },
        "id": "txjc5C-St_so",
        "outputId": "e8c943c0-605a-4acf-9241-7c7b0eb06408"
      },
      "outputs": [
        {
          "output_type": "execute_result",
          "data": {
            "text/plain": [
              "DecisionTreeClassifier(class_weight='balanced', max_depth=10,\n",
              "                       min_samples_split=500)"
            ]
          },
          "metadata": {},
          "execution_count": 38
        }
      ],
      "source": [
        "decision_tree = DecisionTreeClassifier(max_depth=10 ,\n",
        "                                       min_samples_split=500,\n",
        "                                       class_weight='balanced')\n",
        "\n",
        "decision_tree.fit(x_train_res, y_train_res)"
      ]
    },
    {
      "cell_type": "code",
      "execution_count": 39,
      "metadata": {
        "colab": {
          "base_uri": "https://localhost:8080/",
          "height": 0
        },
        "id": "zeN20fWsv56i",
        "outputId": "4fdc30a5-6ab3-43c1-9515-fc2a6d31dc83"
      },
      "outputs": [
        {
          "output_type": "stream",
          "name": "stdout",
          "text": [
            "F1 Score:  0.5265225933202358\n",
            "ROC AUC Score:  0.8649906973415865\n"
          ]
        }
      ],
      "source": [
        "# Make predictions on the test set\n",
        "y_pred = decision_tree.predict(x_te)\n",
        "\n",
        "# Calculate the F1 score\n",
        "f1 = f1_score(y_te, y_pred)\n",
        "print(\"F1 Score: \", f1)\n",
        "\n",
        "# Calculate the ROC AUC score\n",
        "roc_auc = roc_auc_score(y_te, y_pred)\n",
        "print(\"ROC AUC Score: \", roc_auc)"
      ]
    },
    {
      "cell_type": "code",
      "execution_count": 40,
      "metadata": {
        "colab": {
          "base_uri": "https://localhost:8080/",
          "height": 279
        },
        "id": "xHUAXieXvSmL",
        "outputId": "15b1c7e0-7e5c-4ae9-cb26-45b22ace9c35"
      },
      "outputs": [
        {
          "output_type": "display_data",
          "data": {
            "text/plain": [
              "<Figure size 432x288 with 1 Axes>"
            ],
            "image/png": "[encoded data removed]"
          },
          "metadata": {
            "needs_background": "light"
          }
        }
      ],
      "source": [
        "# Compute the probabilities of class 1 for the test set\n",
        "y_test_pred_proba = decision_tree.predict_proba(x_te)[:,1]\n",
        "\n",
        "# Compute the probabilities of class 1 for the training set\n",
        "y_train_pred_proba = decision_tree.predict_proba(x_train_res)[:,1]\n",
        "\n",
        "# Compute the ROC AUC for the test set\n",
        "fpr_test, tpr_test, _ = roc_curve(y_te, y_test_pred_proba)\n",
        "auc_test = roc_auc_score(y_te, y_test_pred_proba)\n",
        "\n",
        "# Compute the ROC AUC for the training set\n",
        "fpr_train, tpr_train, _ = roc_curve(y_train_res, y_train_pred_proba)\n",
        "auc_train = roc_auc_score(y_train_res, y_train_pred_proba)\n",
        "\n",
        "# Plot the ROC curve for the training set\n",
        "plt.plot(fpr_train, tpr_train, label='Train ROC (AUC = {:.2f})'.format(auc_train))\n",
        "\n",
        "# Plot the ROC curve for the test set\n",
        "plt.plot(fpr_test, tpr_test, label='Test ROC (AUC = {:.2f})'.format(auc_test))\n",
        "\n",
        "# Plot the diagonal line\n",
        "plt.plot([0, 1], [0, 1], linestyle='--', color='black')\n",
        "\n",
        "# Add labels and legend\n",
        "plt.xlabel('False Positive Rate')\n",
        "plt.ylabel('True Positive Rate')\n",
        "plt.grid()\n",
        "plt.legend()\n",
        "plt.show()\n"
      ]
    },
    {
      "cell_type": "markdown",
      "metadata": {
        "id": "XnCmIyxu2brx"
      },
      "source": [
        "# Train random forest model"
      ]
    },
    {
      "cell_type": "code",
      "execution_count": 41,
      "metadata": {
        "colab": {
          "base_uri": "https://localhost:8080/",
          "height": 0
        },
        "id": "Q0ZsEXkf2YNz",
        "outputId": "9f719378-e6df-4fca-96bb-9eeb5c5d88cf"
      },
      "outputs": [
        {
          "output_type": "stream",
          "name": "stdout",
          "text": [
            "Best hyperparameters:  {'bootstrap': False, 'max_depth': 20, 'max_features': 'auto', 'min_samples_leaf': 1, 'min_samples_split': 4, 'n_estimators': 52}\n"
          ]
        }
      ],
      "source": [
        "# refer : https://stackoverflow.com/questions/53782169/random-forest-tuning-with-randomizedsearchcv\n",
        "\n",
        "from scipy.stats import randint as sp_randint\n",
        "\n",
        "# Define the parameter grid for the RandomForestClassifier\n",
        "param_grid = {\n",
        "    'n_estimators': sp_randint(10, 100),  \n",
        "    'max_depth': [None, 10, 20, 30, 40, 50, 60, 70, 80, 90, 100],\n",
        "    'min_samples_split': sp_randint(2, 11),\n",
        "    'min_samples_leaf': sp_randint(1, 11),\n",
        "    'max_features': ['auto', 'sqrt', None],\n",
        "    'bootstrap': [True, False]\n",
        "}\n",
        "\n",
        "# Create an instance of the RandomForestClassifier \n",
        "rfc = RandomForestClassifier()\n",
        "\n",
        "# Use Rando-mizedSearchCV to find the best hyperparameters\n",
        "random_search = RandomizedSearchCV(rfc, param_distributions=param_grid, n_iter=100, cv=5, random_state=42)\n",
        "\n",
        "# Fit the RandomizedSearchCV model to the data\n",
        "random_search.fit(x_train_res, y_train_res)\n",
        "\n",
        "# Print the best hyperparameters\n",
        "print(\"Best hyperparameters: \", random_search.best_params_)"
      ]
    },
    {
      "cell_type": "code",
      "execution_count": 42,
      "metadata": {
        "colab": {
          "base_uri": "https://localhost:8080/",
          "height": 0
        },
        "id": "cEXuQ08O2lTe",
        "outputId": "b446be99-d298-41a3-e401-75e7f9e9b4bc"
      },
      "outputs": [
        {
          "metadata": {
            "tags": null
          },
          "name": "stdout",
          "output_type": "stream",
          "text": [
            "Best score:  0.9412750229979565\n"
          ]
        }
      ],
      "source": [
        "\n",
        "#HERE I M TRYING TO GET THE BEST VALUE FOR ALGO  \n",
        "print('Best score: ',random_search.best_score_) "
      ]
    },
    {
      "cell_type": "markdown",
      "metadata": {
        "id": "1K5nU0EyJy3a"
      },
      "source": [
        "# now use this parameters to train the model\n"
      ]
    },
    {
      "cell_type": "code",
      "execution_count": 43,
      "metadata": {
        "id": "OyGuEB-xJS7z"
      },
      "outputs": [],
      "source": [
        "rfc = RandomForestClassifier(bootstrap=False, max_depth=20, max_features='auto', \n",
        "                             min_samples_leaf=1, min_samples_split=4, n_estimators=52)\n",
        "\n",
        "# Fit the model to the training data\n",
        "rfc.fit(x_train_res, y_train_res)\n",
        "y_pred = rfc.predict(x_te)"
      ]
    },
    {
      "cell_type": "code",
      "execution_count": 44,
      "metadata": {
        "colab": {
          "base_uri": "https://localhost:8080/",
          "height": 0
        },
        "id": "ELou0R9SKBO3",
        "outputId": "95d6cd50-9f2d-4061-93c9-97ae6286cf27"
      },
      "outputs": [
        {
          "output_type": "stream",
          "name": "stdout",
          "text": [
            "F1 Score:  0.5878378378378378\n",
            "ROC AUC Score:  0.766809635407349\n"
          ]
        }
      ],
      "source": [
        "\n",
        "# Calculate the F1 score\n",
        "f1 = f1_score(y_te, y_pred)\n",
        "print(\"F1 Score: \", f1)\n",
        "\n",
        "# Calculate the ROC AUC score\n",
        "roc_auc = roc_auc_score(y_te, y_pred)\n",
        "print(\"ROC AUC Score: \", roc_auc)"
      ]
    },
    {
      "cell_type": "code",
      "execution_count": 45,
      "metadata": {
        "colab": {
          "base_uri": "https://localhost:8080/",
          "height": 279
        },
        "id": "k_oZarjNKNoO",
        "outputId": "101fde95-4585-4550-e920-638f87e4920d"
      },
      "outputs": [
        {
          "output_type": "display_data",
          "data": {
            "text/plain": [
              "<Figure size 432x288 with 1 Axes>"
            ],
            "image/png": "[encoded data removed]"
          },
          "metadata": {
            "needs_background": "light"
          }
        }
      ],
      "source": [
        "# Compute the probabilities of class 1 for the test set\n",
        "y_test_pred_proba = rfc.predict_proba(x_te)[:,1]\n",
        "\n",
        "# Compute the probabilities of class 1 for the training set\n",
        "y_train_pred_proba = rfc.predict_proba(x_train_res)[:,1]\n",
        "\n",
        "# Compute the ROC AUC for the test set\n",
        "fpr_test, tpr_test, _ = roc_curve(y_te, y_test_pred_proba)\n",
        "auc_test = roc_auc_score(y_te, y_test_pred_proba)\n",
        "\n",
        "# Compute the ROC AUC for the training set\n",
        "fpr_train, tpr_train, _ = roc_curve(y_train_res, y_train_pred_proba)\n",
        "auc_train = roc_auc_score(y_train_res, y_train_pred_proba)\n",
        "\n",
        "# Plot the ROC curve for the training set\n",
        "plt.plot(fpr_train, tpr_train, label='Train ROC (AUC = {:.2f})'.format(auc_train))\n",
        "\n",
        "# Plot the ROC curve for the test set\n",
        "plt.plot(fpr_test, tpr_test, label='Test ROC (AUC = {:.2f})'.format(auc_test))\n",
        "\n",
        "# Plot the diagonal line\n",
        "plt.plot([0, 1], [0, 1], linestyle='--', color='black')\n",
        "\n",
        "# Add labels and legend\n",
        "plt.xlabel('False Positive Rate')\n",
        "plt.ylabel('True Positive Rate')\n",
        "plt.grid()\n",
        "plt.legend()\n",
        "plt.show()\n"
      ]
    },
    {
      "cell_type": "markdown",
      "source": [
        "# Train xg boost "
      ],
      "metadata": {
        "id": "anry7fO-ahpf"
      }
    },
    {
      "cell_type": "code",
      "source": [
        "from xgboost import XGBClassifier\n",
        "from sklearn.model_selection import RandomizedSearchCV\n",
        "from scipy.stats import randint as sp_randint\n",
        "from scipy.stats import uniform as sp_uniform\n",
        "\n",
        "# create an instance of the XGBClassifier\n",
        "xgb_clf = XGBClassifier()\n",
        "\n",
        "# Define the parameter grid for the XGBClassifier\n",
        "param_grid = {\n",
        "    'n_estimators': sp_randint(10, 100),  \n",
        "    'max_depth': sp_randint(1, 101),\n",
        "    'min_child_weight': sp_randint(1, 11),\n",
        "    'subsample': sp_uniform(0, 1),\n",
        "    'colsample_bytree': sp_uniform(0, 1),\n",
        "    'learning_rate': sp_uniform(0, 1),\n",
        "    'gamma': sp_uniform(0, 1)\n",
        "}\n",
        "\n",
        "# Use Rando-mizedSearchCV to find the best hyperparameters\n",
        "random_search = RandomizedSearchCV(xgb_clf, param_distributions=param_grid, n_iter=100, cv=5, random_state=42)\n",
        "\n",
        "# Fit the RandomizedSearchCV model to the data\n",
        "random_search.fit(x_train_res, y_train_res)\n",
        "\n",
        "# Print the best hyperparameters\n",
        "print(\"Best hyperparameters: \", random_search.best_params_)"
      ],
      "metadata": {
        "colab": {
          "base_uri": "https://localhost:8080/",
          "height": 0
        },
        "id": "9-L7Gv-tagrh",
        "outputId": "427f5840-0820-4400-9b35-73dd4cec18be"
      },
      "execution_count": 148,
      "outputs": [
        {
          "output_type": "stream",
          "name": "stdout",
          "text": [
            "Best hyperparameters:  {'colsample_bytree': 0.575474177875879, 'gamma': 0.3881699262065219, 'learning_rate': 0.6432882184423532, 'max_depth': 33, 'min_child_weight': 3, 'n_estimators': 52, 'subsample': 0.9414648087765252}\n"
          ]
        }
      ]
    },
    {
      "cell_type": "code",
      "source": [
        "xgb_clf = XGBClassifier(colsample_bytree=0.575474177875879, \n",
        "                            gamma=0.3881699262065219, \n",
        "                            learning_rate=0.6432882184423532, \n",
        "                            max_depth=33, \n",
        "                            min_child_weight=3, \n",
        "                            n_estimators=52, \n",
        "                            subsample=0.9414648087765252)\n",
        "\n",
        "xgb_clf.fit(x_train_res, y_train_res)\n",
        "\n",
        "y_pred_proba = xgb_clf.predict_proba(x_te)[:, 1]\n",
        "\n",
        "print(\"AUC-ROC: \", roc_auc_score(y_te, y_pred_proba))\n",
        "print(\"F1 Score: \", f1_score(y_te, y_pred))"
      ],
      "metadata": {
        "colab": {
          "base_uri": "https://localhost:8080/",
          "height": 0
        },
        "id": "igjXmUaratyW",
        "outputId": "05cd6656-307b-4116-fbbc-58922a26dc38"
      },
      "execution_count": 151,
      "outputs": [
        {
          "output_type": "stream",
          "name": "stdout",
          "text": [
            "AUC-ROC:  0.9296486457476116\n",
            "F1 Score:  0.6321525885558583\n"
          ]
        }
      ]
    },
    {
      "cell_type": "code",
      "source": [
        "# Compute the probabilities of class 1 for the test set\n",
        "y_test_pred_proba = xgb_clf.predict_proba(x_te)[:,1]\n",
        "\n",
        "# Compute the probabilities of class 1 for the training set\n",
        "y_train_pred_proba = xgb_clf.predict_proba(x_train_res)[:,1]\n",
        "\n",
        "# Compute the ROC AUC for the test set\n",
        "fpr_test, tpr_test, _ = roc_curve(y_te, y_test_pred_proba)\n",
        "auc_test = roc_auc_score(y_te, y_test_pred_proba)\n",
        "\n",
        "# Compute the ROC AUC for the training set\n",
        "fpr_train, tpr_train, _ = roc_curve(y_train_res, y_train_pred_proba)\n",
        "auc_train = roc_auc_score(y_train_res, y_train_pred_proba)\n",
        "\n",
        "# Plot the ROC curve for the training set\n",
        "plt.plot(fpr_train, tpr_train, label='Train ROC (AUC = {:.2f})'.format(auc_train))\n",
        "\n",
        "# Plot the ROC curve for the test set\n",
        "plt.plot(fpr_test, tpr_test, label='Test ROC (AUC = {:.2f})'.format(auc_test))\n",
        "\n",
        "# Plot the diagonal line\n",
        "plt.plot([0, 1], [0, 1], linestyle='--', color='black')\n",
        "\n",
        "# Add labels and legend\n",
        "plt.xlabel('False Positive Rate')\n",
        "plt.ylabel('True Positive Rate')\n",
        "plt.grid()\n",
        "plt.legend()\n",
        "plt.show()"
      ],
      "metadata": {
        "colab": {
          "base_uri": "https://localhost:8080/",
          "height": 279
        },
        "id": "_u5BxUf5asvC",
        "outputId": "04c0b810-d065-4c05-a941-dbb8b823b5b0"
      },
      "execution_count": 152,
      "outputs": [
        {
          "output_type": "display_data",
          "data": {
            "text/plain": [
              "<Figure size 432x288 with 1 Axes>"
            ],
            "image/png": "[encoded data removed]"
          },
          "metadata": {
            "needs_background": "light"
          }
        }
      ]
    },
    {
      "cell_type": "code",
      "source": [],
      "metadata": {
        "id": "gxg2pCI8asyr"
      },
      "execution_count": null,
      "outputs": []
    },
    {
      "cell_type": "markdown",
      "metadata": {
        "id": "50tZCBLaLBvD"
      },
      "source": [
        "# **now will use the dataset size 25:75**"
      ]
    },
    {
      "cell_type": "code",
      "execution_count": 46,
      "metadata": {
        "colab": {
          "base_uri": "https://localhost:8080/",
          "height": 0
        },
        "id": "7o9ryLxsLHsQ",
        "outputId": "a641e5e7-3637-4fa1-8a5c-790496f20708"
      },
      "outputs": [
        {
          "output_type": "stream",
          "name": "stdout",
          "text": [
            "Fraud Percentage = 42.85% and Non-Fraud Percentage = 57.15%\n"
          ]
        }
      ],
      "source": [
        "# write the code for 75:25 ratio spilitting \n",
        "\n",
        "oversample = SMOTE(sampling_strategy=0.75 / (0.75 + 0.25), random_state=42)\n",
        "x_train_res, y_train_res = oversample.fit_resample(x_trai, y_trai)\n",
        "counter = Counter(y_train_res)\n",
        "fraud_percentage = (counter[1]*100/(counter[0]+counter[1]))\n",
        "non_fraud_percentage = (counter[0]*100/(counter[0]+counter[1]))\n",
        "print(\"Fraud Percentage = {:.2f}% and Non-Fraud Percentage = {:.2f}%\".format(fraud_percentage, non_fraud_percentage))"
      ]
    },
    {
      "cell_type": "markdown",
      "metadata": {
        "id": "-6ej5j5SLtjX"
      },
      "source": [
        "# Train logestic regression"
      ]
    },
    {
      "cell_type": "code",
      "source": [
        "\n",
        "grid = {\"C\": np.logspace(-3, 3, 7), \"penalty\": [\"l2\"]}\n",
        "\n",
        "logreg = LogisticRegression(max_iter=10000)\n",
        "logreg_cv = GridSearchCV(logreg, grid, cv=5, scoring='roc_auc', n_jobs=-1, return_train_score=True)\n",
        "\n",
        "logreg_cv.fit(x_train_res, y_train_res)\n",
        "\n",
        "print(\"best parameters = \",logreg_cv.best_params_)\n",
        "print(\"roc_auc_score :\",logreg_cv.best_score_)"
      ],
      "metadata": {
        "colab": {
          "base_uri": "https://localhost:8080/",
          "height": 0
        },
        "id": "FL6CmoajjXQ5",
        "outputId": "122ad1e0-1170-4e6b-d5df-d57513ec6cac"
      },
      "execution_count": 51,
      "outputs": [
        {
          "output_type": "stream",
          "name": "stdout",
          "text": [
            "best parameters =  {'C': 1000.0, 'penalty': 'l2'}\n",
            "roc_auc_score : 0.9529204548232999\n"
          ]
        }
      ]
    },
    {
      "cell_type": "code",
      "source": [
        "\n",
        "#HERE I M TRYING TO GET THE BEST VALUE FOR ALGO  \n",
        "print('Best score: ',logreg_cv.best_score_) \n",
        "y_pred = logreg_cv.predict(x_te)"
      ],
      "metadata": {
        "colab": {
          "base_uri": "https://localhost:8080/",
          "height": 0
        },
        "id": "4yrrDxjU_Pya",
        "outputId": "13606fe4-4db6-41d7-8f5c-0c5749a116a1"
      },
      "execution_count": 52,
      "outputs": [
        {
          "output_type": "stream",
          "name": "stdout",
          "text": [
            "Best score:  0.9529204548232999\n"
          ]
        }
      ]
    },
    {
      "cell_type": "markdown",
      "source": [
        "**using best paramters**"
      ],
      "metadata": {
        "id": "lFEsfZBgU5rJ"
      }
    },
    {
      "cell_type": "code",
      "source": [
        "# Fit the Logistic Regression model with best parameters\n",
        "logreg_using_best_parameter = LogisticRegression(C=1000.0, penalty='l2', max_iter=10000)\n",
        "logreg_using_best_parameter.fit(x_train_res, y_train_res)\n",
        "\n",
        "# Predict the target values using the fitted model\n",
        "y_pred = logreg_using_best_parameter.predict(x_te)\n",
        "\n",
        "# Calculate F1 score\n",
        "f1 = f1_score(y_te, y_pred)\n",
        "print(\"F1 score: {:.2f}\".format(f1))\n",
        "\n",
        "# Calculate AUC-ROC score\n",
        "y_pred_prob = logreg_using_best_parameter.predict_proba(x_te)[:, 1]\n",
        "auc_roc = roc_auc_score(y_te, y_pred_prob)\n",
        "print(\"AUC-ROC score: {:.2f}\".format(auc_roc))"
      ],
      "metadata": {
        "colab": {
          "base_uri": "https://localhost:8080/",
          "height": 0
        },
        "id": "nlmDGhWh_SiE",
        "outputId": "9e65142c-0bfc-4ef3-eb14-f8cdc927cf96"
      },
      "execution_count": 55,
      "outputs": [
        {
          "output_type": "stream",
          "name": "stdout",
          "text": [
            "F1 score: 0.62\n",
            "AUC-ROC score: 0.89\n"
          ]
        }
      ]
    },
    {
      "cell_type": "code",
      "source": [
        "# Compute the probabilities of class 1 for the test set\n",
        "y_test_pred_proba = logreg_using_best_parameter.predict_proba(x_te)[:,1]\n",
        "\n",
        "# Compute the probabilities of class 1 for the training set\n",
        "y_train_pred_proba = logreg_using_best_parameter.predict_proba(x_train_res)[:,1]\n",
        "\n",
        "# Compute the ROC AUC for the test set\n",
        "fpr_test, tpr_test, _ = roc_curve(y_te, y_test_pred_proba)\n",
        "auc_test = roc_auc_score(y_te, y_test_pred_proba)\n",
        "\n",
        "# Compute the ROC AUC for the training set\n",
        "fpr_train, tpr_train, _ = roc_curve(y_train_res, y_train_pred_proba)\n",
        "auc_train = roc_auc_score(y_train_res, y_train_pred_proba)\n",
        "\n",
        "# Plot the ROC curve for the training set\n",
        "plt.plot(fpr_train, tpr_train, label='Train ROC (AUC = {:.2f})'.format(auc_train))\n",
        "\n",
        "# Plot the ROC curve for the test set\n",
        "plt.plot(fpr_test, tpr_test, label='Test ROC (AUC = {:.2f})'.format(auc_test))\n",
        "\n",
        "# Plot the diagonal line\n",
        "plt.plot([0, 1], [0, 1], linestyle='--', color='black')\n",
        "\n",
        "# Add labels and legend\n",
        "plt.xlabel('False Positive Rate')\n",
        "plt.ylabel('True Positive Rate')\n",
        "plt.grid()\n",
        "plt.legend()\n",
        "plt.show()"
      ],
      "metadata": {
        "colab": {
          "base_uri": "https://localhost:8080/",
          "height": 279
        },
        "id": "2PVy4O3J_VdK",
        "outputId": "5e03a9ef-31c3-4ba5-f869-1f62ba692c0b"
      },
      "execution_count": 56,
      "outputs": [
        {
          "output_type": "display_data",
          "data": {
            "text/plain": [
              "<Figure size 432x288 with 1 Axes>"
            ],
            "image/png": "[encoded data removed]"
          },
          "metadata": {
            "needs_background": "light"
          }
        }
      ]
    },
    {
      "cell_type": "markdown",
      "source": [
        "# Train naive bias "
      ],
      "metadata": {
        "id": "osxT8vlSqxrI"
      }
    },
    {
      "cell_type": "code",
      "source": [
        "\n",
        "# Define the parameter grid\n",
        "param_grid = {}\n",
        "\n",
        "# Create a Gaussian Naive Bayes object\n",
        "nb = GaussianNB()\n",
        "\n",
        "# Create a GridSearchCV object\n",
        "grid_search_naive_bias = GridSearchCV(nb, param_grid, cv=5)\n",
        "\n",
        "# Fit the GridSearchCV object to the data\n",
        "grid_search_naive_bias.fit(x_train_res, y_train_res)\n",
        "\n",
        "# Print the best parameters and best score\n",
        "\n",
        "print(\"Best Score: \", grid_search_naive_bias.best_score_)"
      ],
      "metadata": {
        "colab": {
          "base_uri": "https://localhost:8080/",
          "height": 0
        },
        "id": "tpU1_XsI_asf",
        "outputId": "7e225fa8-8a8e-4c1d-8c91-afff5eae6d50"
      },
      "execution_count": 57,
      "outputs": [
        {
          "output_type": "stream",
          "name": "stdout",
          "text": [
            "Best Score:  0.7484601711552076\n"
          ]
        }
      ]
    },
    {
      "cell_type": "code",
      "source": [
        "\n",
        "#HERE I M TRYING TO GET THE BEST VALUE FOR ALGO  \n",
        "print('Best score: ',grid_search_naive_bias.best_score_) \n",
        "y_pred = grid_search_naive_bias.predict(x_te)"
      ],
      "metadata": {
        "colab": {
          "base_uri": "https://localhost:8080/",
          "height": 0
        },
        "id": "v39ILGuc_d_S",
        "outputId": "00774d13-a57b-4004-ff1c-b24ee4fe89f2"
      },
      "execution_count": 58,
      "outputs": [
        {
          "output_type": "stream",
          "name": "stdout",
          "text": [
            "Best score:  0.7484601711552076\n"
          ]
        }
      ]
    },
    {
      "cell_type": "code",
      "source": [
        "# Calculate the F1 score\n",
        "f1 = f1_score(y_te, y_pred)\n",
        "print(\"F1 Score: \", f1)\n",
        "\n",
        "# Calculate the ROC AUC score\n",
        "roc_auc = roc_auc_score(y_te, y_pred)\n",
        "print(\"ROC AUC Score: \", roc_auc)"
      ],
      "metadata": {
        "colab": {
          "base_uri": "https://localhost:8080/",
          "height": 0
        },
        "id": "KhLsO6sOIWJP",
        "outputId": "b3a6db28-29e7-44c1-ff29-a9b12d6ad1a0"
      },
      "execution_count": 59,
      "outputs": [
        {
          "output_type": "stream",
          "name": "stdout",
          "text": [
            "F1 Score:  0.5449101796407185\n",
            "ROC AUC Score:  0.768410766038141\n"
          ]
        }
      ]
    },
    {
      "cell_type": "code",
      "source": [
        "# Compute the probabilities of class 1 for the test set\n",
        "y_test_pred_proba = grid_search_naive_bias.predict_proba(x_te)[:,1]\n",
        "\n",
        "# Compute the probabilities of class 1 for the training set\n",
        "y_train_pred_proba = grid_search_naive_bias.predict_proba(x_train_res)[:,1]\n",
        "\n",
        "# Compute the ROC AUC for the test set\n",
        "fpr_test, tpr_test, _ = roc_curve(y_te, y_test_pred_proba)\n",
        "auc_test = roc_auc_score(y_te, y_test_pred_proba)\n",
        "\n",
        "# Compute the ROC AUC for the training set\n",
        "fpr_train, tpr_train, _ = roc_curve(y_train_res, y_train_pred_proba)\n",
        "auc_train = roc_auc_score(y_train_res, y_train_pred_proba)\n",
        "\n",
        "# Plot the ROC curve for the training set\n",
        "plt.plot(fpr_train, tpr_train, label='Train ROC (AUC = {:.2f})'.format(auc_train))\n",
        "\n",
        "# Plot the ROC curve for the test set\n",
        "plt.plot(fpr_test, tpr_test, label='Test ROC (AUC = {:.2f})'.format(auc_test))\n",
        "\n",
        "# Plot the diagonal line\n",
        "plt.plot([0, 1], [0, 1], linestyle='--', color='black')\n",
        "\n",
        "# Add labels and legend\n",
        "plt.xlabel('False Positive Rate')\n",
        "plt.ylabel('True Positive Rate')\n",
        "plt.grid()\n",
        "plt.legend()\n",
        "plt.show()"
      ],
      "metadata": {
        "colab": {
          "base_uri": "https://localhost:8080/",
          "height": 279
        },
        "id": "cucGWgyi_hpN",
        "outputId": "d40f7864-9bff-41e9-ea39-0548dfb44b44"
      },
      "execution_count": 60,
      "outputs": [
        {
          "output_type": "display_data",
          "data": {
            "text/plain": [
              "<Figure size 432x288 with 1 Axes>"
            ],
            "image/png": "[encoded data removed]"
          },
          "metadata": {
            "needs_background": "light"
          }
        }
      ]
    },
    {
      "cell_type": "markdown",
      "source": [
        "# Train decision tree model"
      ],
      "metadata": {
        "id": "eCnV-INYM_DR"
      }
    },
    {
      "cell_type": "code",
      "source": [
        "decision_tree = DecisionTreeClassifier(max_depth=10 ,\n",
        "                                       min_samples_split=500,\n",
        "                                       class_weight='balanced')\n",
        "\n",
        "decision_tree.fit(x_train_res, y_train_res)"
      ],
      "metadata": {
        "colab": {
          "base_uri": "https://localhost:8080/",
          "height": 0
        },
        "id": "H0I6IYY3_lov",
        "outputId": "f244b0fe-3cee-4df8-846b-4b91961f863d"
      },
      "execution_count": 61,
      "outputs": [
        {
          "output_type": "execute_result",
          "data": {
            "text/plain": [
              "DecisionTreeClassifier(class_weight='balanced', max_depth=10,\n",
              "                       min_samples_split=500)"
            ]
          },
          "metadata": {},
          "execution_count": 61
        }
      ]
    },
    {
      "cell_type": "code",
      "source": [
        "# Make predictions on the test set\n",
        "y_pred = decision_tree.predict(x_te)\n",
        "\n",
        "# Calculate the F1 score\n",
        "f1 = f1_score(y_te, y_pred)\n",
        "print(\"F1 Score: \", f1)\n",
        "\n",
        "# Calculate the ROC AUC score\n",
        "roc_auc = roc_auc_score(y_te, y_pred)\n",
        "print(\"ROC AUC Score: \", roc_auc)"
      ],
      "metadata": {
        "colab": {
          "base_uri": "https://localhost:8080/",
          "height": 0
        },
        "id": "f1Twhcq8NJds",
        "outputId": "5877e830-4b16-4296-f6d3-205fbb7076ee"
      },
      "execution_count": 62,
      "outputs": [
        {
          "output_type": "stream",
          "name": "stdout",
          "text": [
            "F1 Score:  0.5221052631578946\n",
            "ROC AUC Score:  0.8402536763390461\n"
          ]
        }
      ]
    },
    {
      "cell_type": "code",
      "source": [
        "# Compute the probabilities of class 1 for the test set\n",
        "y_test_pred_proba = decision_tree.predict_proba(x_te)[:,1]\n",
        "\n",
        "# Compute the probabilities of class 1 for the training set\n",
        "y_train_pred_proba = decision_tree.predict_proba(x_train_res)[:,1]\n",
        "\n",
        "# Compute the ROC AUC for the test set\n",
        "fpr_test, tpr_test, _ = roc_curve(y_te, y_test_pred_proba)\n",
        "auc_test = roc_auc_score(y_te, y_test_pred_proba)\n",
        "\n",
        "# Compute the ROC AUC for the training set\n",
        "fpr_train, tpr_train, _ = roc_curve(y_train_res, y_train_pred_proba)\n",
        "auc_train = roc_auc_score(y_train_res, y_train_pred_proba)\n",
        "\n",
        "# Plot the ROC curve for the training set\n",
        "plt.plot(fpr_train, tpr_train, label='Train ROC (AUC = {:.2f})'.format(auc_train))\n",
        "\n",
        "# Plot the ROC curve for the test set\n",
        "plt.plot(fpr_test, tpr_test, label='Test ROC (AUC = {:.2f})'.format(auc_test))\n",
        "\n",
        "# Plot the diagonal line\n",
        "plt.plot([0, 1], [0, 1], linestyle='--', color='black')\n",
        "\n",
        "# Add labels and legend\n",
        "plt.xlabel('False Positive Rate')\n",
        "plt.ylabel('True Positive Rate')\n",
        "plt.grid()\n",
        "plt.legend()\n",
        "plt.show()"
      ],
      "metadata": {
        "colab": {
          "base_uri": "https://localhost:8080/",
          "height": 279
        },
        "id": "TTQL4G9XNNMW",
        "outputId": "2c9e6f74-ce5d-4ca5-d02f-3890410c5d6a"
      },
      "execution_count": 63,
      "outputs": [
        {
          "output_type": "display_data",
          "data": {
            "text/plain": [
              "<Figure size 432x288 with 1 Axes>"
            ],
            "image/png": "[encoded data removed]"
          },
          "metadata": {
            "needs_background": "light"
          }
        }
      ]
    },
    {
      "cell_type": "code",
      "source": [
        "# Fit the KNN model with best parameters\n",
        "from sklearn.neighbors import KNeighborsClassifier\n",
        "\n",
        "\n",
        "knn = KNeighborsClassifier(n_neighbors=5, weights='distance')\n",
        "knn.fit(x_train_res, y_train_res)\n",
        "\n",
        "# Predict the target values using the fitted model\n",
        "y_pred = knn.predict(x_te)\n",
        "\n",
        "# Calculate F1 score\n",
        "f1 = f1_score(y_te, y_pred)\n",
        "print(\"F1 score: {:.2f}\".format(f1))\n",
        "\n",
        "# Calculate AUC-ROC score\n",
        "y_pred_prob = knn.predict_proba(x_te)[:, 1]\n",
        "auc_roc = roc_auc_score(y_te, y_pred_prob)\n",
        "print(\"AUC-ROC score: {:.2f}\".format(auc_roc))"
      ],
      "metadata": {
        "colab": {
          "base_uri": "https://localhost:8080/",
          "height": 0
        },
        "id": "d2vAxea0WcQc",
        "outputId": "1554d313-b9cc-4d36-d6b8-83c45d73396b"
      },
      "execution_count": 64,
      "outputs": [
        {
          "output_type": "stream",
          "name": "stdout",
          "text": [
            "F1 score: 0.50\n",
            "AUC-ROC score: 0.87\n"
          ]
        }
      ]
    },
    {
      "cell_type": "code",
      "source": [
        "# Compute the probabilities of class 1 for the test set\n",
        "y_test_pred_proba = knn.predict_proba(x_te)[:,1]\n",
        "\n",
        "# Compute the probabilities of class 1 for the training set\n",
        "y_train_pred_proba = knn.predict_proba(x_train_res)[:,1]\n",
        "\n",
        "# Compute the ROC AUC for the test set\n",
        "fpr_test, tpr_test, _ = roc_curve(y_te, y_test_pred_proba)\n",
        "auc_test = roc_auc_score(y_te, y_test_pred_proba)\n",
        "\n",
        "# Compute the ROC AUC for the training set\n",
        "fpr_train, tpr_train, _ = roc_curve(y_train_res, y_train_pred_proba)\n",
        "auc_train = roc_auc_score(y_train_res, y_train_pred_proba)\n",
        "\n",
        "# Plot the ROC curve for the training set\n",
        "plt.plot(fpr_train, tpr_train, label='Train ROC (AUC = {:.2f})'.format(auc_train))\n",
        "\n",
        "# Plot the ROC curve for the test set\n",
        "plt.plot(fpr_test, tpr_test, label='Test ROC (AUC = {:.2f})'.format(auc_test))\n",
        "\n",
        "# Plot the diagonal line\n",
        "plt.plot([0, 1], [0, 1], linestyle='--', color='black')\n",
        "\n",
        "# Add labels and legend\n",
        "plt.xlabel('False Positive Rate')\n",
        "plt.ylabel('True Positive Rate')\n",
        "plt.grid()\n",
        "plt.legend()\n",
        "plt.show()"
      ],
      "metadata": {
        "colab": {
          "base_uri": "https://localhost:8080/",
          "height": 279
        },
        "id": "jEL48HrGWc49",
        "outputId": "799f09d4-24f4-443a-ed7e-4d1b91523a32"
      },
      "execution_count": 65,
      "outputs": [
        {
          "output_type": "display_data",
          "data": {
            "text/plain": [
              "<Figure size 432x288 with 1 Axes>"
            ],
            "image/png": "[encoded data removed]"
          },
          "metadata": {
            "needs_background": "light"
          }
        }
      ]
    },
    {
      "cell_type": "markdown",
      "source": [
        "# Train svm"
      ],
      "metadata": {
        "id": "aj98frzwXNHW"
      }
    },
    {
      "cell_type": "code",
      "source": [
        "# Define the parameter grid for the SVM\n",
        "param_grid = {'C': [0.1, 1, 10], 'kernel': ['linear', 'rbf']}\n",
        "\n",
        "# Create an SVM object\n",
        "svm = SVC(probability=True)\n",
        "\n",
        "# Create a GridSearchCV object\n",
        "grid_search = GridSearchCV(svm, param_grid, cv=5)\n",
        "\n",
        "# Fit the GridSearchCV object to the training data\n",
        "grid_search.fit(x_train_res, y_train_res)\n",
        "\n",
        "# Print the best parameters and the best score\n",
        "print(\"Best Parameters: \", grid_search.best_params_)\n",
        "print(\"Best Score: \", grid_search.best_score_)\n",
        "\n",
        "# Use the best parameters to make predictions on the test data\n",
        "y_pred = grid_search.predict(x_te)"
      ],
      "metadata": {
        "colab": {
          "base_uri": "https://localhost:8080/",
          "height": 0
        },
        "id": "Y8UOT6SBWvFx",
        "outputId": "b799b5b1-5992-46ce-a061-f0140d6c652a"
      },
      "execution_count": 66,
      "outputs": [
        {
          "output_type": "stream",
          "name": "stdout",
          "text": [
            "Best Parameters:  {'C': 10, 'kernel': 'linear'}\n",
            "Best Score:  0.8872996850932597\n"
          ]
        }
      ]
    },
    {
      "cell_type": "code",
      "source": [
        "# Calculate F1 score\n",
        "f1 = f1_score(y_te, y_pred)\n",
        "print(\"F1 score: {:.2f}\".format(f1))\n",
        "\n",
        "# Calculate AUC-ROC score\n",
        "y_pred_prob = grid_search.predict_proba(x_te)[:, 1]\n",
        "auc_roc = roc_auc_score(y_te, y_pred_prob)"
      ],
      "metadata": {
        "colab": {
          "base_uri": "https://localhost:8080/",
          "height": 0
        },
        "id": "rHpzZghCbNGy",
        "outputId": "5fcea70c-afb1-4594-b461-e69b15674a10"
      },
      "execution_count": 67,
      "outputs": [
        {
          "output_type": "stream",
          "name": "stdout",
          "text": [
            "F1 score: 0.59\n"
          ]
        }
      ]
    },
    {
      "cell_type": "code",
      "source": [
        "# Compute the probabilities of class 1 for the test set\n",
        "y_test_pred_proba = grid_search.predict_proba(x_te)[:,1]\n",
        "\n",
        "# Compute the probabilities of class 1 for the training set\n",
        "y_train_pred_proba = grid_search.predict_proba(x_train_res)[:,1]\n",
        "\n",
        "# Compute the ROC AUC for the test set\n",
        "fpr_test, tpr_test, _ = roc_curve(y_te, y_test_pred_proba)\n",
        "auc_test = roc_auc_score(y_te, y_test_pred_proba)\n",
        "\n",
        "# Compute the ROC AUC for the training set\n",
        "fpr_train, tpr_train, _ = roc_curve(y_train_res, y_train_pred_proba)\n",
        "auc_train = roc_auc_score(y_train_res, y_train_pred_proba)\n",
        "\n",
        "# Plot the ROC curve for the training set\n",
        "plt.plot(fpr_train, tpr_train, label='Train ROC (AUC = {:.2f})'.format(auc_train))\n",
        "\n",
        "# Plot the ROC curve for the test set\n",
        "plt.plot(fpr_test, tpr_test, label='Test ROC (AUC = {:.2f})'.format(auc_test))\n",
        "\n",
        "# Plot the diagonal line\n",
        "plt.plot([0, 1], [0, 1], linestyle='--', color='black')\n",
        "\n",
        "# Add labels and legend\n",
        "plt.xlabel('False Positive Rate')\n",
        "plt.ylabel('True Positive Rate')\n",
        "plt.grid()\n",
        "plt.legend()\n",
        "plt.show()"
      ],
      "metadata": {
        "colab": {
          "base_uri": "https://localhost:8080/",
          "height": 279
        },
        "id": "CfNW8d30bPd2",
        "outputId": "631c1284-4a36-44aa-d3a0-c6d635495986"
      },
      "execution_count": 68,
      "outputs": [
        {
          "output_type": "display_data",
          "data": {
            "text/plain": [
              "<Figure size 432x288 with 1 Axes>"
            ],
            "image/png": "[encoded data removed]"
          },
          "metadata": {
            "needs_background": "light"
          }
        }
      ]
    },
    {
      "cell_type": "markdown",
      "source": [
        "# Train model with ratio of 65:35"
      ],
      "metadata": {
        "id": "8HY58UU1bgm5"
      }
    },
    {
      "cell_type": "code",
      "source": [
        "from imblearn.over_sampling import SMOTE\n",
        "\n",
        "\n",
        "oversample = SMOTE(sampling_strategy=0.65 / (0.65 + 0.35), random_state=42)\n",
        "x_train_res, y_train_res = oversample.fit_resample(x_trai, y_trai)\n",
        "counter = Counter(y_train_res)\n",
        "fraud_percentage = (counter[1]*100/(counter[0]+counter[1]))\n",
        "non_fraud_percentage = (counter[0]*100/(counter[0]+counter[1]))\n",
        "print(\"Fraud Percentage = {:.2f}% and Non-Fraud Percentage = {:.2f}%\".format(fraud_percentage, non_fraud_percentage))"
      ],
      "metadata": {
        "colab": {
          "base_uri": "https://localhost:8080/",
          "height": 0
        },
        "id": "94uTpiT7byMV",
        "outputId": "5960212f-f780-44b8-b464-c632c32bd69b"
      },
      "execution_count": 132,
      "outputs": [
        {
          "output_type": "stream",
          "name": "stdout",
          "text": [
            "Fraud Percentage = 39.39% and Non-Fraud Percentage = 60.61%\n"
          ]
        }
      ]
    },
    {
      "cell_type": "markdown",
      "source": [
        "#Train logestic regression"
      ],
      "metadata": {
        "id": "5U39Q2TF6IFY"
      }
    },
    {
      "cell_type": "code",
      "source": [
        "grid = {\"C\": np.logspace(-3, 3, 7), \"penalty\": [\"l2\"]}\n",
        "\n",
        "logreg = LogisticRegression(max_iter=10000)\n",
        "logreg_cv = GridSearchCV(logreg, grid, cv=5, scoring='roc_auc', n_jobs=-1, return_train_score=True)\n",
        "\n",
        "logreg_cv.fit(x_train_res, y_train_res)\n",
        "\n",
        "print(\"best parameters = \",logreg_cv.best_params_)\n",
        "print(\"roc_auc_score :\",logreg_cv.best_score_)"
      ],
      "metadata": {
        "colab": {
          "base_uri": "https://localhost:8080/",
          "height": 0
        },
        "id": "FGv1CwKZcN_6",
        "outputId": "77d4a3b7-19c3-4f77-cd16-e2e6536624c4"
      },
      "execution_count": 133,
      "outputs": [
        {
          "output_type": "stream",
          "name": "stdout",
          "text": [
            "best parameters =  {'C': 1000.0, 'penalty': 'l2'}\n",
            "roc_auc_score : 0.9501073827498339\n"
          ]
        }
      ]
    },
    {
      "cell_type": "code",
      "source": [
        "# Predict the target values using the fitted model\n",
        "y_pred = logreg_cv.predict(x_te)\n",
        "\n",
        "# Calculate F1 score\n",
        "f1 = f1_score(y_te, y_pred)\n",
        "print(\"F1 score: {:.2f}\".format(f1))\n",
        "\n",
        "# Calculate AUC-ROC score\n",
        "y_pred_prob = logreg_cv.predict_proba(x_te)[:, 1]\n",
        "auc_roc = roc_auc_score(y_te, y_pred_prob)\n",
        "print(\"AUC-ROC score: {:.2f}\".format(auc_roc))"
      ],
      "metadata": {
        "colab": {
          "base_uri": "https://localhost:8080/",
          "height": 0
        },
        "id": "ym_55CbycOCl",
        "outputId": "a6b7f0c7-9484-4c8a-bed6-d91b316adc78"
      },
      "execution_count": 134,
      "outputs": [
        {
          "output_type": "stream",
          "name": "stdout",
          "text": [
            "F1 score: 0.63\n",
            "AUC-ROC score: 0.89\n"
          ]
        }
      ]
    },
    {
      "cell_type": "code",
      "source": [
        "# Compute the probabilities of class 1 for the test set\n",
        "y_test_pred_proba = logreg_cv.predict_proba(x_te)[:,1]\n",
        "\n",
        "# Compute the probabilities of class 1 for the training set\n",
        "y_train_pred_proba = logreg_cv.predict_proba(x_train_res)[:,1]\n",
        "\n",
        "# Compute the ROC AUC for the test set\n",
        "fpr_test, tpr_test, _ = roc_curve(y_te, y_test_pred_proba)\n",
        "auc_test = roc_auc_score(y_te, y_test_pred_proba)\n",
        "\n",
        "# Compute the ROC AUC for the training set\n",
        "fpr_train, tpr_train, _ = roc_curve(y_train_res, y_train_pred_proba)\n",
        "auc_train = roc_auc_score(y_train_res, y_train_pred_proba)\n",
        "\n",
        "# Plot the ROC curve for the training set\n",
        "plt.plot(fpr_train, tpr_train, label='Train ROC (AUC = {:.2f})'.format(auc_train))\n",
        "\n",
        "# Plot the ROC curve for the test set\n",
        "plt.plot(fpr_test, tpr_test, label='Test ROC (AUC = {:.2f})'.format(auc_test))\n",
        "\n",
        "# Plot the diagonal line\n",
        "plt.plot([0, 1], [0, 1], linestyle='--', color='black')\n",
        "\n",
        "# Add labels and legend\n",
        "plt.xlabel('False Positive Rate')\n",
        "plt.ylabel('True Positive Rate')\n",
        "plt.grid()\n",
        "plt.legend()\n",
        "plt.show()"
      ],
      "metadata": {
        "colab": {
          "base_uri": "https://localhost:8080/",
          "height": 279
        },
        "id": "Wqq6CRYTcOFZ",
        "outputId": "ba8ba2ca-374f-4398-9378-f5e1155ad266"
      },
      "execution_count": 135,
      "outputs": [
        {
          "output_type": "display_data",
          "data": {
            "text/plain": [
              "<Figure size 432x288 with 1 Axes>"
            ],
            "image/png": "[encoded data removed]"
          },
          "metadata": {
            "needs_background": "light"
          }
        }
      ]
    },
    {
      "cell_type": "markdown",
      "source": [
        "# Train svm"
      ],
      "metadata": {
        "id": "R32h-niMDlPt"
      }
    },
    {
      "cell_type": "code",
      "source": [
        "# Define the parameter grid for the SVM\n",
        "param_grid = {'C': [0.1, 1, 10], 'kernel': ['linear', 'rbf']}\n",
        "\n",
        "# Create an SVM object\n",
        "svm = SVC(probability=True)\n",
        "\n",
        "# Create a GridSearchCV object\n",
        "grid_search = GridSearchCV(svm, param_grid, cv=5)\n",
        "\n",
        "# Fit the GridSearchCV object to the training data\n",
        "grid_search.fit(x_train_res, y_train_res)\n",
        "\n",
        "# Print the best parameters and the best score\n",
        "print(\"Best Parameters: \", grid_search.best_params_)\n",
        "print(\"Best Score: \", grid_search.best_score_)\n",
        "\n",
        "# Use the best parameters to make predictions on the test data\n",
        "y_pred = grid_search.predict(x_te)"
      ],
      "metadata": {
        "colab": {
          "base_uri": "https://localhost:8080/",
          "height": 0
        },
        "id": "Gd3CyNtZ6S9b",
        "outputId": "d2dcde30-7e66-4d33-92cd-4c61d455c794"
      },
      "execution_count": 82,
      "outputs": [
        {
          "output_type": "stream",
          "name": "stdout",
          "text": [
            "Best Parameters:  {'C': 10, 'kernel': 'linear'}\n",
            "Best Score:  0.8887688334856334\n"
          ]
        }
      ]
    },
    {
      "cell_type": "code",
      "source": [
        "# Calculate F1 score\n",
        "f1 = f1_score(y_te, y_pred)\n",
        "print(\"F1 score: {:.2f}\".format(f1))\n",
        "\n",
        "# Calculate AUC-ROC score\n",
        "y_pred_prob = grid_search.predict_proba(x_te)[:, 1]\n",
        "auc_roc = roc_auc_score(y_te, y_pred_prob)"
      ],
      "metadata": {
        "colab": {
          "base_uri": "https://localhost:8080/",
          "height": 0
        },
        "id": "w3tgWx9D6TAC",
        "outputId": "66a40dad-6414-4f10-e9df-c7537562ea03"
      },
      "execution_count": 83,
      "outputs": [
        {
          "output_type": "stream",
          "name": "stdout",
          "text": [
            "F1 score: 0.60\n"
          ]
        }
      ]
    },
    {
      "cell_type": "code",
      "source": [
        "# Compute the probabilities of class 1 for the test set\n",
        "y_test_pred_proba = grid_search.predict_proba(x_te)[:,1]\n",
        "\n",
        "# Compute the probabilities of class 1 for the training set\n",
        "y_train_pred_proba = grid_search.predict_proba(x_train_res)[:,1]\n",
        "\n",
        "# Compute the ROC AUC for the test set\n",
        "fpr_test, tpr_test, _ = roc_curve(y_te, y_test_pred_proba)\n",
        "auc_test = roc_auc_score(y_te, y_test_pred_proba)\n",
        "\n",
        "# Compute the ROC AUC for the training set\n",
        "fpr_train, tpr_train, _ = roc_curve(y_train_res, y_train_pred_proba)\n",
        "auc_train = roc_auc_score(y_train_res, y_train_pred_proba)\n",
        "\n",
        "# Plot the ROC curve for the training set\n",
        "plt.plot(fpr_train, tpr_train, label='Train ROC (AUC = {:.2f})'.format(auc_train))\n",
        "\n",
        "# Plot the ROC curve for the test set\n",
        "plt.plot(fpr_test, tpr_test, label='Test ROC (AUC = {:.2f})'.format(auc_test))\n",
        "\n",
        "# Plot the diagonal line\n",
        "plt.plot([0, 1], [0, 1], linestyle='--', color='black')\n",
        "\n",
        "# Add labels and legend\n",
        "plt.xlabel('False Positive Rate')\n",
        "plt.ylabel('True Positive Rate')\n",
        "plt.grid()\n",
        "plt.legend()\n",
        "plt.show()"
      ],
      "metadata": {
        "colab": {
          "base_uri": "https://localhost:8080/",
          "height": 279
        },
        "id": "zo102s436TDF",
        "outputId": "bfa3ab28-81bc-439a-ef4e-d3880b9d7bb8"
      },
      "execution_count": 84,
      "outputs": [
        {
          "output_type": "display_data",
          "data": {
            "text/plain": [
              "<Figure size 432x288 with 1 Axes>"
            ],
            "image/png": "[encoded data removed]"
          },
          "metadata": {
            "needs_background": "light"
          }
        }
      ]
    },
    {
      "cell_type": "markdown",
      "source": [
        "# Train xgboost"
      ],
      "metadata": {
        "id": "4B-X6JeN-Ur3"
      }
    },
    {
      "cell_type": "code",
      "source": [
        "from xgboost import XGBClassifier\n",
        "from sklearn.model_selection import RandomizedSearchCV\n",
        "from scipy.stats import randint as sp_randint\n",
        "from scipy.stats import uniform as sp_uniform\n",
        "\n",
        "# create an instance of the XGBClassifier\n",
        "xgb_clf = XGBClassifier()\n",
        "\n",
        "# Define the parameter grid for the XGBClassifier\n",
        "param_grid = {\n",
        "    'n_estimators': sp_randint(10, 100),  \n",
        "    'max_depth': sp_randint(1, 101),\n",
        "    'min_child_weight': sp_randint(1, 11),\n",
        "    'subsample': sp_uniform(0, 1),\n",
        "    'colsample_bytree': sp_uniform(0, 1),\n",
        "    'learning_rate': sp_uniform(0, 1),\n",
        "    'gamma': sp_uniform(0, 1)\n",
        "}\n",
        "\n",
        "# Use Rando-mizedSearchCV to find the best hyperparameters\n",
        "random_search = RandomizedSearchCV(xgb_clf, param_distributions=param_grid, n_iter=100, cv=5, random_state=42)\n",
        "\n",
        "# Fit the RandomizedSearchCV model to the data\n",
        "random_search.fit(x_train_res, y_train_res)\n",
        "\n",
        "# Print the best hyperparameters\n",
        "print(\"Best hyperparameters: \", random_search.best_params_)"
      ],
      "metadata": {
        "colab": {
          "base_uri": "https://localhost:8080/",
          "height": 0
        },
        "id": "bmtTy0Zj6TGB",
        "outputId": "dc17d4f1-8aa1-404c-a42a-95560bad7acd"
      },
      "execution_count": 85,
      "outputs": [
        {
          "output_type": "stream",
          "name": "stdout",
          "text": [
            "Best hyperparameters:  {'colsample_bytree': 0.28093450968738076, 'gamma': 0.5426960831582485, 'learning_rate': 0.14092422497476265, 'max_depth': 15, 'min_child_weight': 1, 'n_estimators': 98, 'subsample': 0.9868869366005173}\n"
          ]
        }
      ]
    },
    {
      "cell_type": "code",
      "source": [
        "xgb_clf = XGBClassifier(colsample_bytree=0.28093450968738076, \n",
        "                            gamma=0.5426960831582485, \n",
        "                            learning_rate=0.14092422497476265, \n",
        "                            max_depth=15, \n",
        "                            min_child_weight=1, \n",
        "                            n_estimators=98, \n",
        "                            subsample=0.9868869366005173)\n",
        "\n",
        "xgb_clf.fit(x_train_res, y_train_res)\n",
        "\n",
        "y_pred_proba = xgb_clf.predict_proba(x_te)[:, 1]\n",
        "\n",
        "print(\"AUC-ROC: \", roc_auc_score(y_te, y_pred_proba))\n",
        "print(\"F1 Score: \", f1_score(y_te, y_pred))"
      ],
      "metadata": {
        "colab": {
          "base_uri": "https://localhost:8080/",
          "height": 0
        },
        "id": "LFinkjVd6TJq",
        "outputId": "f0573aec-213c-4cbf-a9db-51368630a34d"
      },
      "execution_count": 88,
      "outputs": [
        {
          "output_type": "stream",
          "name": "stdout",
          "text": [
            "AUC-ROC:  0.9367016709005689\n",
            "F1 Score:  0.597938144329897\n"
          ]
        }
      ]
    },
    {
      "cell_type": "code",
      "source": [
        "# Compute the probabilities of class 1 for the test set\n",
        "y_test_pred_proba = xgb_clf.predict_proba(x_te)[:,1]\n",
        "\n",
        "# Compute the probabilities of class 1 for the training set\n",
        "y_train_pred_proba = xgb_clf.predict_proba(x_train_res)[:,1]\n",
        "\n",
        "# Compute the ROC AUC for the test set\n",
        "fpr_test, tpr_test, _ = roc_curve(y_te, y_test_pred_proba)\n",
        "auc_test = roc_auc_score(y_te, y_test_pred_proba)\n",
        "\n",
        "# Compute the ROC AUC for the training set\n",
        "fpr_train, tpr_train, _ = roc_curve(y_train_res, y_train_pred_proba)\n",
        "auc_train = roc_auc_score(y_train_res, y_train_pred_proba)\n",
        "\n",
        "# Plot the ROC curve for the training set\n",
        "plt.plot(fpr_train, tpr_train, label='Train ROC (AUC = {:.2f})'.format(auc_train))\n",
        "\n",
        "# Plot the ROC curve for the test set\n",
        "plt.plot(fpr_test, tpr_test, label='Test ROC (AUC = {:.2f})'.format(auc_test))\n",
        "\n",
        "# Plot the diagonal line\n",
        "plt.plot([0, 1], [0, 1], linestyle='--', color='black')\n",
        "\n",
        "# Add labels and legend\n",
        "plt.xlabel('False Positive Rate')\n",
        "plt.ylabel('True Positive Rate')\n",
        "plt.grid()\n",
        "plt.legend()\n",
        "plt.show()"
      ],
      "metadata": {
        "colab": {
          "base_uri": "https://localhost:8080/",
          "height": 279
        },
        "id": "rMW1OZS8BD0q",
        "outputId": "6d783cef-481e-428a-9e29-78a28563dae4"
      },
      "execution_count": 89,
      "outputs": [
        {
          "output_type": "display_data",
          "data": {
            "text/plain": [
              "<Figure size 432x288 with 1 Axes>"
            ],
            "image/png": "[encoded data removed]"
          },
          "metadata": {
            "needs_background": "light"
          }
        }
      ]
    },
    {
      "cell_type": "markdown",
      "source": [
        "# now will try ratio 60:40"
      ],
      "metadata": {
        "id": "UAIdVIxkYxJj"
      }
    },
    {
      "cell_type": "code",
      "source": [
        "from imblearn.over_sampling import SMOTE\n",
        "\n",
        "\n",
        "oversample = SMOTE(sampling_strategy=0.60 / (0.60 + 0.40), random_state=42)\n",
        "x_train_res, y_train_res = oversample.fit_resample(x_trai, y_trai)\n",
        "counter = Counter(y_train_res)\n",
        "fraud_percentage = (counter[1]*100/(counter[0]+counter[1]))\n",
        "non_fraud_percentage = (counter[0]*100/(counter[0]+counter[1]))\n",
        "print(\"Fraud Percentage = {:.2f}% and Non-Fraud Percentage = {:.2f}%\".format(fraud_percentage, non_fraud_percentage))"
      ],
      "metadata": {
        "colab": {
          "base_uri": "https://localhost:8080/",
          "height": 0
        },
        "id": "p-53fqfpYmae",
        "outputId": "e82efde9-a395-4bb5-bc45-828babd2a960"
      },
      "execution_count": 136,
      "outputs": [
        {
          "output_type": "stream",
          "name": "stdout",
          "text": [
            "Fraud Percentage = 37.49% and Non-Fraud Percentage = 62.51%\n"
          ]
        }
      ]
    },
    {
      "cell_type": "markdown",
      "source": [
        "# Train logestic regression "
      ],
      "metadata": {
        "id": "qSQXsHL4hUGa"
      }
    },
    {
      "cell_type": "code",
      "source": [
        "grid = {\"C\": np.logspace(-3, 3, 7), \"penalty\": [\"l2\"]}\n",
        "\n",
        "logreg = LogisticRegression(max_iter=10000)\n",
        "logreg_cv = GridSearchCV(logreg, grid, cv=5, scoring='roc_auc', n_jobs=-1, return_train_score=True)\n",
        "\n",
        "logreg_cv.fit(x_train_res, y_train_res)\n",
        "\n",
        "print(\"best parameters = \",logreg_cv.best_params_)\n",
        "print(\"roc_auc_score :\",logreg_cv.best_score_)"
      ],
      "metadata": {
        "colab": {
          "base_uri": "https://localhost:8080/",
          "height": 0
        },
        "id": "SdhyvRrmYm4i",
        "outputId": "497350a1-0270-4d42-bdf9-3b77245b4122"
      },
      "execution_count": 137,
      "outputs": [
        {
          "output_type": "stream",
          "name": "stdout",
          "text": [
            "best parameters =  {'C': 1000.0, 'penalty': 'l2'}\n",
            "roc_auc_score : 0.9515035931320852\n"
          ]
        }
      ]
    },
    {
      "cell_type": "code",
      "source": [
        "# Initialize the logistic regression model with the best parameters\n",
        "logreg = LogisticRegression(solver='liblinear', C=1000.0, penalty='l2')\n",
        "\n",
        "# Fit the model to the training data\n",
        "logreg.fit(x_train_res, y_train_res)"
      ],
      "metadata": {
        "colab": {
          "base_uri": "https://localhost:8080/",
          "height": 0
        },
        "id": "GcwnDxotYm7q",
        "outputId": "9cbbb761-f292-49b0-fe95-211fbc89cbd6"
      },
      "execution_count": 138,
      "outputs": [
        {
          "output_type": "execute_result",
          "data": {
            "text/plain": [
              "LogisticRegression(C=1000.0, solver='liblinear')"
            ]
          },
          "metadata": {},
          "execution_count": 138
        }
      ]
    },
    {
      "cell_type": "code",
      "source": [
        "# Predict the target values using the fitted model\n",
        "y_pred = logreg.predict(x_te)\n",
        "\n",
        "# Calculate F1 score\n",
        "f1 = f1_score(y_te, y_pred)\n",
        "print(\"F1 score: {:.2f}\".format(f1))\n",
        "\n",
        "# Calculate AUC-ROC score\n",
        "y_pred_prob = logreg.predict_proba(x_te)[:, 1]\n",
        "auc_roc = roc_auc_score(y_te, y_pred_prob)\n",
        "print(\"AUC-ROC score: {:.2f}\".format(auc_roc))"
      ],
      "metadata": {
        "colab": {
          "base_uri": "https://localhost:8080/",
          "height": 0
        },
        "id": "zyaceoMpYm-4",
        "outputId": "04059686-aa8d-4b4e-de5c-3ff143122ee3"
      },
      "execution_count": 139,
      "outputs": [
        {
          "output_type": "stream",
          "name": "stdout",
          "text": [
            "F1 score: 0.63\n",
            "AUC-ROC score: 0.89\n"
          ]
        }
      ]
    },
    {
      "cell_type": "code",
      "source": [
        "# Compute the probabilities of class 1 for the test set\n",
        "y_test_pred_proba = logreg.predict_proba(x_te)[:,1]\n",
        "\n",
        "# Compute the probabilities of class 1 for the training set\n",
        "y_train_pred_proba = logreg.predict_proba(x_train_res)[:,1]\n",
        "\n",
        "# Compute the ROC AUC for the test set\n",
        "fpr_test, tpr_test, _ = roc_curve(y_te, y_test_pred_proba)\n",
        "auc_test = roc_auc_score(y_te, y_test_pred_proba)\n",
        "\n",
        "# Compute the ROC AUC for the training set\n",
        "fpr_train, tpr_train, _ = roc_curve(y_train_res, y_train_pred_proba)\n",
        "auc_train = roc_auc_score(y_train_res, y_train_pred_proba)\n",
        "\n",
        "# Plot the ROC curve for the training set\n",
        "plt.plot(fpr_train, tpr_train, label='Train ROC (AUC = {:.2f})'.format(auc_train))\n",
        "\n",
        "# Plot the ROC curve for the test set\n",
        "plt.plot(fpr_test, tpr_test, label='Test ROC (AUC = {:.2f})'.format(auc_test))\n",
        "\n",
        "# Plot the diagonal line\n",
        "plt.plot([0, 1], [0, 1], linestyle='--', color='black')\n",
        "\n",
        "# Add labels and legend\n",
        "plt.xlabel('False Positive Rate')\n",
        "plt.ylabel('True Positive Rate')\n",
        "plt.grid()\n",
        "plt.legend()\n",
        "plt.show()"
      ],
      "metadata": {
        "colab": {
          "base_uri": "https://localhost:8080/",
          "height": 279
        },
        "id": "TLenDQcwYnDd",
        "outputId": "261efa7d-b40d-44cf-ef87-0f61b79d4d98"
      },
      "execution_count": 140,
      "outputs": [
        {
          "output_type": "display_data",
          "data": {
            "text/plain": [
              "<Figure size 432x288 with 1 Axes>"
            ],
            "image/png": "[encoded data removed]"
          },
          "metadata": {
            "needs_background": "light"
          }
        }
      ]
    },
    {
      "cell_type": "markdown",
      "source": [
        "# Train svm"
      ],
      "metadata": {
        "id": "im4QCNt3iABm"
      }
    },
    {
      "cell_type": "code",
      "source": [
        "# Define the parameter grid for the SVM\n",
        "param_grid = {'C': [0.1, 1, 10], 'kernel': ['linear', 'rbf']}\n",
        "\n",
        "# Create an SVM object\n",
        "svm = SVC(probability=True)\n",
        "\n",
        "# Create a GridSearchCV object\n",
        "grid_search = GridSearchCV(svm, param_grid, cv=5)\n",
        "\n",
        "# Fit the GridSearchCV object to the training data\n",
        "grid_search.fit(x_train_res, y_train_res)\n",
        "\n",
        "# Print the best parameters and the best score\n",
        "print(\"Best Parameters: \", grid_search.best_params_)\n",
        "print(\"Best Score: \", grid_search.best_score_)\n",
        "\n",
        "# Use the best parameters to make predictions on the test data\n",
        "y_pred = grid_search.predict(x_te)"
      ],
      "metadata": {
        "colab": {
          "base_uri": "https://localhost:8080/",
          "height": 0
        },
        "id": "fWat-AynYnF-",
        "outputId": "4edbc0d8-c8bb-4500-eadc-d1779860d736"
      },
      "execution_count": 95,
      "outputs": [
        {
          "output_type": "stream",
          "name": "stdout",
          "text": [
            "Best Parameters:  {'C': 10, 'kernel': 'linear'}\n",
            "Best Score:  0.8883855334622798\n"
          ]
        }
      ]
    },
    {
      "cell_type": "code",
      "source": [
        "\n",
        "\n",
        "# Calculate F1 score\n",
        "f1 = f1_score(y_te, y_pred)\n",
        "print(\"F1 score: {:.2f}\".format(f1))\n",
        "\n",
        "# Calculate AUC-ROC score\n",
        "y_pred_prob = grid_search.predict_proba(x_te)[:, 1]\n",
        "auc_roc = roc_auc_score(y_te, y_pred_prob)\n",
        "print(\"AUC-ROC score: {:.2f}\".format(auc_roc))"
      ],
      "metadata": {
        "colab": {
          "base_uri": "https://localhost:8080/",
          "height": 0
        },
        "id": "SxusQY8BBND6",
        "outputId": "5c00a3c3-3e88-483c-a8d7-8f9e0660358d"
      },
      "execution_count": 96,
      "outputs": [
        {
          "output_type": "stream",
          "name": "stdout",
          "text": [
            "F1 score: 0.61\n",
            "AUC-ROC score: 0.92\n"
          ]
        }
      ]
    },
    {
      "cell_type": "code",
      "source": [
        "# Compute the probabilities of class 1 for the test set\n",
        "y_test_pred_proba = grid_search.predict_proba(x_te)[:,1]\n",
        "\n",
        "# Compute the probabilities of class 1 for the training set\n",
        "y_train_pred_proba = grid_search.predict_proba(x_train_res)[:,1]\n",
        "\n",
        "# Compute the ROC AUC for the test set\n",
        "fpr_test, tpr_test, _ = roc_curve(y_te, y_test_pred_proba)\n",
        "auc_test = roc_auc_score(y_te, y_test_pred_proba)\n",
        "\n",
        "# Compute the ROC AUC for the training set\n",
        "fpr_train, tpr_train, _ = roc_curve(y_train_res, y_train_pred_proba)\n",
        "auc_train = roc_auc_score(y_train_res, y_train_pred_proba)\n",
        "\n",
        "# Plot the ROC curve for the training set\n",
        "plt.plot(fpr_train, tpr_train, label='Train ROC (AUC = {:.2f})'.format(auc_train))\n",
        "\n",
        "# Plot the ROC curve for the test set\n",
        "plt.plot(fpr_test, tpr_test, label='Test ROC (AUC = {:.2f})'.format(auc_test))\n",
        "\n",
        "# Plot the diagonal line\n",
        "plt.plot([0, 1], [0, 1], linestyle='--', color='black')\n",
        "\n",
        "# Add labels and legend\n",
        "plt.xlabel('False Positive Rate')\n",
        "plt.ylabel('True Positive Rate')\n",
        "plt.grid()\n",
        "plt.legend()\n",
        "plt.show()"
      ],
      "metadata": {
        "colab": {
          "base_uri": "https://localhost:8080/",
          "height": 279
        },
        "id": "JeFXGZL_imTX",
        "outputId": "a5404257-8de8-4e9c-fbc2-e258cc55c6e6"
      },
      "execution_count": 97,
      "outputs": [
        {
          "output_type": "display_data",
          "data": {
            "text/plain": [
              "<Figure size 432x288 with 1 Axes>"
            ],
            "image/png": "[encoded data removed]"
          },
          "metadata": {
            "needs_background": "light"
          }
        }
      ]
    },
    {
      "cell_type": "markdown",
      "source": [
        "# Train knn"
      ],
      "metadata": {
        "id": "lKEPfO9KtZcV"
      }
    },
    {
      "cell_type": "code",
      "source": [
        "# Fit the KNN model with best parameters\n",
        "from sklearn.neighbors import KNeighborsClassifier\n",
        "\n",
        "\n",
        "knn = KNeighborsClassifier(n_neighbors=5, weights='distance')\n",
        "knn.fit(x_train_res, y_train_res)\n",
        "\n",
        "# Predict the target values using the fitted model\n",
        "y_pred = knn.predict(x_te)\n",
        "\n",
        "# Calculate F1 score\n",
        "f1 = f1_score(y_te, y_pred)\n",
        "print(\"F1 score: {:.2f}\".format(f1))\n",
        "\n",
        "# Calculate AUC-ROC score\n",
        "y_pred_prob = knn.predict_proba(x_te)[:, 1]\n",
        "auc_roc = roc_auc_score(y_te, y_pred_prob)\n",
        "print(\"AUC-ROC score: {:.2f}\".format(auc_roc))"
      ],
      "metadata": {
        "colab": {
          "base_uri": "https://localhost:8080/",
          "height": 0
        },
        "id": "mVSDyCbDiofA",
        "outputId": "fa121b51-5794-4218-a9ba-13f5cfd1117f"
      },
      "execution_count": 98,
      "outputs": [
        {
          "output_type": "stream",
          "name": "stdout",
          "text": [
            "F1 score: 0.51\n",
            "AUC-ROC score: 0.88\n"
          ]
        }
      ]
    },
    {
      "cell_type": "code",
      "source": [
        "# Compute the probabilities of class 1 for the test set\n",
        "y_test_pred_proba = knn.predict_proba(x_te)[:,1]\n",
        "\n",
        "# Compute the probabilities of class 1 for the training set\n",
        "y_train_pred_proba = knn.predict_proba(x_train_res)[:,1]\n",
        "\n",
        "# Compute the ROC AUC for the test set\n",
        "fpr_test, tpr_test, _ = roc_curve(y_te, y_test_pred_proba)\n",
        "auc_test = roc_auc_score(y_te, y_test_pred_proba)\n",
        "\n",
        "# Compute the ROC AUC for the training set\n",
        "fpr_train, tpr_train, _ = roc_curve(y_train_res, y_train_pred_proba)\n",
        "auc_train = roc_auc_score(y_train_res, y_train_pred_proba)\n",
        "\n",
        "# Plot the ROC curve for the training set\n",
        "plt.plot(fpr_train, tpr_train, label='Train ROC (AUC = {:.2f})'.format(auc_train))\n",
        "\n",
        "# Plot the ROC curve for the test set\n",
        "plt.plot(fpr_test, tpr_test, label='Test ROC (AUC = {:.2f})'.format(auc_test))\n",
        "\n",
        "# Plot the diagonal line\n",
        "plt.plot([0, 1], [0, 1], linestyle='--', color='black')\n",
        "\n",
        "# Add labels and legend\n",
        "plt.xlabel('False Positive Rate')\n",
        "plt.ylabel('True Positive Rate')\n",
        "plt.grid()\n",
        "plt.legend()\n",
        "plt.show()"
      ],
      "metadata": {
        "colab": {
          "base_uri": "https://localhost:8080/",
          "height": 279
        },
        "id": "i_RpK817kwCy",
        "outputId": "6a2e9a26-6796-43d0-c36e-acfece3bf93d"
      },
      "execution_count": 99,
      "outputs": [
        {
          "output_type": "display_data",
          "data": {
            "text/plain": [
              "<Figure size 432x288 with 1 Axes>"
            ],
            "image/png": "[encoded data removed]"
          },
          "metadata": {
            "needs_background": "light"
          }
        }
      ]
    },
    {
      "cell_type": "code",
      "source": [
        "from xgboost import XGBClassifier\n",
        "from sklearn.model_selection import RandomizedSearchCV\n",
        "from scipy.stats import randint as sp_randint\n",
        "from scipy.stats import uniform as sp_uniform\n",
        "\n",
        "# create an instance of the XGBClassifier\n",
        "xgb_clf = XGBClassifier()\n",
        "\n",
        "# Define the parameter grid for the XGBClassifier\n",
        "param_grid = {\n",
        "    'n_estimators': sp_randint(10, 100),  \n",
        "    'max_depth': sp_randint(1, 101),\n",
        "    'min_child_weight': sp_randint(1, 11),\n",
        "    'subsample': sp_uniform(0, 1),\n",
        "    'colsample_bytree': sp_uniform(0, 1),\n",
        "    'learning_rate': sp_uniform(0, 1),\n",
        "    'gamma': sp_uniform(0, 1)\n",
        "}\n",
        "\n",
        "# Use Rando-mizedSearchCV to find the best hyperparameters\n",
        "random_search = RandomizedSearchCV(xgb_clf, param_distributions=param_grid, n_iter=100, cv=5, random_state=42)\n",
        "\n",
        "# Fit the RandomizedSearchCV model to the data\n",
        "random_search.fit(x_train_res, y_train_res)\n",
        "\n",
        "# Print the best hyperparameters\n",
        "print(\"Best hyperparameters: \", random_search.best_params_)"
      ],
      "metadata": {
        "colab": {
          "base_uri": "https://localhost:8080/",
          "height": 0
        },
        "id": "8eLOQfPNk2o_",
        "outputId": "fc4aabeb-d6a8-4b7d-bbec-22d73da1d355"
      },
      "execution_count": 100,
      "outputs": [
        {
          "output_type": "stream",
          "name": "stdout",
          "text": [
            "Best hyperparameters:  {'colsample_bytree': 0.8324426408004217, 'gamma': 0.21233911067827616, 'learning_rate': 0.18182496720710062, 'max_depth': 21, 'min_child_weight': 1, 'n_estimators': 85, 'subsample': 0.6116531604882809}\n"
          ]
        }
      ]
    },
    {
      "cell_type": "code",
      "source": [
        "xgb_clf = XGBClassifier(colsample_bytree=0.8324426408004217, \n",
        "                            gamma=0.21233911067827616, \n",
        "                            learning_rate=0.18182496720710062, \n",
        "                            max_depth=21, \n",
        "                            min_child_weight=1, \n",
        "                            n_estimators=85, \n",
        "                            subsample=0.6116531604882809)\n",
        "\n",
        "xgb_clf.fit(x_train_res, y_train_res)\n",
        "\n",
        "y_pred_proba = xgb_clf.predict_proba(x_te)[:, 1]\n",
        "\n",
        "print(\"AUC-ROC: \", roc_auc_score(y_te, y_pred_proba))\n",
        "print(\"F1 Score: \", f1_score(y_te, y_pred))"
      ],
      "metadata": {
        "colab": {
          "base_uri": "https://localhost:8080/",
          "height": 0
        },
        "id": "1cZZAaw7lD_K",
        "outputId": "d9735c8c-7d3f-4233-d3cb-4045bacbd06d"
      },
      "execution_count": 102,
      "outputs": [
        {
          "output_type": "stream",
          "name": "stdout",
          "text": [
            "AUC-ROC:  0.9333249847937315\n",
            "F1 Score:  0.5133470225872689\n"
          ]
        }
      ]
    },
    {
      "cell_type": "code",
      "source": [
        "# Compute the probabilities of class 1 for the test set\n",
        "y_test_pred_proba = xgb_clf.predict_proba(x_te)[:,1]\n",
        "\n",
        "# Compute the probabilities of class 1 for the training set\n",
        "y_train_pred_proba = xgb_clf.predict_proba(x_train_res)[:,1]\n",
        "\n",
        "# Compute the ROC AUC for the test set\n",
        "fpr_test, tpr_test, _ = roc_curve(y_te, y_test_pred_proba)\n",
        "auc_test = roc_auc_score(y_te, y_test_pred_proba)\n",
        "\n",
        "# Compute the ROC AUC for the training set\n",
        "fpr_train, tpr_train, _ = roc_curve(y_train_res, y_train_pred_proba)\n",
        "auc_train = roc_auc_score(y_train_res, y_train_pred_proba)\n",
        "\n",
        "# Plot the ROC curve for the training set\n",
        "plt.plot(fpr_train, tpr_train, label='Train ROC (AUC = {:.2f})'.format(auc_train))\n",
        "\n",
        "# Plot the ROC curve for the test set\n",
        "plt.plot(fpr_test, tpr_test, label='Test ROC (AUC = {:.2f})'.format(auc_test))\n",
        "\n",
        "# Plot the diagonal line\n",
        "plt.plot([0, 1], [0, 1], linestyle='--', color='black')\n",
        "\n",
        "# Add labels and legend\n",
        "plt.xlabel('False Positive Rate')\n",
        "plt.ylabel('True Positive Rate')\n",
        "plt.grid()\n",
        "plt.legend()\n",
        "plt.show()"
      ],
      "metadata": {
        "colab": {
          "base_uri": "https://localhost:8080/",
          "height": 279
        },
        "id": "97wx1ydPlGLI",
        "outputId": "347205e8-b1aa-48ef-a24f-3b12297a3122"
      },
      "execution_count": 103,
      "outputs": [
        {
          "output_type": "display_data",
          "data": {
            "text/plain": [
              "<Figure size 432x288 with 1 Axes>"
            ],
            "image/png": "[encoded data removed]"
          },
          "metadata": {
            "needs_background": "light"
          }
        }
      ]
    },
    {
      "cell_type": "markdown",
      "source": [
        "# use 50:50 ratio "
      ],
      "metadata": {
        "id": "k_MYgLVSsEEx"
      }
    },
    {
      "cell_type": "code",
      "source": [
        "from imblearn.over_sampling import SMOTE\n",
        "\n",
        "\n",
        "oversample = SMOTE(sampling_strategy=0.50 / (0.50 + 0.50), random_state=42)\n",
        "x_train_res, y_train_res = oversample.fit_resample(x_trai, y_trai)\n",
        "counter = Counter(y_train_res)\n",
        "fraud_percentage = (counter[1]*100/(counter[0]+counter[1]))\n",
        "non_fraud_percentage = (counter[0]*100/(counter[0]+counter[1]))\n",
        "print(\"Fraud Percentage = {:.2f}% and Non-Fraud Percentage = {:.2f}%\".format(fraud_percentage, non_fraud_percentage))"
      ],
      "metadata": {
        "colab": {
          "base_uri": "https://localhost:8080/",
          "height": 0
        },
        "id": "2Q2UruY7sGeH",
        "outputId": "0b34268b-4d91-4a81-ac80-a6ba944bd681"
      },
      "execution_count": 199,
      "outputs": [
        {
          "output_type": "stream",
          "name": "stdout",
          "text": [
            "Fraud Percentage = 33.33% and Non-Fraud Percentage = 66.67%\n"
          ]
        }
      ]
    },
    {
      "cell_type": "markdown",
      "source": [
        "# Train logestic regresssion "
      ],
      "metadata": {
        "id": "Z7iL7BcrsZVQ"
      }
    },
    {
      "cell_type": "code",
      "source": [
        "grid = {\"C\": np.logspace(-3, 3, 7), \"penalty\": [\"l2\"]}\n",
        "\n",
        "logreg = LogisticRegression(max_iter=10000)\n",
        "logreg_cv = GridSearchCV(logreg, grid, cv=5, scoring='roc_auc', n_jobs=-1, return_train_score=True)\n",
        "\n",
        "logreg_cv.fit(x_train_res, y_train_res)\n",
        "\n",
        "print(\"best parameters = \",logreg_cv.best_params_)\n",
        "print(\"roc_auc_score :\",logreg_cv.best_score_)"
      ],
      "metadata": {
        "colab": {
          "base_uri": "https://localhost:8080/",
          "height": 0
        },
        "id": "xW-YQS3bsJ4n",
        "outputId": "5f7ba720-66b8-4e69-d25a-a56e52bd4b05"
      },
      "execution_count": 105,
      "outputs": [
        {
          "output_type": "stream",
          "name": "stdout",
          "text": [
            "best parameters =  {'C': 1000.0, 'penalty': 'l2'}\n",
            "roc_auc_score : 0.9495558790298257\n"
          ]
        }
      ]
    },
    {
      "cell_type": "code",
      "source": [
        "# Initialize the logistic regression model with the best parameters\n",
        "logreg = LogisticRegression(solver='liblinear', C=1000.0, penalty='l2')\n",
        "\n",
        "# Fit the model to the training data\n",
        "logreg.fit(x_train_res, y_train_res)"
      ],
      "metadata": {
        "colab": {
          "base_uri": "https://localhost:8080/",
          "height": 0
        },
        "id": "-A9JVwTfs0Fl",
        "outputId": "0fd6a15b-2d6b-4b2e-a988-41ea819dcf84"
      },
      "execution_count": 106,
      "outputs": [
        {
          "output_type": "execute_result",
          "data": {
            "text/plain": [
              "LogisticRegression(C=1000.0, solver='liblinear')"
            ]
          },
          "metadata": {},
          "execution_count": 106
        }
      ]
    },
    {
      "cell_type": "code",
      "source": [
        "# Predict the target values using the fitted model\n",
        "y_pred = logreg.predict(x_te)\n",
        "\n",
        "# Calculate F1 score\n",
        "f1 = f1_score(y_te, y_pred)\n",
        "print(\"F1 score: {:.2f}\".format(f1))\n",
        "\n",
        "# Calculate AUC-ROC score\n",
        "y_pred_prob = logreg.predict_proba(x_te)[:, 1]\n",
        "auc_roc = roc_auc_score(y_te, y_pred_prob)\n",
        "print(\"AUC-ROC score: {:.2f}\".format(auc_roc))"
      ],
      "metadata": {
        "colab": {
          "base_uri": "https://localhost:8080/",
          "height": 0
        },
        "id": "RDPyaiEqsczo",
        "outputId": "1cda7350-6d26-430c-dcf5-8d0d22bb5e19"
      },
      "execution_count": 107,
      "outputs": [
        {
          "output_type": "stream",
          "name": "stdout",
          "text": [
            "F1 score: 0.65\n",
            "AUC-ROC score: 0.90\n"
          ]
        }
      ]
    },
    {
      "cell_type": "code",
      "source": [
        "# Compute the probabilities of class 1 for the test set\n",
        "y_test_pred_proba = logreg.predict_proba(x_te)[:,1]\n",
        "\n",
        "# Compute the probabilities of class 1 for the training set\n",
        "y_train_pred_proba = logreg.predict_proba(x_train_res)[:,1]\n",
        "\n",
        "# Compute the ROC AUC for the test set\n",
        "fpr_test, tpr_test, _ = roc_curve(y_te, y_test_pred_proba)\n",
        "auc_test = roc_auc_score(y_te, y_test_pred_proba)\n",
        "\n",
        "# Compute the ROC AUC for the training set\n",
        "fpr_train, tpr_train, _ = roc_curve(y_train_res, y_train_pred_proba)\n",
        "auc_train = roc_auc_score(y_train_res, y_train_pred_proba)\n",
        "\n",
        "# Plot the ROC curve for the training set\n",
        "plt.plot(fpr_train, tpr_train, label='Train ROC (AUC = {:.2f})'.format(auc_train))\n",
        "\n",
        "# Plot the ROC curve for the test set\n",
        "plt.plot(fpr_test, tpr_test, label='Test ROC (AUC = {:.2f})'.format(auc_test))\n",
        "\n",
        "# Plot the diagonal line\n",
        "plt.plot([0, 1], [0, 1], linestyle='--', color='black')\n",
        "\n",
        "# Add labels and legend\n",
        "plt.xlabel('False Positive Rate')\n",
        "plt.ylabel('True Positive Rate')\n",
        "plt.grid()\n",
        "plt.legend()\n",
        "plt.show()"
      ],
      "metadata": {
        "colab": {
          "base_uri": "https://localhost:8080/",
          "height": 279
        },
        "id": "O5tfinFgsc2z",
        "outputId": "7cf8d81d-980b-4563-d85d-e99ebf6e8414"
      },
      "execution_count": 108,
      "outputs": [
        {
          "output_type": "display_data",
          "data": {
            "text/plain": [
              "<Figure size 432x288 with 1 Axes>"
            ],
            "image/png": "[encoded data removed]"
          },
          "metadata": {
            "needs_background": "light"
          }
        }
      ]
    },
    {
      "cell_type": "markdown",
      "source": [
        "# Train logestic regression with random search"
      ],
      "metadata": {
        "id": "420ftlV8tSTw"
      }
    },
    {
      "cell_type": "code",
      "source": [
        "from sklearn.model_selection import RandomizedSearchCV\n",
        "\n",
        "grid = {\"C\": np.logspace(-3, 3, 7), \"penalty\": [\"l2\"]}\n",
        "\n",
        "logreg = LogisticRegression(max_iter=10000)\n",
        "random_search_logreg = RandomizedSearchCV(logreg, param_grid, cv=5, scoring='roc_auc', n_jobs=-1, return_train_score=True)\n",
        "\n",
        "\n",
        "logreg_cv.fit(x_train_res, y_train_res)\n",
        "\n",
        "print(\"best parameters = \",logreg_cv.best_params_)\n",
        "print(\"roc_auc_score :\",logreg_cv.best_score_)"
      ],
      "metadata": {
        "colab": {
          "base_uri": "https://localhost:8080/",
          "height": 0
        },
        "id": "mkpojxc3tpp7",
        "outputId": "e2a8231c-9b2f-469c-cb87-2c83aa99a7e1"
      },
      "execution_count": 109,
      "outputs": [
        {
          "output_type": "stream",
          "name": "stdout",
          "text": [
            "best parameters =  {'C': 1000.0, 'penalty': 'l2'}\n",
            "roc_auc_score : 0.9495558790298257\n"
          ]
        }
      ]
    },
    {
      "cell_type": "code",
      "source": [
        "# Initialize the logistic regression model with the best parameters\n",
        "logreg = LogisticRegression(solver='liblinear', C=1000.0, penalty='l2')\n",
        "\n",
        "# Fit the model to the training data\n",
        "logreg.fit(x_train_res, y_train_res)"
      ],
      "metadata": {
        "colab": {
          "base_uri": "https://localhost:8080/",
          "height": 0
        },
        "id": "xxURB_gvtpsy",
        "outputId": "04cb5767-d93d-4d05-8e7d-80d483415844"
      },
      "execution_count": 110,
      "outputs": [
        {
          "output_type": "execute_result",
          "data": {
            "text/plain": [
              "LogisticRegression(C=1000.0, solver='liblinear')"
            ]
          },
          "metadata": {},
          "execution_count": 110
        }
      ]
    },
    {
      "cell_type": "code",
      "source": [
        "# Predict the target values using the fitted model\n",
        "y_pred = logreg.predict(x_te)\n",
        "\n",
        "# Calculate F1 score\n",
        "f1 = f1_score(y_te, y_pred)\n",
        "print(\"F1 score: {:.2f}\".format(f1))\n",
        "\n",
        "# Calculate AUC-ROC score\n",
        "y_pred_prob = logreg.predict_proba(x_te)[:, 1]\n",
        "auc_roc = roc_auc_score(y_te, y_pred_prob)\n",
        "print(\"AUC-ROC score: {:.2f}\".format(auc_roc))"
      ],
      "metadata": {
        "colab": {
          "base_uri": "https://localhost:8080/",
          "height": 0
        },
        "id": "O49AJXuetpv9",
        "outputId": "ba4e70bb-1e14-41a7-b16f-7032303730c9"
      },
      "execution_count": 111,
      "outputs": [
        {
          "output_type": "stream",
          "name": "stdout",
          "text": [
            "F1 score: 0.65\n",
            "AUC-ROC score: 0.90\n"
          ]
        }
      ]
    },
    {
      "cell_type": "code",
      "source": [
        "# Compute the probabilities of class 1 for the test set\n",
        "y_test_pred_proba = logreg.predict_proba(x_te)[:,1]\n",
        "\n",
        "# Compute the probabilities of class 1 for the training set\n",
        "y_train_pred_proba = logreg.predict_proba(x_train_res)[:,1]\n",
        "\n",
        "# Compute the ROC AUC for the test set\n",
        "fpr_test, tpr_test, _ = roc_curve(y_te, y_test_pred_proba)\n",
        "auc_test = roc_auc_score(y_te, y_test_pred_proba)\n",
        "\n",
        "# Compute the ROC AUC for the training set\n",
        "fpr_train, tpr_train, _ = roc_curve(y_train_res, y_train_pred_proba)\n",
        "auc_train = roc_auc_score(y_train_res, y_train_pred_proba)\n",
        "\n",
        "# Plot the ROC curve for the training set\n",
        "plt.plot(fpr_train, tpr_train, label='Train ROC (AUC = {:.2f})'.format(auc_train))\n",
        "\n",
        "# Plot the ROC curve for the test set\n",
        "plt.plot(fpr_test, tpr_test, label='Test ROC (AUC = {:.2f})'.format(auc_test))\n",
        "\n",
        "# Plot the diagonal line\n",
        "plt.plot([0, 1], [0, 1], linestyle='--', color='black')\n",
        "\n",
        "# Add labels and legend\n",
        "plt.xlabel('False Positive Rate')\n",
        "plt.ylabel('True Positive Rate')\n",
        "plt.grid()\n",
        "plt.legend()\n",
        "plt.show()"
      ],
      "metadata": {
        "colab": {
          "base_uri": "https://localhost:8080/",
          "height": 279
        },
        "id": "sRDxXbPwvT3w",
        "outputId": "09d071de-c450-47c8-b8a0-1c679a224162"
      },
      "execution_count": 112,
      "outputs": [
        {
          "output_type": "display_data",
          "data": {
            "text/plain": [
              "<Figure size 432x288 with 1 Axes>"
            ],
            "image/png": "[encoded data removed]"
          },
          "metadata": {
            "needs_background": "light"
          }
        }
      ]
    },
    {
      "cell_type": "markdown",
      "source": [
        "# Train svm algo with random search cv"
      ],
      "metadata": {
        "id": "Fczuxrzhv2cf"
      }
    },
    {
      "cell_type": "code",
      "source": [
        "# Define the parameter grid for the SVM\n",
        "param_grid = {'C': [0.1, 1, 10], 'kernel': ['linear', 'rbf']}\n",
        "\n",
        "# Create an SVM object\n",
        "svm = SVC(probability=True)\n",
        "\n",
        "# Create a GridSearchCV object\n",
        "random_search_svm = RandomizedSearchCV(svm, param_grid, cv=5)\n",
        "\n",
        "# Fit the GridSearchCV object to the training data\n",
        "random_search_svm.fit(x_train_res, y_train_res)\n",
        "\n",
        "# Print the best parameters and the best score\n",
        "print(\"Best Parameters: \", random_search_svm.best_params_)\n",
        "print(\"Best Score: \", random_search_svm.best_score_)\n",
        "\n",
        "# Use the best parameters to make predictions on the test data\n",
        "y_pred = random_search_svm.predict(x_te)"
      ],
      "metadata": {
        "colab": {
          "base_uri": "https://localhost:8080/",
          "height": 0
        },
        "id": "_NbIOFBgv1hG",
        "outputId": "80561991-39cb-4165-b3df-f4313f1d60f9"
      },
      "execution_count": 113,
      "outputs": [
        {
          "output_type": "stream",
          "name": "stderr",
          "text": [
            "/usr/local/lib/python3.8/dist-packages/sklearn/model_selection/_search.py:292: UserWarning: The total space of parameters 6 is smaller than n_iter=10. Running 6 iterations. For exhaustive searches, use GridSearchCV.\n",
            "  warnings.warn(\n"
          ]
        },
        {
          "output_type": "stream",
          "name": "stdout",
          "text": [
            "Best Parameters:  {'kernel': 'linear', 'C': 10}\n",
            "Best Score:  0.8892994423844435\n"
          ]
        }
      ]
    },
    {
      "cell_type": "code",
      "source": [
        "# Calculate F1 score\n",
        "f1 = f1_score(y_te, y_pred)\n",
        "print(\"F1 score: {:.2f}\".format(f1))\n",
        "\n",
        "# Calculate AUC-ROC score\n",
        "y_pred_prob = random_search_svm.predict_proba(x_te)[:, 1]\n",
        "auc_roc = roc_auc_score(y_te, y_pred_prob)\n",
        "print(\"AUC-ROC score: {:.2f}\".format(auc_roc))"
      ],
      "metadata": {
        "colab": {
          "base_uri": "https://localhost:8080/",
          "height": 0
        },
        "id": "MNVqZsKZx3Pr",
        "outputId": "9303ec41-0617-4261-ec98-192f74b3a753"
      },
      "execution_count": 114,
      "outputs": [
        {
          "output_type": "stream",
          "name": "stdout",
          "text": [
            "F1 score: 0.63\n",
            "AUC-ROC score: 0.93\n"
          ]
        }
      ]
    },
    {
      "cell_type": "code",
      "source": [
        "# Compute the probabilities of class 1 for the test set\n",
        "y_test_pred_proba = random_search_svm.predict_proba(x_te)[:,1]\n",
        "\n",
        "# Compute the probabilities of class 1 for the training set\n",
        "y_train_pred_proba = random_search_svm.predict_proba(x_train_res)[:,1]\n",
        "\n",
        "# Compute the ROC AUC for the test set\n",
        "fpr_test, tpr_test, _ = roc_curve(y_te, y_test_pred_proba)\n",
        "auc_test = roc_auc_score(y_te, y_test_pred_proba)\n",
        "\n",
        "# Compute the ROC AUC for the training set\n",
        "fpr_train, tpr_train, _ = roc_curve(y_train_res, y_train_pred_proba)\n",
        "auc_train = roc_auc_score(y_train_res, y_train_pred_proba)\n",
        "\n",
        "# Plot the ROC curve for the training set\n",
        "plt.plot(fpr_train, tpr_train, label='Train ROC (AUC = {:.2f})'.format(auc_train))\n",
        "\n",
        "# Plot the ROC curve for the test set\n",
        "plt.plot(fpr_test, tpr_test, label='Test ROC (AUC = {:.2f})'.format(auc_test))\n",
        "\n",
        "# Plot the diagonal line\n",
        "plt.plot([0, 1], [0, 1], linestyle='--', color='black')\n",
        "\n",
        "# Add labels and legend\n",
        "plt.xlabel('False Positive Rate')\n",
        "plt.ylabel('True Positive Rate')\n",
        "plt.grid()\n",
        "plt.legend()\n",
        "plt.show()"
      ],
      "metadata": {
        "colab": {
          "base_uri": "https://localhost:8080/",
          "height": 279
        },
        "id": "QYMK0-A5x4qx",
        "outputId": "38b34c57-a467-475b-fdc0-49ea0ca3948f"
      },
      "execution_count": 115,
      "outputs": [
        {
          "output_type": "display_data",
          "data": {
            "text/plain": [
              "<Figure size 432x288 with 1 Axes>"
            ],
            "image/png": "[encoded data removed]"
          },
          "metadata": {
            "needs_background": "light"
          }
        }
      ]
    },
    {
      "cell_type": "markdown",
      "source": [
        "# Train xgboost"
      ],
      "metadata": {
        "id": "e7dbtzv2yPpS"
      }
    },
    {
      "cell_type": "code",
      "source": [
        "from xgboost import XGBClassifier\n",
        "from sklearn.model_selection import RandomizedSearchCV\n",
        "from scipy.stats import randint as sp_randint\n",
        "from scipy.stats import uniform as sp_uniform\n",
        "\n",
        "# create an instance of the XGBClassifier\n",
        "xgb_clf = XGBClassifier()\n",
        "\n",
        "# Define the parameter grid for the XGBClassifier\n",
        "param_grid = {\n",
        "    'n_estimators': sp_randint(10, 100),  \n",
        "    'max_depth': sp_randint(1, 101),\n",
        "    'min_child_weight': sp_randint(1, 11),\n",
        "    'subsample': sp_uniform(0, 1),\n",
        "    'colsample_bytree': sp_uniform(0, 1),\n",
        "    'learning_rate': sp_uniform(0, 1),\n",
        "    'gamma': sp_uniform(0, 1)\n",
        "}\n",
        "\n",
        "# Use Rando-mizedSearchCV to find the best hyperparameters\n",
        "random_search = RandomizedSearchCV(xgb_clf, param_distributions=param_grid, n_iter=100, cv=5, random_state=42)\n",
        "\n",
        "# Fit the RandomizedSearchCV model to the data\n",
        "random_search.fit(x_train_res, y_train_res)\n",
        "\n",
        "# Print the best hyperparameters\n",
        "print(\"Best hyperparameters: \", random_search.best_params_)"
      ],
      "metadata": {
        "colab": {
          "base_uri": "https://localhost:8080/",
          "height": 0
        },
        "id": "c6Owh800yBc6",
        "outputId": "374da4c9-9df5-4bc5-8483-b142b7dec444"
      },
      "execution_count": 116,
      "outputs": [
        {
          "output_type": "stream",
          "name": "stdout",
          "text": [
            "Best hyperparameters:  {'colsample_bytree': 0.28093450968738076, 'gamma': 0.5426960831582485, 'learning_rate': 0.14092422497476265, 'max_depth': 15, 'min_child_weight': 1, 'n_estimators': 98, 'subsample': 0.9868869366005173}\n"
          ]
        }
      ]
    },
    {
      "cell_type": "code",
      "source": [
        "xgb_clf = XGBClassifier(colsample_bytree=0.28093450968738076, \n",
        "                            gamma=0.5426960831582485, \n",
        "                            learning_rate=0.14092422497476265, \n",
        "                            max_depth=15, \n",
        "                            min_child_weight=1, \n",
        "                            n_estimators=98, \n",
        "                            subsample=0.9868869366005173)\n",
        "\n",
        "xgb_clf.fit(x_train_res, y_train_res)\n",
        "\n",
        "y_pred_proba = xgb_clf.predict_proba(x_te)[:, 1]\n",
        "\n",
        "print(\"AUC-ROC: \", roc_auc_score(y_te, y_pred_proba))\n",
        "print(\"F1 Score: \", f1_score(y_te, y_pred))"
      ],
      "metadata": {
        "colab": {
          "base_uri": "https://localhost:8080/",
          "height": 0
        },
        "id": "12G1qz3ryWiH",
        "outputId": "e2bc331d-ac5d-4379-e74c-eb00580fb53c"
      },
      "execution_count": 117,
      "outputs": [
        {
          "output_type": "stream",
          "name": "stdout",
          "text": [
            "AUC-ROC:  0.9377303302443736\n",
            "F1 Score:  0.6260387811634349\n"
          ]
        }
      ]
    },
    {
      "cell_type": "code",
      "source": [
        "# Compute the probabilities of class 1 for the test set\n",
        "y_test_pred_proba = xgb_clf.predict_proba(x_te)[:,1]\n",
        "\n",
        "# Compute the probabilities of class 1 for the training set\n",
        "y_train_pred_proba = xgb_clf.predict_proba(x_train_res)[:,1]\n",
        "\n",
        "# Compute the ROC AUC for the test set\n",
        "fpr_test, tpr_test, _ = roc_curve(y_te, y_test_pred_proba)\n",
        "auc_test = roc_auc_score(y_te, y_test_pred_proba)\n",
        "\n",
        "# Compute the ROC AUC for the training set\n",
        "fpr_train, tpr_train, _ = roc_curve(y_train_res, y_train_pred_proba)\n",
        "auc_train = roc_auc_score(y_train_res, y_train_pred_proba)\n",
        "\n",
        "# Plot the ROC curve for the training set\n",
        "plt.plot(fpr_train, tpr_train, label='Train ROC (AUC = {:.2f})'.format(auc_train))\n",
        "\n",
        "# Plot the ROC curve for the test set\n",
        "plt.plot(fpr_test, tpr_test, label='Test ROC (AUC = {:.2f})'.format(auc_test))\n",
        "\n",
        "# Plot the diagonal line\n",
        "plt.plot([0, 1], [0, 1], linestyle='--', color='black')\n",
        "\n",
        "# Add labels and legend\n",
        "plt.xlabel('False Positive Rate')\n",
        "plt.ylabel('True Positive Rate')\n",
        "plt.grid()\n",
        "plt.legend()\n",
        "plt.show()"
      ],
      "metadata": {
        "colab": {
          "base_uri": "https://localhost:8080/",
          "height": 279
        },
        "id": "gydI_d4_yaIX",
        "outputId": "c7e9bd19-560e-4acb-bf51-eb2c8fd60ce2"
      },
      "execution_count": 118,
      "outputs": [
        {
          "output_type": "display_data",
          "data": {
            "text/plain": [
              "<Figure size 432x288 with 1 Axes>"
            ],
            "image/png": "[encoded data removed]"
          },
          "metadata": {
            "needs_background": "light"
          }
        }
      ]
    },
    {
      "cell_type": "markdown",
      "source": [
        "# Train random forest"
      ],
      "metadata": {
        "id": "qLFVhJ8cSXHf"
      }
    },
    {
      "cell_type": "code",
      "source": [
        "from scipy.stats import randint as sp_randint\n",
        "\n",
        "# Define the parameter grid for the RandomForestClassifier\n",
        "param_grid = {\n",
        "    'n_estimators': sp_randint(10, 100),  \n",
        "    'max_depth': [None, 10, 20, 30, 40, 50, 60, 70, 80, 90, 100],\n",
        "    'min_samples_split': sp_randint(2, 11),\n",
        "    'min_samples_leaf': sp_randint(1, 11),\n",
        "    'max_features': ['auto', 'sqrt', None],\n",
        "    'bootstrap': [True, False]\n",
        "}\n",
        "\n",
        "# Create an instance of the RandomForestClassifier \n",
        "rfc = RandomForestClassifier()\n",
        "\n",
        "# Use Rando-mizedSearchCV to find the best hyperparameters\n",
        "random_search = RandomizedSearchCV(rfc, param_distributions=param_grid, n_iter=100, cv=5, random_state=42)\n",
        "\n",
        "# Fit the RandomizedSearchCV model to the data\n",
        "random_search.fit(x_train_res, y_train_res)\n",
        "\n",
        "# Print the best hyperparameters\n",
        "print(\"Best hyperparameters: \", random_search.best_params_)"
      ],
      "metadata": {
        "id": "hTVmDujQ3jJj",
        "colab": {
          "base_uri": "https://localhost:8080/",
          "height": 0
        },
        "outputId": "12f07780-6bc6-4c5e-a8f3-bd0af3b8a0f8"
      },
      "execution_count": 119,
      "outputs": [
        {
          "output_type": "stream",
          "name": "stdout",
          "text": [
            "Best hyperparameters:  {'bootstrap': False, 'max_depth': 40, 'max_features': 'auto', 'min_samples_leaf': 2, 'min_samples_split': 6, 'n_estimators': 33}\n"
          ]
        }
      ]
    },
    {
      "cell_type": "code",
      "source": [
        "rfc = RandomForestClassifier(bootstrap=False, max_depth=40, max_features='auto', \n",
        "                             min_samples_leaf=2, min_samples_split=6, n_estimators=33)\n",
        "\n",
        "# Fit the model to the training data\n",
        "rfc.fit(x_train_res, y_train_res)\n",
        "y_pred = rfc.predict(x_te)"
      ],
      "metadata": {
        "id": "SvwN-G7GQQdv"
      },
      "execution_count": 200,
      "outputs": []
    },
    {
      "cell_type": "code",
      "source": [
        "y_pred_proba = rfc.predict_proba(x_te)[:, 1]\n",
        "\n",
        "print(\"AUC-ROC: \", roc_auc_score(y_te, y_pred_proba))\n",
        "print(\"F1 Score: \", f1_score(y_te, y_pred))"
      ],
      "metadata": {
        "colab": {
          "base_uri": "https://localhost:8080/",
          "height": 0
        },
        "id": "i-GUzXG6QXd5",
        "outputId": "bb50ed67-b812-4a05-91db-c02cf405ce0a"
      },
      "execution_count": 201,
      "outputs": [
        {
          "output_type": "stream",
          "name": "stdout",
          "text": [
            "AUC-ROC:  0.9392263587248202\n",
            "F1 Score:  0.6226415094339622\n"
          ]
        }
      ]
    },
    {
      "cell_type": "code",
      "source": [
        "# Compute the probabilities of class 1 for the test set\n",
        "y_test_pred_proba = rfc.predict_proba(x_te)[:,1]\n",
        "\n",
        "# Compute the probabilities of class 1 for the training set\n",
        "y_train_pred_proba = rfc.predict_proba(x_train_res)[:,1]\n",
        "\n",
        "# Compute the ROC AUC for the test set\n",
        "fpr_test, tpr_test, _ = roc_curve(y_te, y_test_pred_proba)\n",
        "auc_test = roc_auc_score(y_te, y_test_pred_proba)\n",
        "\n",
        "# Compute the ROC AUC for the training set\n",
        "fpr_train, tpr_train, _ = roc_curve(y_train_res, y_train_pred_proba)\n",
        "auc_train = roc_auc_score(y_train_res, y_train_pred_proba)\n",
        "\n",
        "# Plot the ROC curve for the training set\n",
        "plt.plot(fpr_train, tpr_train, label='Train ROC (AUC = {:.2f})'.format(auc_train))\n",
        "\n",
        "# Plot the ROC curve for the test set\n",
        "plt.plot(fpr_test, tpr_test, label='Test ROC (AUC = {:.2f})'.format(auc_test))\n",
        "\n",
        "# Plot the diagonal line\n",
        "plt.plot([0, 1], [0, 1], linestyle='--', color='black')\n",
        "\n",
        "# Add labels and legend\n",
        "plt.xlabel('False Positive Rate')\n",
        "plt.ylabel('True Positive Rate')\n",
        "plt.grid()\n",
        "plt.legend()\n",
        "plt.show()"
      ],
      "metadata": {
        "colab": {
          "base_uri": "https://localhost:8080/",
          "height": 279
        },
        "id": "cBtMg5_RQdsq",
        "outputId": "f8e40d9c-62a6-47bf-a889-965a3aa05660"
      },
      "execution_count": 202,
      "outputs": [
        {
          "output_type": "display_data",
          "data": {
            "text/plain": [
              "<Figure size 432x288 with 1 Axes>"
            ],
            "image/png": "[encoded data removed]"
          },
          "metadata": {
            "needs_background": "light"
          }
        }
      ]
    },
    {
      "cell_type": "code",
      "source": [
        "from sklearn.metrics import confusion_matrix\n",
        "\n",
        "# Predict the labels of the test set\n",
        "y_test_pred = rfc.predict(x_te)\n",
        "\n",
        "# Compute the confusion matrix for the test set\n",
        "cm_test = confusion_matrix(y_te, y_test_pred)\n",
        "\n",
        "# Plot the confusion matrix for the test set\n",
        "sns.heatmap(cm_test, annot=True, fmt='d')\n",
        "plt.xlabel('Predicted Label')\n",
        "plt.ylabel('True Label')\n",
        "plt.title('Test Confusion Matrix')\n",
        "plt.show()\n",
        "\n",
        "# Predict the labels of the training set\n",
        "y_train_pred = rfc.predict(x_train_res)\n",
        "\n",
        "# Compute the confusion matrix for the training set\n",
        "cm_train = confusion_matrix(y_train_res, y_train_pred)\n",
        "\n",
        "# Plot the confusion matrix for the training set\n",
        "sns.heatmap(cm_train, annot=True, fmt='d')\n",
        "plt.xlabel('Predicted Label')\n",
        "plt.ylabel('True Label')\n",
        "plt.title('Train Confusion Matrix')\n",
        "plt.show()"
      ],
      "metadata": {
        "colab": {
          "base_uri": "https://localhost:8080/",
          "height": 573
        },
        "id": "MzAC8UwDzvEU",
        "outputId": "22b235b6-f110-46b9-b186-b20446d5bf17"
      },
      "execution_count": 204,
      "outputs": [
        {
          "output_type": "display_data",
          "data": {
            "text/plain": [
              "<Figure size 432x288 with 2 Axes>"
            ],
            "image/png": "[encoded data removed]"
          },
          "metadata": {
            "needs_background": "light"
          }
        },
        {
          "output_type": "display_data",
          "data": {
            "text/plain": [
              "<Figure size 432x288 with 2 Axes>"
            ],
            "image/png": "[encoded data removed]"
          },
          "metadata": {
            "needs_background": "light"
          }
        }
      ]
    },
    {
      "cell_type": "code",
      "source": [
        "y_test_pred = rfc.predict(x_te)\n",
        "precision = precision_score(y_te, y_test_pred)\n",
        "recall = recall_score(y_te, y_test_pred)\n",
        "cm = confusion_matrix(y_te, y_test_pred)\n",
        "\n",
        "print(\"Precision: {:.2f}\".format(precision))\n",
        "print(\"Recall: {:.2f}\".format(recall))\n",
        "print(\"Confusion Matrix:\")\n",
        "print(cm)\n",
        "\n",
        "y_train_pred = rfc.predict(x_train_res)\n",
        "precision = precision_score(y_train_res, y_train_pred)\n",
        "recall = recall_score(y_train_res, y_train_pred)\n",
        "cm = confusion_matrix(y_train_res, y_train_pred)\n",
        "\n",
        "print(\"\\nTrain Data:\")\n",
        "print(\"Precision: {:.2f}\".format(precision))\n",
        "print(\"Recall: {:.2f}\".format(recall))\n",
        "print(\"Confusion Matrix:\")\n",
        "print(cm)\n",
        "\n",
        "\n",
        "\n",
        "\n"
      ],
      "metadata": {
        "colab": {
          "base_uri": "https://localhost:8080/",
          "height": 0
        },
        "id": "L10aYkgJ1LLl",
        "outputId": "f35770e1-1df3-43f7-cc37-55c7696a76e9"
      },
      "execution_count": 206,
      "outputs": [
        {
          "output_type": "stream",
          "name": "stdout",
          "text": [
            "Precision: 0.60\n",
            "Recall: 0.65\n",
            "Confusion Matrix:\n",
            "[[1404   67]\n",
            " [  53   99]]\n",
            "\n",
            "Train Data:\n",
            "Precision: 1.00\n",
            "Recall: 1.00\n",
            "Confusion Matrix:\n",
            "[[3433    0]\n",
            " [   0 1716]]\n"
          ]
        }
      ]
    },
    {
      "cell_type": "markdown",
      "source": [
        "# As we have seen that we have got the precision is low and recall is high so our models are getting overfitting"
      ],
      "metadata": {
        "id": "TkSIRH2EPIQu"
      }
    },
    {
      "cell_type": "code",
      "source": [],
      "metadata": {
        "id": "bgqfmgkwl3uV"
      },
      "execution_count": null,
      "outputs": []
    },
    {
      "cell_type": "markdown",
      "source": [
        "# **NOW WILL ANALYZE THE PERFORMENCE OF ALL MODELS**"
      ],
      "metadata": {
        "id": "5wBbt3EUQ91V"
      }
    },
    {
      "cell_type": "code",
      "source": [
        "from prettytable import PrettyTable\n",
        "# refer: https://ptable.readthedocs.io/en/latest/tutorial.html\n",
        "# http://zetcode.com/python/prettytable/\n",
        "\n",
        "\n",
        "# here we are using the pretty table to show our model performence \n",
        "print(\"THIS IS LOGESTIC REGRESSION MODEL PERFORMENCE IN ALL COMBINATIONS\")\n",
        "table=PrettyTable()\n",
        "table.field_names = [ \"SI.N0\",\"MODEL\", \"SPLIT_RATIO\", \"F1_SCORE\", \"AUC_ROC_SCORE\",\"TRAIN AUC SCORE\",\" TEST AUC SCORE \"]\n",
        "table.add_row([1,\"LOGESTIC REGRESSION \", \"80:20\", 0.6379 ,0.94,  0.95, 0.93])\n",
        "table.add_row([2,\"LOGESTIC REGRESSION \", \"75:25\", 0.62 ,0.89,  0.96, 0.89])\n",
        "table.add_row([3,\"LOGESTIC REGRESSION \", \"65:35\", 0.63 ,0.9501 ,0.96, 0.89])\n",
        "table.add_row([4,\"LOGESTIC REGRESSION \", \"60:40\", 0.63 ,0.9515, 0.96,0.89])\n",
        "table.add_row([5,\"LOGESTIC REGRESSION \", \"50:50\", 0.65 ,0.949, 0.96,0.90])\n",
        "table.border = True\n",
        "table.header = True\n",
        "table.header_style = \"upper\"\n",
        "\n",
        "\n",
        "print(table)\n",
        "\n",
        "\n",
        "\n",
        "print(\"*********************************************************************************\")\n",
        "print(\"THIS IS SVM MODEL PERFOEMENCE WITH ALL COMBINATIONS\")\n",
        "table=PrettyTable()\n",
        "table.field_names = [ \"SI.N0\",\"MODEL\", \"SPLIT_RATIO\", \"F1_SCORE\", \"AUC_ROC_SCORE\",\"TRAIN AUC SCORE\",\" TEST AUC SCORE \"]\n",
        "table.add_row([1,\"SVM \", \"80:20\", 0.6323,0.89,    0.94,0.89])\n",
        "table.add_row([2,\"SVM \", \"75:25\", 0.59,0.887,   0.96,0.92])\n",
        "table.add_row([3,\"SVM \", \"65:35\", 0.60,  0.8876,  0.95,0.92])\n",
        "table.add_row([4,\"SVM \", \"60:40\", 0.61,0.8883 ,  0.96,0.92])\n",
        "table.add_row([5,\"SVM \", \"50:50\", 0.63,889 , 0.96,0.93])\n",
        "table.border = True\n",
        "table.header = True\n",
        "table.header_style = \"upper\"\n",
        "\n",
        "print(table)\n",
        "\n",
        "print(\"*************************************************************************************\")\n",
        "print(\"THIS IS DECISION TREE MODEL PERFORMENCE WITH DIFFERENT COMBINATION \")\n",
        "table=PrettyTable()\n",
        "table.field_names = [ \"SI.N0\",\"MODEL\", \"SPLIT_RATIO\", \"F1_SCORE\", \"AUC_ROC_SCORE\",\"TRAIN AUC SCORE\",\" TEST AUC SCORE \"]\n",
        "table.add_row([1,\"D.T \", \"80:20\", 0.6325,0.9330,    0.95,0.93])\n",
        "table.add_row([2,\"D.T_BEST_PARAMETES \", \"80:20\", 0.5262,0.86499,   0.94,0.94])\n",
        "table.add_row([3,\"D.T \", \"75:25\", 0.522105,  0.8402,  0.96,0.89])\n",
        "table.border = True\n",
        "table.header = True\n",
        "table.header_style = \"upper\"\n",
        "\n",
        "print(table)\n",
        "\n",
        "print(\"*************************************************************************************\")\n",
        "print(\"THIS IS NAIVE BIAS AND KNN  MODEL PERFORMENCE WITH DIFFERENT COMBINATION \")\n",
        "table=PrettyTable()\n",
        "table.field_names = [ \"SI.N0\",\"MODEL\", \"SPLIT_RATIO\", \"F1_SCORE\", \"AUC_ROC_SCORE\",\"TRAIN AUC SCORE\",\" TEST AUC SCORE \"]\n",
        "table.add_row([1,\"NAIVE BIAS \", \"80:20\", 0.6323,0.86,    0.95,0.88])\n",
        "table.add_row([2,\"NAIVE BIAS \", \"75:25\", 0.544,0.86,   0.94,0.88])\n",
        "table.add_row([3,\"KNN\", \"60:40\", 0.51,  0.8402,  1.00,0.88])\n",
        "table.border = True\n",
        "table.header = True\n",
        "table.header_style = \"upper\"\n",
        "\n",
        "print(table)\n",
        "print(\"*************************************************************************************\")\n",
        "\n",
        "print(\"THIS IS RANDOM FOREST  MODEL PERFORMENCE WITH DIFFERENT COMBINATION \")\n",
        "table=PrettyTable()\n",
        "table.field_names = [ \"SI.N0\",\"MODEL\", \"SPLIT_RATIO\", \"F1_SCORE\", \"AUC_ROC_SCORE\",\"TRAIN AUC SCORE\",\" TEST AUC SCORE \"]\n",
        "table.add_row([1,\"RANDOM FOREST  \", \"80:20\", 0.6323,0.7668,    1.00,0.94])\n",
        "table.add_row([2,\"RANDOM FOREST  \", \"50:50\", 0.62928,0.9291,   1.00,0.93])\n",
        "table.border = True\n",
        "table.header = True\n",
        "table.header_style = \"upper\"\n",
        "\n",
        "print(table)\n",
        "\n",
        "print(\"*********************************************************************************\")\n",
        "print(\"THIS IS XG BOOST MODEL PERFOEMENCE WITH ALL COMBINATIONS\")\n",
        "table=PrettyTable()\n",
        "table.field_names = [ \"SI.N0\",\"MODEL\", \"SPLIT_RATIO\", \"F1_SCORE\", \"AUC_ROC_SCORE\",\"TRAIN AUC SCORE\",\" TEST AUC SCORE \"]\n",
        "table.add_row([1,\"XG BOOST \", \"80:20\", 0.6321,0.9296,    1.00,0.93])\n",
        "table.add_row([2,\"XG BOOST \", \"65:35\", 0.59,0.93,   1.00,0.94])\n",
        "table.add_row([3,\"XG BOOST \", \"60:40\", 0.5133,  0.93332,  1.00,0.93])\n",
        "table.add_row([4,\"XG BOOST \", \"50:50\", 0.6260,0.9377 ,  1.00,0.93])\n",
        "table.border = True\n",
        "table.header = True\n",
        "table.header_style = \"upper\"\n",
        "\n",
        "print(table)\n",
        "\n",
        "\n",
        "\n",
        "\n",
        "\n",
        "\n",
        "\n",
        "\n",
        "\n",
        "\n"
      ],
      "metadata": {
        "colab": {
          "base_uri": "https://localhost:8080/",
          "height": 0
        },
        "id": "NyhNU6jIcPlP",
        "outputId": "686fff3d-251d-4a1f-934a-fb1e058be285"
      },
      "execution_count": 168,
      "outputs": [
        {
          "output_type": "stream",
          "name": "stdout",
          "text": [
            "THIS IS LOGESTIC REGRESSION MODEL PERFORMENCE IN ALL COMBINATIONS\n",
            "+-------+----------------------+-------------+----------+---------------+-----------------+------------------+\n",
            "| SI.N0 |        MODEL         | SPLIT_RATIO | F1_SCORE | AUC_ROC_SCORE | TRAIN AUC SCORE |  TEST AUC SCORE  |\n",
            "+-------+----------------------+-------------+----------+---------------+-----------------+------------------+\n",
            "|   1   | LOGESTIC REGRESSION  |    80:20    |  0.6379  |      0.94     |       0.95      |       0.93       |\n",
            "|   2   | LOGESTIC REGRESSION  |    75:25    |   0.62   |      0.89     |       0.96      |       0.89       |\n",
            "|   3   | LOGESTIC REGRESSION  |    65:35    |   0.63   |     0.9501    |       0.96      |       0.89       |\n",
            "|   4   | LOGESTIC REGRESSION  |    60:40    |   0.63   |     0.9515    |       0.96      |       0.89       |\n",
            "|   5   | LOGESTIC REGRESSION  |    50:50    |   0.65   |     0.949     |       0.96      |       0.9        |\n",
            "+-------+----------------------+-------------+----------+---------------+-----------------+------------------+\n",
            "*********************************************************************************\n",
            "THIS IS SVM MODEL PERFOEMENCE WITH ALL COMBINATIONS\n",
            "+-------+-------+-------------+----------+---------------+-----------------+------------------+\n",
            "| SI.N0 | MODEL | SPLIT_RATIO | F1_SCORE | AUC_ROC_SCORE | TRAIN AUC SCORE |  TEST AUC SCORE  |\n",
            "+-------+-------+-------------+----------+---------------+-----------------+------------------+\n",
            "|   1   |  SVM  |    80:20    |  0.6323  |      0.89     |       0.94      |       0.89       |\n",
            "|   2   |  SVM  |    75:25    |   0.59   |     0.887     |       0.96      |       0.92       |\n",
            "|   3   |  SVM  |    65:35    |   0.6    |     0.8876    |       0.95      |       0.92       |\n",
            "|   4   |  SVM  |    60:40    |   0.61   |     0.8883    |       0.96      |       0.92       |\n",
            "|   5   |  SVM  |    50:50    |   0.63   |      889      |       0.96      |       0.93       |\n",
            "+-------+-------+-------------+----------+---------------+-----------------+------------------+\n",
            "*************************************************************************************\n",
            "THIS IS DECISION TREE MODEL PERFORMENCE WITH DIFFERENT COMBINATION \n",
            "+-------+---------------------+-------------+----------+---------------+-----------------+------------------+\n",
            "| SI.N0 |        MODEL        | SPLIT_RATIO | F1_SCORE | AUC_ROC_SCORE | TRAIN AUC SCORE |  TEST AUC SCORE  |\n",
            "+-------+---------------------+-------------+----------+---------------+-----------------+------------------+\n",
            "|   1   |         D.T         |    80:20    |  0.6325  |     0.933     |       0.95      |       0.93       |\n",
            "|   2   | D.T_BEST_PARAMETES  |    80:20    |  0.5262  |    0.86499    |       0.94      |       0.94       |\n",
            "|   3   |         D.T         |    75:25    | 0.522105 |     0.8402    |       0.96      |       0.89       |\n",
            "+-------+---------------------+-------------+----------+---------------+-----------------+------------------+\n",
            "*************************************************************************************\n",
            "THIS IS NAIVE BIAS AND KNN  MODEL PERFORMENCE WITH DIFFERENT COMBINATION \n",
            "+-------+-------------+-------------+----------+---------------+-----------------+------------------+\n",
            "| SI.N0 |    MODEL    | SPLIT_RATIO | F1_SCORE | AUC_ROC_SCORE | TRAIN AUC SCORE |  TEST AUC SCORE  |\n",
            "+-------+-------------+-------------+----------+---------------+-----------------+------------------+\n",
            "|   1   | NAIVE BIAS  |    80:20    |  0.6323  |      0.86     |       0.95      |       0.88       |\n",
            "|   2   | NAIVE BIAS  |    75:25    |  0.544   |      0.86     |       0.94      |       0.88       |\n",
            "|   3   |     KNN     |    60:40    |   0.51   |     0.8402    |       1.0       |       0.88       |\n",
            "+-------+-------------+-------------+----------+---------------+-----------------+------------------+\n",
            "*************************************************************************************\n",
            "THIS IS RANDOM FOREST  MODEL PERFORMENCE WITH DIFFERENT COMBINATION \n",
            "+-------+-----------------+-------------+----------+---------------+-----------------+------------------+\n",
            "| SI.N0 |      MODEL      | SPLIT_RATIO | F1_SCORE | AUC_ROC_SCORE | TRAIN AUC SCORE |  TEST AUC SCORE  |\n",
            "+-------+-----------------+-------------+----------+---------------+-----------------+------------------+\n",
            "|   1   | RANDOM FOREST   |    80:20    |  0.6323  |     0.7668    |       1.0       |       0.94       |\n",
            "|   2   | RANDOM FOREST   |    50:50    | 0.62928  |     0.9291    |       1.0       |       0.93       |\n",
            "+-------+-----------------+-------------+----------+---------------+-----------------+------------------+\n",
            "*********************************************************************************\n",
            "THIS IS XG BOOST MODEL PERFOEMENCE WITH ALL COMBINATIONS\n",
            "+-------+-----------+-------------+----------+---------------+-----------------+------------------+\n",
            "| SI.N0 |   MODEL   | SPLIT_RATIO | F1_SCORE | AUC_ROC_SCORE | TRAIN AUC SCORE |  TEST AUC SCORE  |\n",
            "+-------+-----------+-------------+----------+---------------+-----------------+------------------+\n",
            "|   1   | XG BOOST  |    80:20    |  0.6321  |     0.9296    |       1.0       |       0.93       |\n",
            "|   2   | XG BOOST  |    65:35    |   0.59   |      0.93     |       1.0       |       0.94       |\n",
            "|   3   | XG BOOST  |    60:40    |  0.5133  |    0.93332    |       1.0       |       0.93       |\n",
            "|   4   | XG BOOST  |    50:50    |  0.626   |     0.9377    |       1.0       |       0.93       |\n",
            "+-------+-----------+-------------+----------+---------------+-----------------+------------------+\n"
          ]
        }
      ]
    },
    {
      "cell_type": "markdown",
      "source": [
        "# **OBSERVATION**\n",
        "\n",
        "**1.SINCE THIS IS MY FIRST CUT APPROCH FOR THE MODELING**\n",
        "**2. THE MOTO OF MY THIS FIRST CUT APPROCH APPROCH IS SINCE THIS IS HIGHLY IMBALANCD DATA SO AS WE HAVE RESEARCED THAT WILL USE SMOTE TECHNIQUE WITH OVERSAMPLING**\n",
        "\n",
        "**3. SO I HAVE BEEN ALL THE POSSIBLE COMBINATION OF DATASET RATIO USING SMOTE TECHNQUE**\n",
        "\n",
        "**4. I HAVE BEEN TREID MODELS LIKE LOGESTIC REGRESSION, SVM WITH GRID SEARCH, KNN, NAIVE BIAS, RANDOM FOREST WITH HYPERPARAMETER TUNNING , XGBOOST WITH HYPERPARAMETER TUNNING WITH THE DATASET COMBINATION FOR OVERSAMPLING FOR 80:20,75:25,65:35,60:40,50:50 WITH THESE ALL THE MODELS**\n",
        "\n",
        "**5.SINCE WE CAN OBSERVE THAT 80:20 COMBINATION WITH SMOTE OVERSAMPLING PERFORMIG BETTER THAN OTHER COMBINATIONS**\n",
        "\n",
        "**6. INTENTIONALLY I HAVE NOT TRIED THE ENSEMBLE TECHNIQUE SINCE THIS IS FIRST CUT APPROACH**\n",
        "\n",
        "**7. I HAVE OBSERVE LOGESTIC REGRESSION , SVM , RANDOM FOREST PERFORMING BETTER THAN OTHER MODEL**\n"
      ],
      "metadata": {
        "id": "xSwrgrx-_cqX"
      }
    },
    {
      "cell_type": "markdown",
      "source": [
        "# **CONCLUSION**\n",
        "\n",
        "**1. I HAVE CONCLUDED THAT WE HAVE TO USE THE ENSEMBLE TECHNIQUE FOR GETTING BETTER RESULT**\n",
        "\n",
        "**2. I THINK 80:20 SPLIT IS PERFORMING WELL WITH SMOTE OVERSAMPLING THAT I WILL USE AS DATASET COMBINATION in future in this case study**\n",
        "\n",
        "**3.I THINK WE HAVE TO GO WITH ENSEMBLE TECHNIQUES AND IN THE ENSEMBLE TECHNIQUES I WILL USE LOGESTIC REGRESSION , SVM , RANDOM FOREST, XG BOOST AS BASE LERNERS  TO GET BETTER RESULT**\n",
        "\n",
        "#4. THIS IS PERFORMENCE OF LOGESTIC REGRESSION \n",
        "Precision: 0.53\n",
        "Recall: 0.80\n",
        "Confusion Matrix:\n",
        "[[1363  108]\n",
        " [  30  122]]\n",
        "\n",
        "Train Data:\n",
        "Precision: 0.90\n",
        "Recall: 0.83\n",
        "Confusion Matrix:\n",
        "[[3177  256]\n",
        " [ 455 2291]]**\n",
        "\n",
        " **precision is moderate but recall is not good since this is claim fraud detection problem**\n",
        "\n",
        "**and we have research in the starting that false negative and false positive should as low as possible**\n",
        "\n",
        "#**but this is still making aroung model is overfitting  precision is low for train but for test is high **\n",
        "\n",
        "\n",
        " # so i think i have to go with ensemble technique with these models as base learners"
      ],
      "metadata": {
        "id": "CGBxJoOKBLix"
      }
    },
    {
      "cell_type": "code",
      "source": [],
      "metadata": {
        "id": "NwmnvMHjlqT8"
      },
      "execution_count": null,
      "outputs": []
    },
    {
      "cell_type": "code",
      "source": [],
      "metadata": {
        "id": "uyMug99UdmXG"
      },
      "execution_count": null,
      "outputs": []
    }
  ],
  "metadata": {
    "colab": {
      "provenance": []
    },
    "kernelspec": {
      "display_name": "Python 3",
      "name": "python3"
    },
    "language_info": {
      "name": "python"
    }
  },
  "nbformat": 4,
  "nbformat_minor": 0
}